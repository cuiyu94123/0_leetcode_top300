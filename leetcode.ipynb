{
 "cells": [
  {
   "cell_type": "markdown",
   "metadata": {},
   "source": [
    "# 数组双指针"
   ]
  },
  {
   "cell_type": "markdown",
   "metadata": {},
   "source": [
    "## 相向双指针"
   ]
  },
  {
   "cell_type": "markdown",
   "metadata": {},
   "source": [
    "### leetcode1 两数之和   top100"
   ]
  },
  {
   "cell_type": "code",
   "execution_count": null,
   "metadata": {},
   "outputs": [],
   "source": [
    "class Solution:\n",
    "    def twoSum(self, nums: List[int], target: int) -> List[int]:\n",
    "        # 排序\n",
    "        nums_copy=nums.copy()\n",
    "        nums.sort()\n",
    "        left=0\n",
    "        right=len(nums)-1\n",
    "        # 双指针移动\n",
    "        while left<right:\n",
    "            s= nums[left]+nums[right]\n",
    "            if s>target:\n",
    "                right-=1\n",
    "            elif s < target:\n",
    "                left+=1\n",
    "            else:\n",
    "                break\n",
    "        # 返回结果数组下标\n",
    "        res=[]\n",
    "        for i in range(len(nums)):\n",
    "            if nums_copy[i]==nums[left] or nums_copy[i]==nums[right]:\n",
    "                res.append(i)\n",
    "        return res"
   ]
  },
  {
   "cell_type": "markdown",
   "metadata": {},
   "source": [
    "### leetcode167 两数之和，输入有序数组 "
   ]
  },
  {
   "cell_type": "code",
   "execution_count": null,
   "metadata": {},
   "outputs": [],
   "source": [
    "class Solution:\n",
    "    def twoSum(self, numbers: List[int], target: int) -> List[int]:\n",
    "        left=0\n",
    "        right=len(numbers)-1\n",
    "        while left<right:\n",
    "            s=numbers[left]+numbers[right]\n",
    "            if s<target:\n",
    "                left+=1\n",
    "            elif s>target:\n",
    "                right-=1\n",
    "            else:\n",
    "                return [left+1,right+1]"
   ]
  },
  {
   "cell_type": "markdown",
   "metadata": {},
   "source": [
    "### leetcode15 三数之和   top100"
   ]
  },
  {
   "cell_type": "code",
   "execution_count": null,
   "metadata": {},
   "outputs": [],
   "source": [
    "class Solution:\n",
    "    def threeSum(self, nums: List[int]) -> List[List[int]]:\n",
    "        if not nums or len(nums)<3:\n",
    "            return []\n",
    "        # 排序\n",
    "        nums.sort()\n",
    "        res=[]\n",
    "        for i in range(len(nums)-2):\n",
    "            # 去重\n",
    "            if i>0 and nums[i]==nums[i-1]:\n",
    "                continue\n",
    "            left=i+1\n",
    "            right=len(nums)-1\n",
    "            # 双指针\n",
    "            while left<right:\n",
    "                s=nums[i]+nums[left]+nums[right]\n",
    "                if s>0:\n",
    "                    right-=1\n",
    "                elif s<0 :\n",
    "                    left+=1\n",
    "                else:\n",
    "                    res.append([nums[i],nums[left],nums[right]])\n",
    "                    # 去重\n",
    "                     while left<right and nums[left]==nums[left+1]:\n",
    "                        left+=1\n",
    "                    while left<right and nums[right]==nums[right-1]:\n",
    "                        right-=1\n",
    "                    left+=1\n",
    "                    right-=1\n",
    "        return res"
   ]
  },
  {
   "cell_type": "markdown",
   "metadata": {},
   "source": [
    "### leetcode16 最接近的三数之和 codetop"
   ]
  },
  {
   "cell_type": "code",
   "execution_count": null,
   "metadata": {},
   "outputs": [],
   "source": [
    "class Solution:\n",
    "    def threeSumClosest(self, nums: List[int], target: int) -> int:\n",
    "        # 排序\n",
    "        nums.sort()\n",
    "        a=abs(nums[0]+nums[1]+nums[2]-target)\n",
    "        res=nums[0]+nums[1]+nums[2]\n",
    "        # 三数之和，固定一个数\n",
    "        for i in range(len(nums)-2):\n",
    "            left=i+1\n",
    "            right=len(nums)-1\n",
    "            # 双指针\n",
    "            while left<right:\n",
    "                s=nums[i]+nums[left]+nums[right]\n",
    "                # 更新差值\n",
    "                if abs(s-target)<a:\n",
    "                    a=abs(s-target)\n",
    "                    res=s\n",
    "                if s>target:\n",
    "                    right-=1\n",
    "                elif s<target:\n",
    "                    left+=1\n",
    "                else:\n",
    "                    return s\n",
    "        return res"
   ]
  },
  {
   "cell_type": "markdown",
   "metadata": {},
   "source": [
    "### leetcode18 四数之和"
   ]
  },
  {
   "cell_type": "code",
   "execution_count": null,
   "metadata": {},
   "outputs": [],
   "source": [
    "class Solution:\n",
    "    def fourSum(self, nums: List[int], target: int) -> List[List[int]]:\n",
    "        if not nums or len(nums)<4:\n",
    "            return []\n",
    "        # 排序\n",
    "        nums.sort()\n",
    "        res=[]\n",
    "        # 四数之和，两重循环\n",
    "        for i in range(len(nums)-3):\n",
    "            if i>0 and nums[i]==nums[i-1]:\n",
    "                continue\n",
    "            # 加一些剪枝操作\n",
    "            if nums[i]+nums[i+1]+nums[i+2]+nums[i+3]>target:\n",
    "                break\n",
    "            if nums[i]+nums[len(nums)-1]+nums[len(nums)-2]+nums[len(nums)-3]<target:\n",
    "                continue\n",
    "            for j in range(i+1,len(nums)-2):\n",
    "                if j>i+1 and nums[j]==nums[j-1]:\n",
    "                    continue\n",
    "                # 剪枝\n",
    "                if nums[i]+nums[j]+nums[j+1]+nums[j+2]>target:\n",
    "                    break\n",
    "                if nums[i]+nums[j]+nums[len(nums)-1]+nums[len(nums)-2]<target:\n",
    "                    continue\n",
    "                left=j+1\n",
    "                right=len(nums)-1\n",
    "                while left<right:\n",
    "                    s=nums[i]+nums[j]+nums[left]+nums[right]\n",
    "                    if s>target:\n",
    "                        right-=1\n",
    "                    elif s<target:\n",
    "                        left+=1\n",
    "                    else:\n",
    "                        res.append([nums[i],nums[j],nums[left],nums[right]])\n",
    "                        # 去重\n",
    "                        while left<right and nums[left]==nums[left+1]:\n",
    "                            left+=1\n",
    "                        while left<right and nums[right]==nums[right-1]:\n",
    "                            right-=1\n",
    "                        left+=1\n",
    "                        right-=1\n",
    "        return res"
   ]
  },
  {
   "cell_type": "markdown",
   "metadata": {},
   "source": [
    "### leetcode11 盛水最多的容器 top100"
   ]
  },
  {
   "cell_type": "code",
   "execution_count": null,
   "metadata": {},
   "outputs": [],
   "source": [
    "class Solution:\n",
    "    def maxArea(self, height: List[int]) -> int:\n",
    "        left=0\n",
    "        right=len(height)-1\n",
    "        res=0\n",
    "        # 双指针，短边向内移动\n",
    "        while left < right:\n",
    "            if height[left]<height[right]:\n",
    "                res=max(height[left]*(right-left),res)\n",
    "                left+=1\n",
    "            else:\n",
    "                res=max(height[right]*(right-left),res)\n",
    "                right-=1\n",
    "        return res"
   ]
  },
  {
   "cell_type": "code",
   "execution_count": null,
   "metadata": {},
   "outputs": [],
   "source": [
    "#31 下一个排列 codetop\n",
    "todo\n",
    "# 两遍扫描\n",
    "class Solution:\n",
    "    def nextPermutation(self, nums: List[int]) -> None:\n",
    "        \"\"\"\n",
    "        Do not return anything, modify nums in-place instead.\n",
    "        \"\"\"\n",
    "        # 思路：找到左边尽可能靠右的较小数，以及其右边的较大数进行交换，然后对较小数之后的数字升序排列\n",
    "        if len(nums)<=1:\n",
    "            return nums\n",
    "        i=len(nums)-2\n",
    "        #1、从后往前找到第一对nums[i]<nums[i+1],[i+1,n]都是降序排列的\n",
    "        while i>=0 and nums[i]>=nums[i+1]:\n",
    "            i-=1\n",
    "        #2、从后往前找到第一个较小的较大数，与nums[i]交换位置即可\n",
    "        if i>=0:\n",
    "            j=len(nums)-1\n",
    "            while j>=0 and nums[i]>=nums[j]:\n",
    "                j-=1\n",
    "            nums[i],nums[j]=nums[j],nums[i]\n",
    "        #3、[i+1，n]的数字利用双指针进行倒序即可，变为升序排列，这样就可以尽可能小的变化得到下一个排列\n",
    "        left,right=i+1,len(nums)-1 \n",
    "        while left<right:\n",
    "            nums[left],nums[right]=nums[right],nums[left]\n",
    "            left+=1\n",
    "            right-=1\n",
    "        return nums"
   ]
  },
  {
   "cell_type": "markdown",
   "metadata": {},
   "source": [
    "### leetcode611 有效三角形的个数 codetop"
   ]
  },
  {
   "cell_type": "code",
   "execution_count": null,
   "metadata": {},
   "outputs": [],
   "source": [
    "class Solution:\n",
    "    def triangleNumber(self, nums: List[int]) -> int:\n",
    "        nums.sort()\n",
    "        count=0\n",
    "        # 双指针，固定第三边\n",
    "        for i in range(2,len(nums)):\n",
    "            left=0\n",
    "            right=i-1\n",
    "            while left<right:\n",
    "                # 这时候[left,right],[left+1,right]等均符合条件，所以count+=right-left\n",
    "                if nums[left]+nums[right]>nums[i]:\n",
    "                    count+=(right-left)\n",
    "                    right-=1\n",
    "                else :\n",
    "                    left+=1          \n",
    "        return count"
   ]
  },
  {
   "cell_type": "code",
   "execution_count": null,
   "metadata": {},
   "outputs": [],
   "source": [
    "# 125 验证回文子串 codetop\n",
    "class Solution:\n",
    "    def isPalindrome(self, s: str) -> bool:\n",
    "        #双指针，并原地对字符串元素进行判断\n",
    "        left,right=0,len(s)-1\n",
    "        while left<right:\n",
    "            while left<right and not s[left].isalnum():\n",
    "                left+=1\n",
    "            while left<right and not s[right].isalnum():\n",
    "                right-=1\n",
    "            if left<right:\n",
    "                if s[left].lower()!=s[right].lower():\n",
    "                    return False\n",
    "                else:\n",
    "                    left+=1\n",
    "                    right-=1\n",
    "        return True"
   ]
  },
  {
   "cell_type": "markdown",
   "metadata": {},
   "source": [
    "## 同向双指针 快慢指针"
   ]
  },
  {
   "cell_type": "markdown",
   "metadata": {},
   "source": [
    "### leetcode26 删除排序数组中的重复项 codetop"
   ]
  },
  {
   "cell_type": "code",
   "execution_count": null,
   "metadata": {},
   "outputs": [],
   "source": [
    "class Solution:\n",
    "    def removeDuplicates(self, nums: List[int]) -> int:\n",
    "        left=0\n",
    "        right=0\n",
    "        while right<len(nums):\n",
    "            if nums[left]==nums[right]:\n",
    "                right+=1\n",
    "            else:\n",
    "                # 快慢指针，遇到不重复的值时，left指针移动，nums[right]赋值给nums[left]\n",
    "                left+=1\n",
    "                nums[left]=nums[right]\n",
    "                right+=1\n",
    "        return left+1"
   ]
  },
  {
   "cell_type": "markdown",
   "metadata": {},
   "source": [
    "### leetcode27 移除元素 codetop"
   ]
  },
  {
   "cell_type": "code",
   "execution_count": null,
   "metadata": {},
   "outputs": [],
   "source": [
    "class Solution:\n",
    "    def removeElement(self, nums: List[int], val: int) -> int:\n",
    "        nums.sort()\n",
    "        left=0\n",
    "        right=0\n",
    "        # 快慢指针\n",
    "        while right<len(nums):\n",
    "            if nums[right]==val:\n",
    "                right+=1\n",
    "            else:\n",
    "                nums[left]=nums[right]\n",
    "                right+=1\n",
    "                left+=1\n",
    "        return left"
   ]
  },
  {
   "cell_type": "markdown",
   "metadata": {},
   "source": [
    "### leetcode80 删除排序数组中的重复项"
   ]
  },
  {
   "cell_type": "code",
   "execution_count": null,
   "metadata": {},
   "outputs": [],
   "source": [
    "class Solution:\n",
    "    def removeDuplicates(self, nums: List[int]) -> int:\n",
    "        left=0\n",
    "        right=1\n",
    "        count=1\n",
    "        while right<len(nums):\n",
    "            if nums[right]==nums[left]:\n",
    "                count+=1\n",
    "                if count==2:\n",
    "                    left+=1\n",
    "                    nums[left]=nums[right]\n",
    "                right+=1\n",
    "            else:\n",
    "                left+=1\n",
    "                nums[left]=nums[right]\n",
    "                count=1\n",
    "                right+=1\n",
    "        return left+1"
   ]
  },
  {
   "cell_type": "markdown",
   "metadata": {},
   "source": [
    "### leetcode283 移动零  top100"
   ]
  },
  {
   "cell_type": "code",
   "execution_count": null,
   "metadata": {},
   "outputs": [],
   "source": [
    "class Solution:\n",
    "    def moveZeroes(self, nums: List[int]) -> None:\n",
    "        \"\"\"\n",
    "        Do not return anything, modify nums in-place instead.\n",
    "        \"\"\"\n",
    "        i=0\n",
    "        j=0\n",
    "        while j<len(nums):\n",
    "#             快慢指针\n",
    "            if nums[j]==0:\n",
    "                j+=1\n",
    "            else:\n",
    "                nums[i]=nums[j]\n",
    "                i+=1\n",
    "                j+=1\n",
    "        for x in range(i,len(nums)):\n",
    "            nums[x]=0"
   ]
  },
  {
   "cell_type": "markdown",
   "metadata": {},
   "source": [
    "### lc151 颠倒字符串中的单词 codetop"
   ]
  },
  {
   "cell_type": "code",
   "execution_count": null,
   "metadata": {},
   "outputs": [],
   "source": [
    "#151 颠倒字符串中的单词 codetop\n",
    "class Solution:\n",
    "    def reverseWords(self, s: str) -> str:\n",
    "        #最直接的思路\n",
    "        # return ' '.join(reversed(s.split()))\n",
    "        #采用双指针的思路，从后往前依次获取word\n",
    "        s=s.strip()\n",
    "        i=j=len(s)-1\n",
    "        res=[]\n",
    "        while i>=0:\n",
    "            #遍历单词\n",
    "            while i>=0 and s[i]!=' ':\n",
    "                i-=1\n",
    "            res.append(s[i+1:j+1])\n",
    "            #遍历空格跳过\n",
    "            while i>=0 and s[i]==' ':\n",
    "                i-=1\n",
    "            j=i\n",
    "        return ' '.join(res)"
   ]
  },
  {
   "cell_type": "markdown",
   "metadata": {},
   "source": [
    "### leetcode845 数组中的最长山脉"
   ]
  },
  {
   "cell_type": "code",
   "execution_count": null,
   "metadata": {},
   "outputs": [],
   "source": [
    "class Solution:\n",
    "    def longestMountain(self, arr: List[int]) -> int:\n",
    "        # 注意边界条件\n",
    "        if len(arr)<3:\n",
    "            return 0\n",
    "        res=0\n",
    "        # 固定山峰，左右指针分别逼近山脉左侧以及右侧\n",
    "        for i in range(1,len(arr)-1):\n",
    "            if arr[i]>arr[i-1] and arr[i]>arr[i+1]:\n",
    "                left=i-1\n",
    "                right=i+1\n",
    "                # 注意边界条件\n",
    "                while left>=0 and arr[left]<arr[left+1]:\n",
    "                    left-=1\n",
    "                while right<len(arr) and arr[right]<arr[right-1]:\n",
    "                    right+=1\n",
    "                # 注意边界条件\n",
    "                lens=right-left-1\n",
    "                if lens>res:\n",
    "                    res=lens\n",
    "        return res"
   ]
  },
  {
   "cell_type": "markdown",
   "metadata": {},
   "source": [
    "### lc75 颜色分类 codetop"
   ]
  },
  {
   "cell_type": "code",
   "execution_count": null,
   "metadata": {},
   "outputs": [],
   "source": [
    "# 75 颜色分类 codetop\n",
    "class Solution:\n",
    "    def sortColors(self, nums: List[int]) -> None:\n",
    "        \"\"\"\n",
    "        Do not return anything, modify nums in-place instead.\n",
    "        \"\"\"\n",
    "        # #单指针：2次遍历，先交换0 ，再交换1\n",
    "        # p0=0\n",
    "        # for i in range(len(nums)):\n",
    "        #     if nums[i]==0:\n",
    "        #         nums[p0],nums[i]=nums[i],nums[p0]\n",
    "        #         p0+=1\n",
    "        # for i in range(p0,len(nums)):\n",
    "        #     if nums[i]==1:\n",
    "        #         nums[p0],nums[i]=nums[i],nums[p0]\n",
    "        #         p0+=1\n",
    "        # return nums\n",
    "\n",
    "        #双指针：p0左侧是0，p1左侧是1\n",
    "        p0,p1=0,0\n",
    "        for i in range(len(nums)):\n",
    "            if nums[i]==1:\n",
    "                nums[p1],nums[i]=nums[i],nums[p1]\n",
    "                p1+=1\n",
    "            elif nums[i]==0:\n",
    "                nums[p0],nums[i]=nums[i],nums[p0]\n",
    "                if p0<p1:\n",
    "                    nums[p1],nums[i]=nums[i],nums[p1] #当p0<p1时，上一步操作会把1交换出去，所以在和p1指针交换一次，1就交换回去了\n",
    "                p0+=1\n",
    "                p1+=1\n",
    "        return nums"
   ]
  },
  {
   "cell_type": "markdown",
   "metadata": {},
   "source": [
    "### 剑指offer21 调换数组顺序，奇数在前偶数在后  codetop"
   ]
  },
  {
   "cell_type": "code",
   "execution_count": null,
   "metadata": {},
   "outputs": [],
   "source": [
    "# 剑指offer21 调换数组顺序，奇数在前偶数在后  codetop\n",
    "class Solution:\n",
    "    def exchange(self, nums: List[int]) -> List[int]:\n",
    "        # 双指针：left判断奇数，right判断偶数，都不满足条件时，交换元素即可\n",
    "        left,right=0,len(nums)-1\n",
    "        while left<right:\n",
    "            while left<right and nums[left]%2==1:\n",
    "                left+=1\n",
    "            while left<right and nums[right]%2==0:\n",
    "                right-=1\n",
    "            nums[left],nums[right]=nums[right],nums[left]\n",
    "            # left+=1\n",
    "            # right-=1\n",
    "        return nums"
   ]
  },
  {
   "cell_type": "markdown",
   "metadata": {},
   "source": [
    "## 同向双指针 滑动窗口"
   ]
  },
  {
   "cell_type": "markdown",
   "metadata": {},
   "source": [
    "### leetcode209 长度最小的子数组 codetop"
   ]
  },
  {
   "cell_type": "code",
   "execution_count": null,
   "metadata": {},
   "outputs": [],
   "source": [
    "class Solution:\n",
    "    def minSubArrayLen(self, target: int, nums: List[int]) -> int:\n",
    "        left=0\n",
    "        res=float('inf')\n",
    "        sums=0\n",
    "        # 移动右指针，满足sum条件之后，不断缩小左边界，更新res长度值\n",
    "        for right in range(len(nums)):\n",
    "            sums+=nums[right]\n",
    "            while sums>=target:\n",
    "                if right-left+1<res:\n",
    "                    res=right-left+1\n",
    "                sums-=nums[left]\n",
    "                left+=1\n",
    "        return 0 if res==float('inf') else res"
   ]
  },
  {
   "cell_type": "markdown",
   "metadata": {},
   "source": [
    "### lc3 无重复字符的最长子串 codetop"
   ]
  },
  {
   "cell_type": "code",
   "execution_count": null,
   "metadata": {},
   "outputs": [],
   "source": [
    "#3 无重复字符的最长子串 codetop\n",
    "class Solution:\n",
    "    def lengthOfLongestSubstring(self, s: str) -> int:\n",
    "        if len(s)<=1:\n",
    "            return len(s)\n",
    "        right=0\n",
    "        maxlen=1\n",
    "        sub_set=set()\n",
    "        for left in range(len(s)):#遍历s，记录以每一个字符开始的无重复字符串的长度\n",
    "            if left>0:\n",
    "                sub_set.remove(s[left-1])\n",
    "            while right<len(s) and s[right] not in sub_set:\n",
    "                sub_set.add(s[right])\n",
    "                right+=1\n",
    "            maxlen=max(maxlen,right-left)\n",
    "        return maxlen\n"
   ]
  },
  {
   "cell_type": "markdown",
   "metadata": {},
   "source": [
    "### lc239 滑动窗口最大值  codetop  难题"
   ]
  },
  {
   "cell_type": "code",
   "execution_count": null,
   "metadata": {},
   "outputs": [],
   "source": [
    "# 239 滑动窗口最大值  codetop  难题\n",
    "class Solution:\n",
    "    def maxSlidingWindow(self, nums: List[int], k: int) -> List[int]:\n",
    "        if not nums or len(nums)<k:\n",
    "            return []\n",
    "        qmax=[]\n",
    "        res=[]\n",
    "        for i in range(len(nums)):\n",
    "            while qmax and nums[i]>nums[qmax[-1]]:\n",
    "                qmax.pop()\n",
    "            # qmax[0]存储窗口最大值索引\n",
    "            qmax.append(i)\n",
    "            if qmax[0]<=i-k:#判断窗口最大值索引是否过期\n",
    "                qmax.pop(0)\n",
    "            if i-k+1>=0: \n",
    "                res.append(nums[qmax[0]])\n",
    "        return res"
   ]
  },
  {
   "cell_type": "markdown",
   "metadata": {},
   "source": [
    "### leetcode713 乘积小于k的子数组"
   ]
  },
  {
   "cell_type": "code",
   "execution_count": null,
   "metadata": {},
   "outputs": [],
   "source": [
    "class Solution:\n",
    "    def numSubarrayProductLessThanK(self, nums: List[int], k: int) -> int:\n",
    "        left=0\n",
    "        product=1\n",
    "        count=0\n",
    "        # 不断右移右指针，当product>=k时，left右移缩小窗口\n",
    "        for right in range(len(nums)):\n",
    "            product*=nums[right]\n",
    "            while left<=right and product>=k:\n",
    "                product/=nums[left]\n",
    "                left+=1\n",
    "            count+=right-left+1\n",
    "        return count"
   ]
  },
  {
   "cell_type": "markdown",
   "metadata": {},
   "source": [
    "### lc76 最小覆盖子串  codetop"
   ]
  },
  {
   "cell_type": "code",
   "execution_count": null,
   "metadata": {},
   "outputs": [],
   "source": [
    "# 76 最小覆盖子串  codetop\n",
    "# todo\n",
    "class Solution:\n",
    "    def minWindow(self, s: str, t: str) -> str:\n",
    "        # 滑动窗口\n",
    "        # 构建词典记录每个字符需要的次数，遍历每个字符，直到所有的字符已出现，然后开始缩小左窗口，去除不需要的字符直到不能去除为止\n",
    "        need=collections.defaultdict(int)\n",
    "        needCnt=0\n",
    "        for ch in t:\n",
    "            need[ch]+=1\n",
    "            needCnt+=1\n",
    "        i=0\n",
    "        left=0\n",
    "        right=float('inf')\n",
    "        for j,ch in enumerate(s):\n",
    "            if need[ch]>0:\n",
    "                needCnt-=1\n",
    "            need[ch]-=1\n",
    "            if needCnt==0:\n",
    "                while need[s[i]]<0:\n",
    "                    need[s[i]]+=1\n",
    "                    i+=1\n",
    "                if j-i<right-left:\n",
    "                    left=i\n",
    "                    right=j\n",
    "                need[s[i]]+=1\n",
    "                needCnt+=1\n",
    "                i+=1\n",
    "        return s[left:right+1] if right!=float('inf') else ''"
   ]
  },
  {
   "cell_type": "markdown",
   "metadata": {},
   "source": [
    "## 分离双指针"
   ]
  },
  {
   "cell_type": "markdown",
   "metadata": {},
   "source": [
    "### leetcode350 两个数组的交集 codetop"
   ]
  },
  {
   "cell_type": "code",
   "execution_count": null,
   "metadata": {},
   "outputs": [],
   "source": [
    "class Solution:\n",
    "    def intersect(self, nums1: List[int], nums2: List[int]) -> List[int]:\n",
    "        # 排序\n",
    "        nums1.sort()\n",
    "        nums2.sort()\n",
    "        i=0\n",
    "        j=0\n",
    "        res=[]\n",
    "        # 小的数字，指针往前走，直到达到边界条件\n",
    "        while i<len(nums1) and j<len(nums2):\n",
    "            if nums1[i]<nums2[j]:\n",
    "                i+=1\n",
    "            elif nums1[i]>nums2[j]:\n",
    "                j+=1\n",
    "            else:\n",
    "                res.append(nums1[i])\n",
    "                i+=1\n",
    "                j+=1\n",
    "        return res"
   ]
  },
  {
   "cell_type": "markdown",
   "metadata": {},
   "source": [
    "### leetcode349 两个数组的交集 不重复 codetop"
   ]
  },
  {
   "cell_type": "code",
   "execution_count": null,
   "metadata": {},
   "outputs": [],
   "source": [
    "#同上350，去重即可"
   ]
  },
  {
   "cell_type": "markdown",
   "metadata": {},
   "source": [
    "### lc128最长连续序列 codetop "
   ]
  },
  {
   "cell_type": "code",
   "execution_count": null,
   "metadata": {},
   "outputs": [],
   "source": [
    "# 128最长连续序列 codetop \n",
    "# todo\n",
    "class Solution:\n",
    "    def longestConsecutive(self, nums: List[int]) -> int:\n",
    "        #采用哈希表&双层遍历\n",
    "        if len(nums)<=1:\n",
    "            return len(nums)\n",
    "        nums_set=set(nums)\n",
    "        max_seq=1\n",
    "        #如果num-1存在，则跳过，因为从较小的数开始进入内层遍历\n",
    "        #因为只有是连续序列的第一个数才会进入内层循环，其余会跳过，数组中的只会进入内层循环一次，所以时间复杂度是O(n)\n",
    "        for num in nums_set:\n",
    "            if num-1 not in nums_set:\n",
    "                cur_num=num\n",
    "                cur_seq=1\n",
    "                while cur_num+1 in nums_set:\n",
    "                    cur_seq+=1\n",
    "                    cur_num+=1\n",
    "                max_seq=max(max_seq,cur_seq)\n",
    "        return max_seq"
   ]
  },
  {
   "cell_type": "markdown",
   "metadata": {},
   "source": [
    "# 栈和队列"
   ]
  },
  {
   "cell_type": "markdown",
   "metadata": {},
   "source": [
    "### leetcode20 有效括号  top100"
   ]
  },
  {
   "cell_type": "code",
   "execution_count": null,
   "metadata": {},
   "outputs": [],
   "source": [
    "class Solution:\n",
    "    def isValid(self, s: str) -> bool:\n",
    "        '''\n",
    "        使用栈的思路去解决，遇到左括号就进栈，遇到右括号就出栈一个左括号与其比较，不匹配就返回false，最后stack为空，则括号完全匹配\n",
    "        '''\n",
    "        stack=[]\n",
    "        for ch in s:\n",
    "            if ch in ['(','{','[']:\n",
    "                stack.append(ch)\n",
    "            else:\n",
    "                if stack:\n",
    "                    left=stack.pop()\n",
    "                else:\n",
    "                    return False\n",
    "                if (left=='('and ch==')') or (left=='{'and ch=='}') or (left=='['and ch==']'):\n",
    "                    continue\n",
    "                else:\n",
    "                    return False\n",
    "        if stack==[]:\n",
    "            return True\n",
    "        else:\n",
    "            return False"
   ]
  },
  {
   "cell_type": "markdown",
   "metadata": {},
   "source": [
    "### lc227基本计算器2 codetop"
   ]
  },
  {
   "cell_type": "code",
   "execution_count": null,
   "metadata": {},
   "outputs": [],
   "source": [
    "# 227基本计算器2 codetop\n",
    "# todo\n",
    "class Solution:\n",
    "    def calculate(self, s: str) -> int:\n",
    "        #栈 使用一个栈来存储数字即可，最后sum就可以了\n",
    "        n=len(s)\n",
    "        num=0\n",
    "        presign='+' #数字前的符号\n",
    "        stack=[]\n",
    "        for i in range(n):\n",
    "            if s[i].isdigit():\n",
    "                num=num*10+ord(s[i])-ord('0')\n",
    "            if s[i] in ['+','-','*','/'] or i==n-1:\n",
    "                if presign=='+':\n",
    "                    stack.append(num)\n",
    "                elif presign=='-':\n",
    "                    stack.append(-num)\n",
    "                elif presign=='*':\n",
    "                    stack.append(stack.pop()*num)  #这样就可以先算乘除\n",
    "                elif presign=='/':\n",
    "                    stack.append(int(stack.pop()/num))\n",
    "                num=0\n",
    "                presign=s[i]\n",
    "        return sum(stack)#最后加减"
   ]
  },
  {
   "cell_type": "markdown",
   "metadata": {},
   "source": [
    "### lc394 字符串解码 codetop"
   ]
  },
  {
   "cell_type": "code",
   "execution_count": null,
   "metadata": {},
   "outputs": [],
   "source": [
    "# 394 字符串解码 codetop\n",
    "# todo\n",
    "class Solution:\n",
    "    def decodeString(self, s: str) -> str:\n",
    "        #左括号进栈，重置子串以及multi，并进栈之前的res及倍数，右括号出栈，当前的res=新子串*倍数+老子串\n",
    "        stack,res,multi=[],'',0\n",
    "        for c in s:\n",
    "            if c=='[':\n",
    "                stack.append([res,multi])\n",
    "                res,multi='',0\n",
    "            elif c==']':\n",
    "                last_res,cur_multi=stack.pop()\n",
    "                res=last_res+cur_multi*res\n",
    "            elif '0'<=c<='9':\n",
    "                multi=multi*10+int(c)\n",
    "            else:\n",
    "                res+=c\n",
    "        return res"
   ]
  },
  {
   "cell_type": "markdown",
   "metadata": {},
   "source": [
    "### leetcode232 用栈实现队列"
   ]
  },
  {
   "cell_type": "code",
   "execution_count": null,
   "metadata": {},
   "outputs": [],
   "source": [
    "class MyQueue:\n",
    "\n",
    "    def __init__(self):\n",
    "        \"\"\"\n",
    "        Initialize your data structure here.\n",
    "        \"\"\"\n",
    "        # 栈s1用于维护队列元素的顺序，保证先进的元素在队尾\n",
    "        self.s1=[]\n",
    "        self.s2=[]\n",
    "\n",
    "\n",
    "\n",
    "    def push(self, x: int) -> None:\n",
    "        \"\"\"\n",
    "        Push element x to the back of queue.\n",
    "        \"\"\"\n",
    "        # 栈s1用于维护队列元素的顺序，保证先进的元素在队尾\n",
    "        while self.s1:\n",
    "            self.s2.append(self.s1.pop())\n",
    "        self.s1.append(x)\n",
    "        while self.s2:\n",
    "            self.s1.append(self.s2.pop())\n",
    "        \n",
    "\n",
    "    def pop(self) -> int:\n",
    "        \"\"\"\n",
    "        Removes the element from in front of queue and returns that element.\n",
    "        \"\"\"\n",
    "        return self.s1.pop()\n",
    "\n",
    "\n",
    "    def peek(self) -> int:\n",
    "        \"\"\"\n",
    "        Get the front element.\n",
    "        \"\"\"\n",
    "        return self.s1[-1]\n",
    "\n",
    "\n",
    "    def empty(self) -> bool:\n",
    "        \"\"\"\n",
    "        Returns whether the queue is empty.\n",
    "        \"\"\"\n",
    "        return not self.s1"
   ]
  },
  {
   "cell_type": "markdown",
   "metadata": {},
   "source": [
    "### lc225 队列实现栈 codetop"
   ]
  },
  {
   "cell_type": "code",
   "execution_count": null,
   "metadata": {},
   "outputs": [],
   "source": [
    "# 225 队列实现栈 codetop\n",
    "class MyStack:\n",
    "\n",
    "    def __init__(self):\n",
    "        self.queue1=collections.deque() #代表需要实现的栈\n",
    "        self.queue2=collections.deque() #辅助队列\n",
    "\n",
    "    def push(self, x: int) -> None:\n",
    "        self.queue2.append(x)#使得后进元素在左端点 key\n",
    "        while self.queue1:\n",
    "            self.queue2.append(self.queue1.popleft())\n",
    "        self.queue1,self.queue2=self.queue2,self.queue1 #最终queue1中存储的元素就是左端点是后进元素\n",
    "\n",
    "    def pop(self) -> int:\n",
    "        return self.queue1.popleft()\n",
    "\n",
    "    def top(self) -> int:\n",
    "        return self.queue1[0]\n",
    "\n",
    "    def empty(self) -> bool:\n",
    "        return not self.queue1"
   ]
  },
  {
   "cell_type": "markdown",
   "metadata": {},
   "source": [
    "### lc155 最小栈 codetop"
   ]
  },
  {
   "cell_type": "code",
   "execution_count": null,
   "metadata": {},
   "outputs": [],
   "source": [
    "# 155 最小栈 codetop\n",
    "class MinStack:\n",
    "#采用辅助栈的思路，stack minstack同进同出，minstack保存当前stack中的最小值\n",
    "    def __init__(self):\n",
    "        self.stack=[]\n",
    "        self.min_stack=[float('inf')]\n",
    "        \n",
    "    def push(self, val: int) -> None:\n",
    "        self.stack.append(val)\n",
    "        self.min_stack.append(min(val,self.min_stack[-1])) #key\n",
    "\n",
    "    def pop(self) -> None:\n",
    "        self.min_stack.pop()\n",
    "        self.stack.pop()\n",
    "\n",
    "    def top(self) -> int:\n",
    "        return self.stack[-1]\n",
    "\n",
    "    def getMin(self) -> int:\n",
    "        return self.min_stack[-1]"
   ]
  },
  {
   "cell_type": "markdown",
   "metadata": {},
   "source": [
    "### leetcode239 生成窗口最大值数组   top100"
   ]
  },
  {
   "cell_type": "code",
   "execution_count": null,
   "metadata": {},
   "outputs": [],
   "source": [
    "class Solution:\n",
    "    def maxSlidingWindow(self, nums: List[int], k: int) -> List[int]:\n",
    "        if not nums or len(nums)<k :\n",
    "            return None\n",
    "        qmax=[]\n",
    "        res=[]\n",
    "        for i in range(len(nums)):\n",
    "            while qmax and nums[qmax[-1]]<=nums[i]:\n",
    "                qmax.pop()\n",
    "            # 使用qmax[0]来维持窗口最大值索引 \n",
    "            qmax.append(i)\n",
    "            # 检查窗口最大值是否过期，例qmax[0]是0，i是3，则窗口最大值已过期\n",
    "            if qmax[0]<=i-k:\n",
    "                qmax.pop(0)\n",
    "            # 窗口为3，步长为1，把最大值append进res列表 \n",
    "            if i-k+1>=0:\n",
    "                res.append(nums[qmax[0]])\n",
    "        return res"
   ]
  },
  {
   "cell_type": "markdown",
   "metadata": {},
   "source": [
    "### lc739 每日温度（找到后续最近的最大值的索引位置） codetop"
   ]
  },
  {
   "cell_type": "code",
   "execution_count": null,
   "metadata": {},
   "outputs": [],
   "source": [
    "# 739 每日温度（找到后续最近的最大值的索引位置） codetop\n",
    "# todo\n",
    "class Solution:\n",
    "    def dailyTemperatures(self, temperatures: List[int]) -> List[int]:\n",
    "        #遍历数组，使用栈存储index，下一个元素比栈顶元素大，则出栈，并更新res值\n",
    "        res=[0]*len(temperatures)\n",
    "        stack=[]\n",
    "        for i  in range(len(temperatures)):\n",
    "            while stack and temperatures[i]>temperatures[stack[-1]]: #也就是当前元素值大于栈顶对应的元素值时，就可以更新历史索引对应的结果了\n",
    "                pre_index=stack.pop()\n",
    "                res[pre_index]=i-pre_index # 更新栈顶元素所对应的res值\n",
    "            stack.append(i)\n",
    "        return res"
   ]
  },
  {
   "cell_type": "markdown",
   "metadata": {},
   "source": [
    "# 链表"
   ]
  },
  {
   "cell_type": "markdown",
   "metadata": {},
   "source": [
    "## 链表的基本操作类题目"
   ]
  },
  {
   "cell_type": "markdown",
   "metadata": {},
   "source": [
    "### leetcode203 移除链表元素"
   ]
  },
  {
   "cell_type": "code",
   "execution_count": null,
   "metadata": {},
   "outputs": [],
   "source": [
    "# Definition for singly-linked list.\n",
    "# class ListNode:\n",
    "#     def __init__(self, val=0, next=None):\n",
    "#         self.val = val\n",
    "#         self.next = next\n",
    "class Solution:\n",
    "    def removeElements(self, head: ListNode, val: int) -> ListNode:\n",
    "        # 需要对头节点进行操作时，创建虚拟头节点\n",
    "        dummy=ListNode(0)\n",
    "        dummy.next=head\n",
    "        cur=dummy\n",
    "        while cur.next!=None:\n",
    "            # 如果下一个节点值为特殊值，则当前指针指向下下个节点，指针不动\n",
    "            if cur.next.val==val:\n",
    "                cur.next=cur.next.next\n",
    "            # 否则移动当前指针\n",
    "            else:\n",
    "                cur=cur.next\n",
    "        return dummy.next"
   ]
  },
  {
   "cell_type": "markdown",
   "metadata": {},
   "source": [
    "### leetcode237 删除链表中的节点"
   ]
  },
  {
   "cell_type": "code",
   "execution_count": null,
   "metadata": {},
   "outputs": [],
   "source": [
    "class Solution:\n",
    "    def deleteNode(self, node):\n",
    "        \"\"\"\n",
    "        :type node: ListNode\n",
    "        :rtype: void Do not return anything, modify node in-place instead.\n",
    "        \"\"\"\n",
    "        # 把删除节点的下一个节点的值赋值给当前节点，然后删除下一个节点\n",
    "        node.val=node.next.val\n",
    "        node.next=node.next.next"
   ]
  },
  {
   "cell_type": "markdown",
   "metadata": {},
   "source": [
    "### lc146 LRU缓存机制 codetop  双向链表+哈希"
   ]
  },
  {
   "cell_type": "code",
   "execution_count": null,
   "metadata": {},
   "outputs": [],
   "source": [
    "# 146 LRU缓存机制 codetop  双向链表+哈希\n",
    "# todo\n",
    "class DlinkedNode:\n",
    "    def __init__(self,key=0,value=0):\n",
    "        self.key=key\n",
    "        self.value=value\n",
    "        self.pre=None\n",
    "        self.next=None\n",
    "\n",
    "class LRUCache:\n",
    "    def __init__(self, capacity: int):\n",
    "        self.cache=dict()\n",
    "        self.capacity=capacity\n",
    "        self.size=0\n",
    "        self.head=DlinkedNode()\n",
    "        self.tail=DlinkedNode()\n",
    "        self.head.next=self.tail\n",
    "        self.tail.pre=self.head\n",
    "        \n",
    "\n",
    "    def get(self, key: int) -> int:\n",
    "        if key not in self.cache:\n",
    "            return -1\n",
    "        else:\n",
    "            node=self.cache[key]\n",
    "            self.removeToHead(node)\n",
    "            return node.value\n",
    "\n",
    "    def put(self, key: int, value: int) -> None:\n",
    "        if key not in self.cache:\n",
    "            node=DlinkedNode(key=key,value=value)#双向链表+哈希表实现\n",
    "            self.cache[key]=node\n",
    "            self.addToHead(node)\n",
    "            self.size+=1\n",
    "            if self.size>self.capacity:\n",
    "                node=self.removeTail()\n",
    "                self.cache.pop(node.key) #字典中删除\n",
    "                self.size-=1\n",
    "        else:\n",
    "            node=self.cache[key]\n",
    "            node.value=value\n",
    "            self.removeToHead(node)\n",
    "        \n",
    "    def addToHead(self,node):\n",
    "        node.pre=self.head\n",
    "        node.next=self.head.next\n",
    "        self.head.next.pre=node\n",
    "        self.head.next=node\n",
    "\n",
    "    def removeNode(self,node):\n",
    "        node.pre.next=node.next\n",
    "        node.next.pre=node.pre\n",
    "\n",
    "    def removeToHead(self,node):\n",
    "        self.removeNode(node)\n",
    "        self.addToHead(node)\n",
    "    \n",
    "    def removeTail(self):\n",
    "        node=self.tail.pre\n",
    "        self.removeNode(node)\n",
    "        return node"
   ]
  },
  {
   "cell_type": "markdown",
   "metadata": {},
   "source": [
    "### leetcode86 分隔链表"
   ]
  },
  {
   "cell_type": "code",
   "execution_count": null,
   "metadata": {},
   "outputs": [],
   "source": [
    "class Solution:\n",
    "    def partition(self, head: ListNode, x: int) -> ListNode:\n",
    "        # 创建2个新链表，一个存放<x，一个存放>x的，然后把2个链表头尾连接起来\n",
    "        l1=ListNode(0)\n",
    "        l2=ListNode(0)\n",
    "        head1=l1\n",
    "        head2=l2\n",
    "        cur=head\n",
    "        while cur!=None:\n",
    "            if cur.val<x:\n",
    "                l1.next=ListNode(cur.val)\n",
    "                l1=l1.next\n",
    "            else:\n",
    "                l2.next=ListNode(cur.val)\n",
    "                l2=l2.next\n",
    "            cur=cur.next\n",
    "        l1.next=head2.next\n",
    "        return head1.next"
   ]
  },
  {
   "cell_type": "markdown",
   "metadata": {},
   "source": [
    "### leetcode24 两两交换链表中的节点 codetop"
   ]
  },
  {
   "cell_type": "code",
   "execution_count": null,
   "metadata": {},
   "outputs": [],
   "source": [
    "class Solution:\n",
    "    def swapPairs(self, head: ListNode) -> ListNode:\n",
    "        dummy=ListNode(0)\n",
    "        dummy.next=head\n",
    "        pre=dummy\n",
    "        # 注意边界条件\n",
    "        while pre.next!=None and pre.next.next!=None:\n",
    "            a=pre.next\n",
    "            b=pre.next.next\n",
    "            # 两两交换\n",
    "            pre.next=b\n",
    "            a.next=b.next\n",
    "            b.next=a\n",
    "            pre=pre.next.next\n",
    "        return dummy.next"
   ]
  },
  {
   "cell_type": "markdown",
   "metadata": {},
   "source": [
    "### leetcode61 旋转链表 codetop"
   ]
  },
  {
   "cell_type": "code",
   "execution_count": null,
   "metadata": {},
   "outputs": [],
   "source": [
    "class Solution:\n",
    "# todo\n",
    "    def rotateRight(self, head: ListNode, k: int) -> ListNode:\n",
    "        if head==None:\n",
    "            return head\n",
    "        if head.next==None:\n",
    "            return head\n",
    "        cur=head\n",
    "        n=1\n",
    "        # 指针指向最后一个节点，同时获得链表节点数\n",
    "        while cur.next!=None:\n",
    "            cur=cur.next\n",
    "            n+=1\n",
    "        # 头尾相连，形成环\n",
    "        cur.next=head\n",
    "        # 重新指向头节点，然后找到截断节点处，例题中是3节点，然后在3节点到4节点处断开\n",
    "        cur=cur.next\n",
    "        for i in range(n-k%n-1):\n",
    "            cur=cur.next\n",
    "        # 找到新头节点，断开连接\n",
    "        new_head=cur.next\n",
    "        cur.next=None\n",
    "        return new_head"
   ]
  },
  {
   "cell_type": "markdown",
   "metadata": {},
   "source": [
    "### leetcode143 重排链表 codetop"
   ]
  },
  {
   "cell_type": "code",
   "execution_count": null,
   "metadata": {},
   "outputs": [],
   "source": [
    "class Solution:\n",
    "    # todo\n",
    "    def reorderList(self, head: ListNode) -> None:\n",
    "        \"\"\"\n",
    "        Do not return anything, modify head in-place instead.\n",
    "        \"\"\"\n",
    "        # 注意边界条件\n",
    "        if head.next==None or head.next.next==None:\n",
    "            return head\n",
    "        # 首先找到中点，把链表分成2部分，后半部分反转\n",
    "        slow=head\n",
    "        fast=head\n",
    "        while fast.next!=None and fast.next.next!=None:\n",
    "            fast=fast.next.next\n",
    "            slow=slow.next\n",
    "        mid=slow\n",
    "        \n",
    "        a=mid.next\n",
    "        b=a.next\n",
    "        mid.next=None\n",
    "        \n",
    "        a.next=None\n",
    "        # 后半部分反转链表\n",
    "        while b:\n",
    "            temp=b.next\n",
    "            b.next=a\n",
    "            a=b\n",
    "            b=temp\n",
    "            \n",
    "        # 两个链表交叉连接\n",
    "        b=head\n",
    "        while a!=None:\n",
    "            temp=a.next\n",
    "            a.next=b.next\n",
    "            b.next=a\n",
    "            b=b.next.next\n",
    "            a=temp\n",
    "        return head"
   ]
  },
  {
   "cell_type": "markdown",
   "metadata": {},
   "source": [
    "### lc138 复制带随机指针的链表 codetop "
   ]
  },
  {
   "cell_type": "code",
   "execution_count": null,
   "metadata": {},
   "outputs": [],
   "source": [
    "# 138 复制带随机指针的链表 codetop \n",
    "# todo\n",
    "\"\"\"\n",
    "# Definition for a Node.\n",
    "class Node:\n",
    "    def __init__(self, x: int, next: 'Node' = None, random: 'Node' = None):\n",
    "        self.val = int(x)\n",
    "        self.next = next\n",
    "        self.random = random\n",
    "\"\"\"\n",
    "\n",
    "class Solution:\n",
    "    def copyRandomList(self, head: 'Optional[Node]') -> 'Optional[Node]':\n",
    "        if not head:\n",
    "            return None\n",
    "        node=head\n",
    "        while node!=None:#每个原节点后面接入一个相同的新节点 ABC 变成 AA`BB`CC`\n",
    "            new_node=Node(node.val)\n",
    "            new_node.next=node.next\n",
    "            node.next=new_node\n",
    "            node=node.next.next\n",
    "\n",
    "        node=head\n",
    "        while node!=None:#新节点的random指向老节点random的下一个节点\n",
    "            new_node=node.next\n",
    "            new_node.random=node.random.next if node.random else None\n",
    "            node=node.next.next\n",
    "\n",
    "        newHead=head.next\n",
    "        node=head\n",
    "        while node!=None:# next变更，分割为新老链表\n",
    "            new_node=node.next\n",
    "            node.next=node.next.next\n",
    "            new_node.next=node.next.next if node.next else None\n",
    "            node=node.next\n",
    "        return newHead\n"
   ]
  },
  {
   "cell_type": "markdown",
   "metadata": {},
   "source": [
    "## 反转类"
   ]
  },
  {
   "cell_type": "markdown",
   "metadata": {},
   "source": [
    "### leetcode206 反转链表  top100"
   ]
  },
  {
   "cell_type": "code",
   "execution_count": null,
   "metadata": {},
   "outputs": [],
   "source": [
    "class Solution:\n",
    "    def reverseList(self, head: ListNode) -> ListNode:\n",
    "        if head==None or head.next==None :\n",
    "            return head\n",
    "        pre=None\n",
    "        cur=head\n",
    "        while cur!=None:\n",
    "            temp=cur.next\n",
    "            cur.next=pre #ks\n",
    "            pre=cur\n",
    "            cur=temp\n",
    "        return pre"
   ]
  },
  {
   "cell_type": "markdown",
   "metadata": {},
   "source": [
    "### leetcode92 反转链表ii codetop"
   ]
  },
  {
   "cell_type": "code",
   "execution_count": null,
   "metadata": {},
   "outputs": [],
   "source": [
    "class Solution:\n",
    "    #todo\n",
    "    def reverseBetween(self, head: ListNode, left: int, right: int) -> ListNode:\n",
    "        # 设定2个指针\n",
    "        pre=None\n",
    "        cur=head\n",
    "        # 先移动到反转开始的位置\n",
    "        while left>1:\n",
    "            pre=cur\n",
    "            cur=cur.next\n",
    "            left-=1\n",
    "            right-=1\n",
    "        # 记录2个节点，con反转前一个节点，tail翻转结束的节点，在例题中最后用于con连接4，tail连接5\n",
    "        con=pre\n",
    "        tail=cur\n",
    "        # 翻转链表，注意边界条件\n",
    "        while right>0:\n",
    "            temp=cur.next\n",
    "            cur.next=pre\n",
    "            pre=cur\n",
    "            cur=temp\n",
    "            right-=1\n",
    "        # 如果不是从头节点开始翻转\n",
    "        if con:\n",
    "            con.next=pre\n",
    "        # 从头节点开始翻转\n",
    "        else:\n",
    "            head=pre\n",
    "        tail.next=cur\n",
    "        return head"
   ]
  },
  {
   "cell_type": "markdown",
   "metadata": {},
   "source": [
    "### leetcode25 k个一组反转链表 codetop  困难"
   ]
  },
  {
   "cell_type": "code",
   "execution_count": null,
   "metadata": {},
   "outputs": [],
   "source": [
    "class Solution:\n",
    "    def reverseKGroup(self, head: ListNode, k: int) -> ListNode:\n",
    "        dummy=ListNode(0)\n",
    "        dummy.next=head\n",
    "        # 设置3个指针，l_old指向翻转列表前一个位置用于连接翻转链表，end指向翻转链表末尾，start指向翻转链表开头\n",
    "        start=head\n",
    "        l_old=dummy\n",
    "        end=dummy\n",
    "        while True:\n",
    "            # end指向反转部分的尾节点\n",
    "            for _ in range(k):\n",
    "                end=end.next\n",
    "                if end==None:\n",
    "                    break\n",
    "            # 不足k个元素，退出\n",
    "            if end==None:\n",
    "                break\n",
    "                \n",
    "            # 剩余待翻转部分断开\n",
    "            l_new=end.next\n",
    "            end.next=None\n",
    "            \n",
    "            # 翻转并连接\n",
    "            temp=self.reverselist(start)\n",
    "            l_old.next=temp\n",
    "\n",
    "            # 更新指针\n",
    "            l_old=start\n",
    "            end=start\n",
    "            start.next=l_new\n",
    "            start=start.next\n",
    "        return dummy.next\n",
    "    def reverselist(self,head):\n",
    "        pre=None\n",
    "        cur=head\n",
    "        while cur!=None:\n",
    "            temp=cur.next\n",
    "            cur.next=pre\n",
    "            pre=cur\n",
    "            cur=temp\n",
    "        return pre"
   ]
  },
  {
   "cell_type": "markdown",
   "metadata": {},
   "source": [
    "##  双指针"
   ]
  },
  {
   "cell_type": "markdown",
   "metadata": {},
   "source": [
    "### leetcode19 删除链表中的倒数第n个节点   top100"
   ]
  },
  {
   "cell_type": "code",
   "execution_count": null,
   "metadata": {},
   "outputs": [],
   "source": [
    "class Solution:\n",
    "    def removeNthFromEnd(self, head: ListNode, n: int) -> ListNode:\n",
    "        # 设置虚拟头节点，应对仅有一个节点的情况\n",
    "        dummy=ListNode(0)\n",
    "        dummy.next=head\n",
    "        p=dummy\n",
    "        q=dummy\n",
    "        # 使得快慢指针之间间隔n个节点\n",
    "        for _ in range(n+1):\n",
    "            q=q.next\n",
    "        # 然后同时移动p、q，直到q为none，p的下一个节点就是倒数第n个节点\n",
    "        while q!=None:\n",
    "            p=p.next\n",
    "            q=q.next\n",
    "        p.next=p.next.next\n",
    "        return dummy.next"
   ]
  },
  {
   "cell_type": "markdown",
   "metadata": {},
   "source": [
    "### leetcode83 删除链表中的重复元素点"
   ]
  },
  {
   "cell_type": "code",
   "execution_count": null,
   "metadata": {},
   "outputs": [],
   "source": [
    "class Solution:\n",
    "    def deleteDuplicates(self, head: ListNode) -> ListNode:\n",
    "        cur=head\n",
    "        while cur and cur.next:\n",
    "            if cur.val==cur.next.val:\n",
    "                cur.next=cur.next.next\n",
    "            else:\n",
    "                cur=cur.next\n",
    "        return head"
   ]
  },
  {
   "cell_type": "markdown",
   "metadata": {},
   "source": [
    "### leetcode82 删除链表中的重复元素ii codetop"
   ]
  },
  {
   "cell_type": "code",
   "execution_count": null,
   "metadata": {},
   "outputs": [],
   "source": [
    "class Solution:\n",
    "    def deleteDuplicates(self, head: ListNode) -> ListNode:\n",
    "        # 注意边界条件\n",
    "        if head==None or head.next==None:\n",
    "            return head\n",
    "        dummy=ListNode(0)\n",
    "        dummy.next=head\n",
    "        # 设置2个指针，a指向虚拟节点，b指向头节点\n",
    "        a=dummy\n",
    "        b=head\n",
    "        # 比较a.next和b.next  key\n",
    "        while b and b.next:\n",
    "            if a.next.val!=b.next.val:\n",
    "                a=a.next\n",
    "                b=b.next\n",
    "            else:\n",
    "                # 如果相等则一直移动b指针，直到不等，则a.next=b.next 也就是跳过所有重复值\n",
    "                while b and b.next and a.next.val==b.next.val:\n",
    "                    b=b.next\n",
    "                a.next=b.next\n",
    "                b=b.next\n",
    "        return dummy.next"
   ]
  },
  {
   "cell_type": "markdown",
   "metadata": {},
   "source": [
    "### leetcode141 环形链表  top100"
   ]
  },
  {
   "cell_type": "code",
   "execution_count": null,
   "metadata": {},
   "outputs": [],
   "source": [
    "class Solution:\n",
    "    def hasCycle(self, head: ListNode) -> bool:\n",
    "        if head==None:\n",
    "            return False\n",
    "        slow=head\n",
    "        fast=head\n",
    "        # 设置快慢指针，如果有环则快慢指针会相遇\n",
    "        while fast.next!=None and fast.next.next!=None :\n",
    "            fast=fast.next.next\n",
    "            slow=slow.next\n",
    "            if fast==slow:\n",
    "                return True\n",
    "        return False"
   ]
  },
  {
   "cell_type": "markdown",
   "metadata": {},
   "source": [
    "### leetcode142 环形链表ii   top100"
   ]
  },
  {
   "cell_type": "code",
   "execution_count": null,
   "metadata": {},
   "outputs": [],
   "source": [
    "class Solution:\n",
    "    def detectCycle(self, head: ListNode) -> ListNode:\n",
    "        # 注意边界条件\n",
    "        if head==None:\n",
    "            return None\n",
    "        fast=head\n",
    "        slow=head\n",
    "        while fast.next!=None and fast.next.next!=None:\n",
    "            slow=slow.next\n",
    "            fast=fast.next.next\n",
    "            # 第一次相遇\n",
    "            if fast==slow:\n",
    "                # 相遇之后fast重置到head节点，fast slow 每次移动一位，相遇时即为入环节点\n",
    "                fast=head\n",
    "                while fast!=slow:\n",
    "                    fast=fast.next\n",
    "                    slow=slow.next\n",
    "                return fast\n",
    "        return None"
   ]
  },
  {
   "cell_type": "markdown",
   "metadata": {},
   "source": [
    "### lc287 寻找重复数  codetop"
   ]
  },
  {
   "cell_type": "code",
   "execution_count": null,
   "metadata": {},
   "outputs": [],
   "source": [
    "# 287 寻找重复数  codetop\n",
    "class Solution:\n",
    "    def findDuplicate(self, nums: List[int]) -> int:\n",
    "\n",
    "        slow, fast = 0, 0\n",
    "        while True:\n",
    "            slow = nums[slow]           # 类比链表slow=slow.next\n",
    "            fast = nums[nums[fast]]     # 类比链表fast=fast.next.next\n",
    "            if fast == slow:    # 首次相遇点\n",
    "                break\n",
    "        \n",
    "        fast = 0                # fast回到起点\n",
    "        while slow != fast:     # 再次相遇点即为重复数字\n",
    "            slow = nums[slow]\n",
    "            fast = nums[fast]\n",
    "        \n",
    "        return fast\n"
   ]
  },
  {
   "cell_type": "markdown",
   "metadata": {},
   "source": [
    "### leetcode234 回文链表    top100"
   ]
  },
  {
   "cell_type": "code",
   "execution_count": null,
   "metadata": {},
   "outputs": [],
   "source": [
    "class Solution:\n",
    "    def isPalindrome(self, head: ListNode) -> bool:\n",
    "        if head==None:\n",
    "            return False\n",
    "        fast=head\n",
    "        slow=head\n",
    "        # 使用快慢指针，首先找到中点然后分割开\n",
    "        while fast.next!=None and fast.next.next!=None:\n",
    "            fast=fast.next.next\n",
    "            slow=slow.next\n",
    "        head2=slow.next\n",
    "        slow.next=None\n",
    "        # 翻转后半部分链表\n",
    "        l2=self.reverse(head2)\n",
    "        l1=head\n",
    "        # 一一比较2个链表的值，如果不等则返回False\n",
    "        while l2!=None:\n",
    "            if l1.val!=l2.val:\n",
    "                return False\n",
    "            l1=l1.next\n",
    "            l2=l2.next\n",
    "        return True\n",
    "\n",
    "    def reverse(self,head):\n",
    "        pre=None\n",
    "        cur=head\n",
    "        while cur!=None:\n",
    "            temp=cur.next\n",
    "            cur.next=pre\n",
    "            pre=cur\n",
    "            cur=temp\n",
    "        return pre"
   ]
  },
  {
   "cell_type": "markdown",
   "metadata": {},
   "source": [
    "### leetcode328 奇偶链表 codetop"
   ]
  },
  {
   "cell_type": "code",
   "execution_count": null,
   "metadata": {},
   "outputs": [],
   "source": [
    "class Solution:\n",
    "    def oddEvenList(self, head: ListNode) -> ListNode:\n",
    "        if head==None:\n",
    "            return head\n",
    "        odd=head\n",
    "        even=head.next\n",
    "        evenhead=even\n",
    "        # 注意边界条件\n",
    "        # 奇偶指针分离\n",
    "        while even!=None and even.next!=None:\n",
    "            odd.next=odd.next.next\n",
    "            odd=odd.next\n",
    "            even.next=even.next.next\n",
    "            even=even.next\n",
    "        odd.next=evenhead\n",
    "        return head"
   ]
  },
  {
   "cell_type": "markdown",
   "metadata": {},
   "source": [
    "### lc160 相交链表 codetop"
   ]
  },
  {
   "cell_type": "code",
   "execution_count": null,
   "metadata": {},
   "outputs": [],
   "source": [
    "# 160 相交链表 codetop\n",
    "class Solution:\n",
    "    def getIntersectionNode(self, headA: ListNode, headB: ListNode) -> ListNode:\n",
    "        a,b=headA,headB\n",
    "        while a!=b:\n",
    "            a=a.next if a!=None else headB\n",
    "            b=b.next if b!=None else headA\n",
    "        return a"
   ]
  },
  {
   "cell_type": "markdown",
   "metadata": {},
   "source": [
    "## 数学问题"
   ]
  },
  {
   "cell_type": "markdown",
   "metadata": {},
   "source": [
    "### leetcode2 两数相加    top100"
   ]
  },
  {
   "cell_type": "code",
   "execution_count": null,
   "metadata": {},
   "outputs": [],
   "source": [
    "class Solution:\n",
    "    def addTwoNumbers(self, l1: ListNode, l2: ListNode) -> ListNode:\n",
    "        head=ListNode(0)\n",
    "        cur=head\n",
    "        # 进位\n",
    "        carry=0\n",
    "        while l1!=None or l2!=None:\n",
    "            # 如果一个链表较短则在前面补0\n",
    "            if l1==None:\n",
    "                x1=0\n",
    "            else:\n",
    "                x1=l1.val\n",
    "                l1=l1.next\n",
    "            if l2==None:\n",
    "                x2=0\n",
    "            else:\n",
    "                x2=l2.val\n",
    "                l2=l2.next\n",
    "\n",
    "            # 每一位计算的同时需要考虑上一位的进位问题，而当前位计算结束后同样需要更新进位值\n",
    "            sums=(x1+x2+carry)%10\n",
    "            carry=(x1+x2+carry)//10\n",
    "            cur.next=ListNode(sums)\n",
    "            cur=cur.next\n",
    "        if carry==1:\n",
    "            cur.next=ListNode(1)\n",
    "        return head.next"
   ]
  },
  {
   "cell_type": "markdown",
   "metadata": {},
   "source": [
    "### lc415 字符串相加 codetop"
   ]
  },
  {
   "cell_type": "code",
   "execution_count": null,
   "metadata": {},
   "outputs": [],
   "source": [
    "# 415 字符串相加 codetop\n",
    "#整体思路和链表相加类似\n",
    "class Solution:\n",
    "    def addStrings(self, num1: str, num2: str) -> str:\n",
    "        i=len(num1)-1\n",
    "        j=len(num2)-1\n",
    "        carry=0\n",
    "        res=''\n",
    "        while i>=0 or j>=0:\n",
    "            a=int(num1[i]) if i>=0 else 0\n",
    "            b=int(num2[j]) if j>=0 else 0\n",
    "            sums=(a+b+carry)%10\n",
    "            carry=(a+b+carry)//10\n",
    "            res=str(sums)+res\n",
    "            i-=1\n",
    "            j-=1\n",
    "        return res if not carry else '1'+res"
   ]
  },
  {
   "cell_type": "markdown",
   "metadata": {},
   "source": [
    "# 递归"
   ]
  },
  {
   "cell_type": "markdown",
   "metadata": {},
   "source": [
    "### leetcode70 青蛙跳台阶"
   ]
  },
  {
   "cell_type": "code",
   "execution_count": null,
   "metadata": {},
   "outputs": [],
   "source": [
    "# 递归解法，会超时\n",
    "class Solution:\n",
    "    def climbStairs(self, n: int) -> int:\n",
    "        if n==1:\n",
    "            return 1\n",
    "        elif n==2:\n",
    "            return 2\n",
    "        else:\n",
    "            return self.climbStairs(n-1)+self.climbStairs(n-2)"
   ]
  },
  {
   "cell_type": "markdown",
   "metadata": {},
   "source": [
    "### leetcode509 斐波那契数列"
   ]
  },
  {
   "cell_type": "code",
   "execution_count": null,
   "metadata": {},
   "outputs": [],
   "source": [
    "# 递归解法\n",
    "class Solution:\n",
    "    def fib(self, n: int) -> int:\n",
    "        if n<=1:\n",
    "            return n\n",
    "        else:\n",
    "            return self.fib(n-1)+self.fib(n-2)"
   ]
  },
  {
   "cell_type": "markdown",
   "metadata": {},
   "source": [
    "# 二叉树"
   ]
  },
  {
   "cell_type": "markdown",
   "metadata": {},
   "source": [
    "## 二叉树的性质相关"
   ]
  },
  {
   "cell_type": "markdown",
   "metadata": {},
   "source": [
    "### lc100 相同的树 codetop"
   ]
  },
  {
   "cell_type": "code",
   "execution_count": null,
   "metadata": {},
   "outputs": [],
   "source": []
  },
  {
   "cell_type": "code",
   "execution_count": null,
   "metadata": {},
   "outputs": [],
   "source": [
    "# 100 相同的树 codetop\n",
    "# 1.递归\n",
    "class Solution:\n",
    "    def isSameTree(self, p: TreeNode, q: TreeNode) -> bool:\n",
    "        if not(p or q):\n",
    "            return True\n",
    "        if not(p and q):\n",
    "            return False\n",
    "        if p.val!=q.val:\n",
    "            return False\n",
    "        return self.isSameTree(p.left,q.left) and self.isSameTree(p.right,q.right)\n",
    "# 2.迭代\n",
    "class Solution:\n",
    "    def isSameTree(self, p: TreeNode, q: TreeNode) -> bool:\n",
    "        stack=[(p,q)]\n",
    "        while stack:\n",
    "            a,b=stack.pop()\n",
    "            if not (a or b):\n",
    "                continue\n",
    "            if a and b and a.val==b.val:\n",
    "                stack.append((a.left,b.left))\n",
    "                stack.append((a.right,b.right))\n",
    "            else:\n",
    "                return False\n",
    "        return True"
   ]
  },
  {
   "cell_type": "markdown",
   "metadata": {},
   "source": [
    "### lc572 二叉树的子树 codetop"
   ]
  },
  {
   "cell_type": "code",
   "execution_count": null,
   "metadata": {},
   "outputs": [],
   "source": [
    "# 572 二叉树的子树 codetop\n",
    "class Solution:\n",
    "    #递归\n",
    "    def isSubtree(self, root: TreeNode, subRoot: TreeNode) -> bool:\n",
    "        if not root:\n",
    "            return False\n",
    "        if self.sameTree(root,subRoot):# 相同树\n",
    "            return True\n",
    "        return self.isSubtree(root.left,subRoot) or self.isSubtree(root.right,subRoot)#递归 左右子树\n",
    "    def sameTree(self,root,subRoot):\n",
    "        if not root and not subRoot:\n",
    "            return True\n",
    "        if not root or not subRoot:\n",
    "            return False\n",
    "        return root.val==subRoot.val and self.sameTree(root.left,subRoot.left) and self.sameTree(root.right,subRoot.right)\n",
    "\n",
    "    \n",
    "# 字节考点：树哈希的方式解题\n",
    "    \n",
    "    \n",
    "    "
   ]
  },
  {
   "cell_type": "markdown",
   "metadata": {},
   "source": [
    "### leetcode101 对称二叉树   top100"
   ]
  },
  {
   "cell_type": "code",
   "execution_count": null,
   "metadata": {},
   "outputs": [],
   "source": [
    "#1.递归\n",
    "class Solution:\n",
    "    def isSymmetric(self, root: TreeNode) -> bool:\n",
    "        if root==None:\n",
    "            return True\n",
    "        def dfs(left,right):\n",
    "            if not(left or right):\n",
    "                return True\n",
    "            if not(left and right):\n",
    "                return False\n",
    "            if left.val!=right.val:\n",
    "                return False\n",
    "            return dfs(left.left,right.right) and dfs(left.right,right.left) #key\n",
    "        return dfs(root.left,root.right)\n",
    "#2.迭代\n",
    "class Solution:\n",
    "    def isSymmetric(self, root: TreeNode) -> bool:\n",
    "        if not root or not (root.left or root.right):\n",
    "            return True\n",
    "        queue=[(root.left,root.right)]\n",
    "        while queue:\n",
    "            left,right=queue.pop(0)\n",
    "            if not(left or right):\n",
    "                continue\n",
    "            if not(left and right):\n",
    "                return False\n",
    "            if left.val!=right.val:\n",
    "                return False\n",
    "            queue.append((left.left,right.right))  #key\n",
    "            queue.append((left.right,right.left))  #key\n",
    "        return True"
   ]
  },
  {
   "cell_type": "markdown",
   "metadata": {},
   "source": [
    "### leetcode110 平衡二叉树 codetop"
   ]
  },
  {
   "cell_type": "code",
   "execution_count": null,
   "metadata": {},
   "outputs": [],
   "source": [
    "class Solution:\n",
    "    def isBalanced(self, root: TreeNode) -> bool:\n",
    "        if self.depth(root)==-1:\n",
    "            return False\n",
    "        else:\n",
    "            return True\n",
    "    # 求树的深度\n",
    "    def depth(self,root):\n",
    "        if root==None:\n",
    "            return 0\n",
    "        # 求左子树高度，提前阻断\n",
    "        depth_left=self.depth(root.left)\n",
    "        if depth_left==-1:\n",
    "            return -1\n",
    "        # 求左子树高度，提前阻断\n",
    "        depth_right=self.depth(root.right)\n",
    "        if depth_right==-1:\n",
    "            return -1\n",
    "        # 求树的高度，提前阻断\n",
    "        if abs(depth_left-depth_right)<=1:  #key\n",
    "            return 1+max(depth_left,depth_right)\n",
    "        else:\n",
    "            return -1"
   ]
  },
  {
   "cell_type": "markdown",
   "metadata": {},
   "source": [
    "### lc226 翻转二叉树 codetop"
   ]
  },
  {
   "cell_type": "code",
   "execution_count": null,
   "metadata": {},
   "outputs": [],
   "source": [
    "# 226 翻转二叉树 codetop\n",
    "class Solution:\n",
    "    def invertTree(self, root: TreeNode) -> TreeNode:\n",
    "        if not root:\n",
    "            return \n",
    "        left=self.invertTree(root.left)\n",
    "        right=self.invertTree(root.right)\n",
    "        root.left,root.right=right,left\n",
    "        return root"
   ]
  },
  {
   "cell_type": "markdown",
   "metadata": {},
   "source": [
    "### 剑指offer27 二叉树的镜像 codetop"
   ]
  },
  {
   "cell_type": "code",
   "execution_count": null,
   "metadata": {},
   "outputs": [],
   "source": [
    "# offer27 二叉树的镜像 codetop\n",
    "class Solution:\n",
    "    def mirrorTree(self, root: TreeNode) -> TreeNode:\n",
    "        if not root:\n",
    "            return None\n",
    "        newLeft=self.mirrorTree(root.right)\n",
    "        newRight=self.mirrorTree(root.left)\n",
    "        root.left=newLeft\n",
    "        root.right=newRight\n",
    "        return root"
   ]
  },
  {
   "cell_type": "markdown",
   "metadata": {},
   "source": [
    "### leetcode104 二叉树的最大深度   top100"
   ]
  },
  {
   "cell_type": "code",
   "execution_count": null,
   "metadata": {},
   "outputs": [],
   "source": [
    "# 递归\n",
    "class Solution:\n",
    "    def maxDepth(self, root: TreeNode) -> int:\n",
    "        if not root:\n",
    "            return 0\n",
    "        return max(self.maxDepth(root.left),self.maxDepth(root.right))+1\n",
    "#迭代\n",
    "class Solution:\n",
    "    def maxDepth(self, root: TreeNode) -> int:\n",
    "        if not root:\n",
    "            return 0\n",
    "        queue=[(1,root)]\n",
    "        max_depth=1\n",
    "        while queue:\n",
    "            depth,node=queue.pop(0)\n",
    "            max_depth=max(max_depth,depth)\n",
    "            if node.left:\n",
    "                queue.append((depth+1,node.left))\n",
    "            if node.right:\n",
    "                queue.append((depth+1,node.right))\n",
    "        return max_depth"
   ]
  },
  {
   "cell_type": "markdown",
   "metadata": {},
   "source": [
    "### leetcode111 二叉树的最小深度"
   ]
  },
  {
   "cell_type": "code",
   "execution_count": null,
   "metadata": {},
   "outputs": [],
   "source": [
    "#1.迭代\n",
    "class Solution:\n",
    "    def minDepth(self, root: TreeNode) -> int:\n",
    "        if not root:\n",
    "            return 0\n",
    "        queue=[(1,root)]\n",
    "        while queue:\n",
    "            depth,node=queue.pop(0)\n",
    "            if node.left==None and node.right==None:\n",
    "                return depth\n",
    "            if node.left!=None:\n",
    "                queue.append((depth+1,node.left))\n",
    "            if node.right!=None:\n",
    "                queue.append((depth+1,node.right))\n",
    "#2.递归\n",
    "class Solution:\n",
    "    def minDepth(self, root: TreeNode) -> int:\n",
    "        # 递归结束条件\n",
    "        if not root:\n",
    "            return 0\n",
    "        # 左右节点均为空时，返回1\n",
    "        if not(root.left or root.right):\n",
    "            return 1\n",
    "        # 当其中有一个节点为空时，返回不为空的孩子的深度值\n",
    "        if not(root.left and root.right):\n",
    "            return 1+max(self.minDepth(root.left),self.minDepth(root.right))\n",
    "        # 当左右节点均不为空时，返回左右孩子的最小深度\n",
    "        if root.left!=None and root.right!=None:\n",
    "            return 1+min(self.minDepth(root.left),self.minDepth(root.right))"
   ]
  },
  {
   "cell_type": "markdown",
   "metadata": {},
   "source": [
    "### leetcode662 二叉树的最大宽度 codetop"
   ]
  },
  {
   "cell_type": "code",
   "execution_count": null,
   "metadata": {},
   "outputs": [],
   "source": [
    "class Solution:\n",
    "    def widthOfBinaryTree(self, root: TreeNode) -> int:\n",
    "        if not root:\n",
    "            return 0\n",
    "        maxwidth=0\n",
    "        queue=[(1,root)]\n",
    "        while queue:\n",
    "            lens=len(queue)\n",
    "            for i in range(lens): #层次遍历的思路\n",
    "                num,node=queue.pop(0)\n",
    "                if i==0:\n",
    "                    first_num=num\n",
    "                if i==lens-1:\n",
    "                    last_num=num\n",
    "                    maxwidth=max(maxwidth,last_num-first_num+1) #key\n",
    "                if node.left!=None:\n",
    "                    queue.append((2*num,node.left)) #key\n",
    "                if node.right!=None:\n",
    "                    queue.append((2*num+1,node.right))\n",
    "        return maxwidth"
   ]
  },
  {
   "cell_type": "markdown",
   "metadata": {},
   "source": [
    "### lc543 二叉树的直径 codetop"
   ]
  },
  {
   "cell_type": "code",
   "execution_count": null,
   "metadata": {},
   "outputs": [],
   "source": [
    "# 543 二叉树的直径 codetop\n",
    "class Solution:\n",
    "    def diameterOfBinaryTree(self, root: Optional[TreeNode]) -> int:\n",
    "        #二叉树的问题，使用递归的思路，最大直径=最大左子树深度+最大右子树深度\n",
    "        self.res=1\n",
    "        def depth(node):\n",
    "            if not node:\n",
    "                return 0\n",
    "            left_depth=depth(node.left)\n",
    "            right_depth=depth(node.right)\n",
    "            self.res=max(left_depth+right_depth+1,self.res) #路径上的节点数\n",
    "            return max(left_depth,right_depth)+1\n",
    "        depth(root)\n",
    "        return self.res-1  #直径（路径边）=节点数-1"
   ]
  },
  {
   "cell_type": "markdown",
   "metadata": {},
   "source": [
    "### lc236 二叉树的最近公共祖先 codetop"
   ]
  },
  {
   "cell_type": "code",
   "execution_count": null,
   "metadata": {},
   "outputs": [],
   "source": [
    "# 236 二叉树的最近公共祖先 codetop\n",
    "class Solution:\n",
    "    def lowestCommonAncestor(self, root: 'TreeNode', p: 'TreeNode', q: 'TreeNode') -> 'TreeNode':\n",
    "        #递归 \n",
    "        # 最近公共祖先只可能有3种情况1、pq分布在root的异侧 2、p=root,q在root的左或者右子树中 3、q=root，p在root的左或者右子树中\n",
    "        #时间复杂度O(n) 空间复杂度O(n)\n",
    "        if not root or root==p or root==q:\n",
    "            return root\n",
    "        left=self.lowestCommonAncestor(root.left,p,q)\n",
    "        right=self.lowestCommonAncestor(root.right,p,q)\n",
    "        if not left and not right:\n",
    "            return None\n",
    "        if not left:\n",
    "            return right # p，q同时在右子树中，或者有一个在右子树中，另一个=right节点\n",
    "        if not right:\n",
    "            return left  #p，q同时在左子树中，或者有一个在左子树中，另一个=left节点\n",
    "        return root # p,q分别在root的左右子树中"
   ]
  },
  {
   "cell_type": "code",
   "execution_count": null,
   "metadata": {},
   "outputs": [],
   "source": [
    " "
   ]
  },
  {
   "cell_type": "markdown",
   "metadata": {},
   "source": [
    "## 二叉树的遍历"
   ]
  },
  {
   "cell_type": "markdown",
   "metadata": {},
   "source": [
    "### 深度优先遍历"
   ]
  },
  {
   "cell_type": "markdown",
   "metadata": {},
   "source": [
    "### leetcode144 二叉树的前序遍历  codetop"
   ]
  },
  {
   "cell_type": "code",
   "execution_count": null,
   "metadata": {},
   "outputs": [],
   "source": [
    "#1.递归\n",
    "class Solution:\n",
    "    def preorderTraversal(self, root: TreeNode) -> List[int]:\n",
    "        if not root:\n",
    "            return []\n",
    "        output=[]\n",
    "        output.append(root.val)\n",
    "        output+=self.preorderTraversal(root.left)\n",
    "        output+=self.preorderTraversal(root.right)\n",
    "        return output\n",
    "#2.迭代（颜色标记法）\n",
    "class Solution:\n",
    "    def preorderTraversal(self, root: TreeNode) -> List[int]:\n",
    "        if not root:\n",
    "            return []\n",
    "        # 颜色标记法，访问过的记为gray，没有访问过的记为白色\n",
    "        WHITE,GRAY=0,1\n",
    "        stack=[(WHITE,root)]  #key\n",
    "        output=[]\n",
    "        while stack:\n",
    "            color,root=stack.pop()\n",
    "            if root:\n",
    "                if color==WHITE:\n",
    "                    # 前序遍历的顺序是根左右，所以注意入栈的顺序  key\n",
    "                    stack.append((WHITE,root.right))\n",
    "                    stack.append((WHITE,root.left))\n",
    "                    stack.append((GRAY,root))\n",
    "                else:\n",
    "                    output.append(root.val)\n",
    "        return output"
   ]
  },
  {
   "cell_type": "markdown",
   "metadata": {},
   "source": [
    "### leetcode94 二叉树的中序遍历   top100"
   ]
  },
  {
   "cell_type": "code",
   "execution_count": null,
   "metadata": {},
   "outputs": [],
   "source": [
    "#1.递归\n",
    "class Solution:\n",
    "    def inorderTraversal(self, root: TreeNode) -> List[int]:\n",
    "        if not root:\n",
    "            return []\n",
    "        output=[]\n",
    "#         顺序即为中序遍历的左根右的顺序\n",
    "        output+=self.inorderTraversal(root.left)\n",
    "        output.append(root.val)\n",
    "        output+=self.inorderTraversal(root.right)\n",
    "        return output\n",
    "#2.迭代 颜色标记法\n",
    "class Solution:\n",
    "    def inorderTraversal(self, root: TreeNode) -> List[int]:\n",
    "        if not root:\n",
    "            return []\n",
    "        WHITE,GRAY=0,1\n",
    "        stack=[(WHITE,root)]\n",
    "        output=[]\n",
    "        while stack:\n",
    "            color,root=stack.pop()\n",
    "            if root:\n",
    "                if color==WHITE:\n",
    "                    stack.append((WHITE,root.right))\n",
    "                    stack.append((GRAY,root))\n",
    "                    stack.append((WHITE,root.left))\n",
    "                else:\n",
    "                    output.append(root.val)\n",
    "        return output"
   ]
  },
  {
   "cell_type": "markdown",
   "metadata": {},
   "source": [
    "### 剑指offer36 二叉搜索树与双向链表 codetop "
   ]
  },
  {
   "cell_type": "code",
   "execution_count": null,
   "metadata": {},
   "outputs": [],
   "source": [
    "# 剑指offer36 二叉搜索树与双向链表 codetop\n",
    "class Solution:\n",
    "    def treeToDoublyList(self, root: 'Node') -> 'Node':\n",
    "        #中序遍历\n",
    "        if not root:\n",
    "            return None\n",
    "\n",
    "        def dfs(cur):\n",
    "            if not cur:\n",
    "                return \n",
    "            dfs(cur.left)\n",
    "            if self.pre:\n",
    "                self.pre.right,cur.left=cur,self.pre #修改节点指向\n",
    "            else:\n",
    "                self.head=cur # 记录head节点\n",
    "            self.pre=cur #更新pre\n",
    "            dfs(cur.right)\n",
    "\n",
    "        self.pre=None\n",
    "        dfs(root)\n",
    "        self.head.left,self.pre.right=self.pre,self.head #头尾结点循环\n",
    "        return self.head"
   ]
  },
  {
   "cell_type": "markdown",
   "metadata": {},
   "source": [
    "### leetcode145 二叉树的后序遍历 codetop"
   ]
  },
  {
   "cell_type": "code",
   "execution_count": null,
   "metadata": {},
   "outputs": [],
   "source": [
    "#1.递归\n",
    "class Solution:\n",
    "    def postorderTraversal(self, root: TreeNode) -> List[int]:\n",
    "        if not root:\n",
    "            return []\n",
    "        output=[]\n",
    "        output+=self.postorderTraversal(root.left)\n",
    "        output+=self.postorderTraversal(root.right)\n",
    "        output.append(root.val)\n",
    "        return output\n",
    "#2.迭代 颜色标记法\n",
    "class Solution:\n",
    "    def postorderTraversal(self, root: TreeNode) -> List[int]:\n",
    "        if not root:\n",
    "            return []\n",
    "        WHITE,GRAY=0,1\n",
    "        stack=[(WHITE,root)]\n",
    "        output=[]\n",
    "        while stack:\n",
    "            color,root=stack.pop()\n",
    "            if root:\n",
    "                if color==WHITE:\n",
    "                    stack.append((GRAY,root))\n",
    "                    stack.append((WHITE,root.right))\n",
    "                    stack.append((WHITE,root.left))\n",
    "                else:\n",
    "                    output.append(root.val)\n",
    "        return output"
   ]
  },
  {
   "cell_type": "markdown",
   "metadata": {},
   "source": [
    "### 二叉树遍历-广度优先遍历"
   ]
  },
  {
   "cell_type": "markdown",
   "metadata": {},
   "source": [
    "### leetcode102 二叉树的层次遍历   top100"
   ]
  },
  {
   "cell_type": "code",
   "execution_count": null,
   "metadata": {},
   "outputs": [],
   "source": [
    "class Solution:\n",
    "    def levelOrder(self, root: TreeNode) -> List[List[int]]:\n",
    "#         层序遍历\n",
    "        if not root:\n",
    "            return []\n",
    "        queue=[root]\n",
    "        res=[]\n",
    "        while queue:\n",
    "            tmp=[]\n",
    "            size=len(queue)\n",
    "            for _ in range(size):\n",
    "                root=queue.pop(0)\n",
    "                tmp.append(root.val)\n",
    "                if root.left:\n",
    "                    queue.append(root.left)\n",
    "                if root.right:\n",
    "                    queue.append(root.right)\n",
    "            res.append(tmp)\n",
    "        return res "
   ]
  },
  {
   "cell_type": "markdown",
   "metadata": {},
   "source": [
    "### leetcode103 二叉树的锯齿形层次遍历 codetop"
   ]
  },
  {
   "cell_type": "code",
   "execution_count": null,
   "metadata": {},
   "outputs": [],
   "source": [
    "class Solution:\n",
    "    def zigzagLevelOrder(self, root: TreeNode) -> List[List[int]]:\n",
    "        if not root:\n",
    "            return []\n",
    "        queue=[root]\n",
    "        res=[]\n",
    "        index=1\n",
    "        while queue:\n",
    "            size=len(queue)\n",
    "            tmp=[]\n",
    "            for _ in range(size):\n",
    "                root=queue.pop(0)\n",
    "                tmp.append(root.val)\n",
    "                if root.left:\n",
    "                    queue.append(root.left)\n",
    "                if root.right:\n",
    "                    queue.append(root.right)\n",
    "            if index%2:\n",
    "                res.append(tmp)\n",
    "            else:\n",
    "                res.append(tmp[::-1]) #层序遍历，index可以整除2的倒序输出即可\n",
    "            index+=1\n",
    "        return res"
   ]
  },
  {
   "cell_type": "markdown",
   "metadata": {},
   "source": [
    "### lc958 完全二叉树检验 codetop"
   ]
  },
  {
   "cell_type": "code",
   "execution_count": null,
   "metadata": {},
   "outputs": [],
   "source": [
    "# 958 完全二叉树检验 codetop\n",
    "class Solution:\n",
    "    def isCompleteTree(self, root: TreeNode) -> bool:\n",
    "        # 层次遍历\n",
    "        if not root:\n",
    "            return True\n",
    "        queue=[(root,1)]\n",
    "        res=[]\n",
    "        while queue:\n",
    "            node,v=queue.pop(0)\n",
    "            res.append(v)\n",
    "            if node.left:\n",
    "                queue.append((node.left,2*v))\n",
    "            if node.right:\n",
    "                queue.append((node.right,2*v+1)) #节点编号\n",
    "        return res[-1]==len(res)  #最后一个节点编号！=节点数，则不是完全二叉树"
   ]
  },
  {
   "cell_type": "markdown",
   "metadata": {},
   "source": [
    "### lc297 二叉树的序列化与反序列化 codetop"
   ]
  },
  {
   "cell_type": "code",
   "execution_count": null,
   "metadata": {},
   "outputs": [],
   "source": [
    "# 297 二叉树的序列化与反序列化 codetop\n",
    "class Codec:\n",
    "\n",
    "    def serialize(self, root):\n",
    "        \"\"\"Encodes a tree to a single string.\n",
    "        \n",
    "        :type root: TreeNode\n",
    "        :rtype: str\n",
    "        \"\"\"\n",
    "        # 层次遍历\n",
    "        if not root:\n",
    "            return ''\n",
    "        queue=[root]\n",
    "        res=[]\n",
    "        while queue:\n",
    "            node=queue.pop(0)\n",
    "            if node:\n",
    "                queue.append(node.left)\n",
    "                queue.append(node.right)\n",
    "                res.append(str(node.val))\n",
    "            else:\n",
    "                res.append('None')\n",
    "        return '['+','.join(res)+']'\n",
    "\n",
    "        \n",
    "    def deserialize(self, data):\n",
    "        \"\"\"Decodes your encoded data to tree.\n",
    "        \n",
    "        :type data: str\n",
    "        :rtype: TreeNode\n",
    "        \"\"\"\n",
    "        # 层次遍历\n",
    "        if not data:\n",
    "            return None\n",
    "        data=data[1:-1].split(',')\n",
    "        root=TreeNode(int(data[0]))\n",
    "        queue=[root]\n",
    "        i=0\n",
    "        while queue:\n",
    "            node=queue.pop(0)\n",
    "            i+=1\n",
    "            if data[i]!='None':\n",
    "                node.left=TreeNode(int(data[i]))\n",
    "                queue.append(node.left)\n",
    "            i+=1\n",
    "            if data[i]!='None':\n",
    "                node.right=TreeNode(int(data[i]))\n",
    "                queue.append(node.right)\n",
    "        return root\n"
   ]
  },
  {
   "cell_type": "markdown",
   "metadata": {},
   "source": [
    "### lc114 二叉树展开为链表 codetop"
   ]
  },
  {
   "cell_type": "code",
   "execution_count": null,
   "metadata": {},
   "outputs": [],
   "source": [
    "# 114 二叉树展开为链表 codetop\n",
    "class Solution:\n",
    "    def flatten(self, root: TreeNode) -> None:\n",
    "        if not root:\n",
    "            return\n",
    "        \n",
    "        stack = [root]\n",
    "        prev = None\n",
    "        \n",
    "        while stack:\n",
    "            curr = stack.pop()\n",
    "            if prev:\n",
    "                prev.left = None\n",
    "                prev.right = curr\n",
    "            left, right = curr.left, curr.right\n",
    "            if right:\n",
    "                stack.append(right)\n",
    "            if left:\n",
    "                stack.append(left)\n",
    "            prev = curr\n"
   ]
  },
  {
   "cell_type": "markdown",
   "metadata": {},
   "source": [
    "### leetcode107 二叉树的层次遍历ii"
   ]
  },
  {
   "cell_type": "code",
   "execution_count": null,
   "metadata": {},
   "outputs": [],
   "source": [
    "class Solution:\n",
    "    def levelOrderBottom(self, root: TreeNode) -> List[List[int]]:\n",
    "        if not root:\n",
    "            return []\n",
    "        queue=[root]\n",
    "        res=[]\n",
    "        while queue:\n",
    "            size=len(queue)\n",
    "            tmp=[]\n",
    "            for _ in range(size):\n",
    "                root=queue.pop(0)\n",
    "                tmp.append(root.val)\n",
    "                if root.left:\n",
    "                    queue.append(root.left)\n",
    "                if root.right:\n",
    "                    queue.append(root.right)\n",
    "            res.append(tmp)\n",
    "        return res[::-1]"
   ]
  },
  {
   "cell_type": "markdown",
   "metadata": {},
   "source": [
    "### leetcode116 填充每个节点的下一个右侧节点指针"
   ]
  },
  {
   "cell_type": "code",
   "execution_count": null,
   "metadata": {},
   "outputs": [],
   "source": [
    "class Solution:\n",
    "    def connect(self, root: 'Node') -> 'Node':\n",
    "        if not root:\n",
    "            return root\n",
    "        queue=[root]\n",
    "        while queue:\n",
    "            size=len(queue)\n",
    "            for i in range(size-1):\n",
    "                queue[i].next=queue[i+1]\n",
    "            for _ in range(size):\n",
    "                node=queue.pop(0)\n",
    "                if node.left:\n",
    "                    queue.append(node.left)\n",
    "                if node.right:\n",
    "                    queue.append(node.right)\n",
    "        return root"
   ]
  },
  {
   "cell_type": "markdown",
   "metadata": {},
   "source": [
    "### leetcode117 填充每个节点的下一个右侧节点指针ii"
   ]
  },
  {
   "cell_type": "code",
   "execution_count": null,
   "metadata": {},
   "outputs": [],
   "source": [
    "# 同116\n",
    "class Solution:\n",
    "    def connect(self, root: 'Node') -> 'Node':\n",
    "        if not root:\n",
    "            return root\n",
    "        queue=[root]\n",
    "        while queue:\n",
    "            size=len(queue)\n",
    "            for i in range(size-1):\n",
    "                queue[i].next=queue[i+1]\n",
    "            for _ in range(size):\n",
    "                node=queue.pop(0)\n",
    "                if node.left:\n",
    "                    queue.append(node.left)\n",
    "                if node.right:\n",
    "                    queue.append(node.right)\n",
    "        return root"
   ]
  },
  {
   "cell_type": "markdown",
   "metadata": {},
   "source": [
    "### lc199 二叉树的右视图  codetop"
   ]
  },
  {
   "cell_type": "code",
   "execution_count": null,
   "metadata": {},
   "outputs": [],
   "source": [
    "# 199 二叉树的右视图  codetop\n",
    "#深度优先遍历 时间复杂度O(n) 空间复杂度O(n)\n",
    "class Solution:\n",
    "    def rightSideView(self, root: TreeNode) -> List[int]:\n",
    "        if not root:\n",
    "            return []\n",
    "        depth2rightSide={}\n",
    "        maxdepth=1\n",
    "        stack=[(root,1)]\n",
    "        while stack:\n",
    "            node,depth=stack.pop()#最先访问右节点\n",
    "            depth2rightSide.setdefault(depth,node.val)#记录每一层depth最先访问到的节点值\n",
    "            maxdepth=max(maxdepth,depth)#记录树的最大depth\n",
    "            if node.left:\n",
    "                stack.append((node.left,depth+1))\n",
    "            if node.right:\n",
    "                stack.append((node.right,depth+1))#最先访问右节点\n",
    "        res=[depth2rightSide[i] for i in range(1,maxdepth+1)]\n",
    "        return res"
   ]
  },
  {
   "cell_type": "markdown",
   "metadata": {},
   "source": [
    "## 二叉树的构建"
   ]
  },
  {
   "cell_type": "markdown",
   "metadata": {},
   "source": [
    "### leetcode105 从前序和中序遍历序列构建二叉树   top100"
   ]
  },
  {
   "cell_type": "code",
   "execution_count": null,
   "metadata": {},
   "outputs": [],
   "source": [
    "class Solution:\n",
    "    def buildTree(self, preorder: List[int], inorder: List[int]) -> TreeNode:\n",
    "        if not preorder:\n",
    "            return None\n",
    "        # 找到根节点，也就是前序遍历的首位\n",
    "        root=TreeNode(preorder[0])\n",
    "        # 找到根节点对应的中序遍历的索引，其左边就是左子树，右边就是右子树\n",
    "        rootindex=inorder.index(preorder[0])\n",
    "        # 递归构建左子树以及右子树  key\n",
    "        root.left=self.buildTree(preorder[1:rootindex+1],inorder[:rootindex])\n",
    "        root.right=self.buildTree(preorder[rootindex+1:],inorder[rootindex+1:])\n",
    "        return root"
   ]
  },
  {
   "cell_type": "markdown",
   "metadata": {},
   "source": [
    "### leetcode106 从中序和后序遍历序列构建二叉树"
   ]
  },
  {
   "cell_type": "code",
   "execution_count": null,
   "metadata": {},
   "outputs": [],
   "source": [
    "class Solution:\n",
    "    def buildTree(self, inorder: List[int], postorder: List[int]) -> TreeNode:\n",
    "        if not postorder:\n",
    "            return None\n",
    "        root=TreeNode(postorder[-1])\n",
    "        rootindex=inorder.index(postorder[-1])\n",
    "        root.left=self.buildTree(inorder[:rootindex],postorder[:rootindex])\n",
    "        root.right=self.buildTree(inorder[rootindex+1:],postorder[rootindex:-1])\n",
    "        return root"
   ]
  },
  {
   "cell_type": "markdown",
   "metadata": {},
   "source": [
    "### leetcode889 从前序和后序遍历序列构建二叉树"
   ]
  },
  {
   "cell_type": "code",
   "execution_count": null,
   "metadata": {},
   "outputs": [],
   "source": [
    "class Solution:\n",
    "    def constructFromPrePost(self, preorder: List[int], postorder: List[int]) -> TreeNode:\n",
    "        if not preorder:\n",
    "            return None\n",
    "        if len(preorder)==1:\n",
    "            return TreeNode(preorder[0])\n",
    "        root=TreeNode(preorder[0])\n",
    "        midindex=postorder.index(preorder[1])+1\n",
    "        root.left=self.constructFromPrePost(preorder[1:midindex+1],postorder[:midindex])\n",
    "        root.right=self.constructFromPrePost(preorder[midindex+1:],postorder[midindex:-1])\n",
    "        return root"
   ]
  },
  {
   "cell_type": "markdown",
   "metadata": {},
   "source": [
    "## 路径和相关"
   ]
  },
  {
   "cell_type": "markdown",
   "metadata": {},
   "source": [
    "### leetcode112 路径总和 codetop"
   ]
  },
  {
   "cell_type": "code",
   "execution_count": null,
   "metadata": {},
   "outputs": [],
   "source": [
    "# 方法1 递归\n",
    "class Solution:\n",
    "    def hasPathSum(self, root: TreeNode, targetSum: int) -> bool:\n",
    "        # 使用递归的思路\n",
    "        if not root:\n",
    "            return False\n",
    "        # 如果是叶子节点，则看是否符合传入的targetsum\n",
    "        if root.left==None and root.right==None and root.val==targetSum:\n",
    "            return True \n",
    "        # 否则递归查看左子树或右子树是否满足条件\n",
    "        return self.hasPathSum(root.left,targetSum-root.val) or self.hasPathSum(root.right,targetSum-root.val)\n",
    "# 方法2 迭代\n",
    "class Solution:\n",
    "    def hasPathSum(self, root: TreeNode, targetSum: int) -> bool:\n",
    "        if not root:\n",
    "            return False\n",
    "        stack=[(root,targetSum)]\n",
    "        while stack:\n",
    "            node,targetSum=stack.pop()\n",
    "            # 如果是叶子节点且满足条件，则返回true\n",
    "            if node.left==None and node.right==None and node.val==targetSum:\n",
    "                return True \n",
    "            # 遍历所有节点\n",
    "            if node.left:\n",
    "                stack.append((node.left,targetSum-node.val))  #key\n",
    "            if node.right:\n",
    "                stack.append((node.right,targetSum-node.val))\n",
    "        return False"
   ]
  },
  {
   "cell_type": "markdown",
   "metadata": {},
   "source": [
    "### leetcode113 路径总和ii  codetop"
   ]
  },
  {
   "cell_type": "code",
   "execution_count": null,
   "metadata": {},
   "outputs": [],
   "source": [
    "# 方法1 递归\n",
    "class Solution:\n",
    "    def pathSum(self, root: TreeNode, targetSum: int) -> List[List[int]]:\n",
    "        # 递归思路\n",
    "        # 辅助函数，使用tmp记录路径\n",
    "        def helper(root,targetSum,tmp):\n",
    "            if not root:\n",
    "                return []\n",
    "            if root.left==None and root.right==None and root.val==targetSum:\n",
    "                # 使用tmp记录路径\n",
    "                tmp.append(root.val)\n",
    "                return res.append(tmp)\n",
    "            # 递归左子树以及右子树\n",
    "            helper(root.left,targetSum-root.val,tmp+[root.val])\n",
    "            helper(root.right,targetSum-root.val,tmp+[root.val])\n",
    "        res=[]\n",
    "        helper(root,targetSum,[])\n",
    "        return res\n",
    "# 方法2 迭代\n",
    "class Solution:\n",
    "    def pathSum(self, root: TreeNode, targetSum: int) -> List[List[int]]:\n",
    "        # 迭代思路\n",
    "        if not root:\n",
    "            return []\n",
    "        stack=[(root,targetSum,[])]\n",
    "        res=[]\n",
    "        while stack:\n",
    "            node,targetSum,tmp=stack.pop()\n",
    "            # tmp记录路径，如果是叶子节点，且满足条件，则添加至res\n",
    "            if node.left==None and node.right==None and node.val==targetSum:\n",
    "                tmp.append(node.val)\n",
    "                res.append(tmp)\n",
    "            if node.left:  \n",
    "                stack.append((node.left,targetSum-node.val,tmp+[node.val])) #key，同时记录路径\n",
    "            if node.right:\n",
    "                stack.append((node.right,targetSum-node.val,tmp+[node.val]))\n",
    "        return res"
   ]
  },
  {
   "cell_type": "markdown",
   "metadata": {},
   "source": [
    "### leetcode124 二叉树中的最大路径和    top100  困难"
   ]
  },
  {
   "cell_type": "code",
   "execution_count": null,
   "metadata": {},
   "outputs": [],
   "source": [
    "class Solution:\n",
    "    def __init__(self):\n",
    "        self.maxpathsum=float(\"-inf\")\n",
    "    def maxPathSum(self, root: TreeNode) -> int:\n",
    "        # 递归\n",
    "        # 设置一个函数，递归求得所有节点的最大贡献值，然后基于节点的最大贡献值，即可求得最大路径和\n",
    "        def maxgain(node):\n",
    "            if not node:\n",
    "                return 0\n",
    "            # 贡献值需为正  key\n",
    "            leftgain=max(maxgain(node.left),0)\n",
    "            rightgain=max(maxgain(node.right),0)\n",
    "            # 最大路径和=左节点贡献值+根节点+右节点贡献值，但是某个节点的贡献值不能为左右相加，因为这样求得的路径会重复节点  key\n",
    "            pathsum=leftgain+node.val+rightgain\n",
    "            # 更新最大路径和\n",
    "            self.maxpathsum=max(self.maxpathsum,pathsum)\n",
    "            # 递归返回每个节点的最大贡献值  key\n",
    "            return node.val+max(leftgain,rightgain)\n",
    "        maxgain(root)\n",
    "        return self.maxpathsum"
   ]
  },
  {
   "cell_type": "markdown",
   "metadata": {},
   "source": [
    "### leetcode129 求根节点到叶子节点数字之和  codetop"
   ]
  },
  {
   "cell_type": "code",
   "execution_count": null,
   "metadata": {},
   "outputs": [],
   "source": [
    "#方法1 递归\n",
    "class Solution:\n",
    "    def sumNumbers(self, root: TreeNode) -> int:\n",
    "        def helper(root,nums):\n",
    "            if not root:\n",
    "                return 0\n",
    "            # 先乘以10，在加上node.val，例题中例（0*10+1）*10+2=12\n",
    "            nums*=10\n",
    "            nums+=root.val\n",
    "            # 到达叶子节点则结束\n",
    "            if root.left==None and root.right==None:\n",
    "                res.append(nums)\n",
    "            # 递归左子树以及右子树，计算所有到达叶子节点的值\n",
    "            if root.left:\n",
    "                helper(root.left,nums)\n",
    "            if root.right:\n",
    "                helper(root.right,nums)\n",
    "        res=[]\n",
    "        helper(root,0)\n",
    "        return sum(res)\n",
    "#方法2 迭代\n",
    "class Solution:\n",
    "    def sumNumbers(self, root: TreeNode) -> int:\n",
    "        if not root:\n",
    "            return 0\n",
    "        stack=[(root,0)]\n",
    "        res=[]\n",
    "        while stack:\n",
    "            node,nums=stack.pop()\n",
    "            nums*=10\n",
    "            nums+=node.val\n",
    "            if node.left==None and node.right==None:  #记录每个叶子节点处的路径值\n",
    "                res.append(nums)  \n",
    "            if node.left:\n",
    "                stack.append((node.left,nums))\n",
    "            if node.right:\n",
    "                stack.append((node.right,nums))\n",
    "        return sum(res)"
   ]
  },
  {
   "cell_type": "markdown",
   "metadata": {},
   "source": [
    "### leetcode257 二叉树的所有路径"
   ]
  },
  {
   "cell_type": "code",
   "execution_count": null,
   "metadata": {},
   "outputs": [],
   "source": [
    "class Solution:\n",
    "    def binaryTreePaths(self, root: TreeNode) -> List[str]:\n",
    "        if not root:\n",
    "            return []\n",
    "        stack=[(root,'')]\n",
    "        res=[]\n",
    "        while stack:\n",
    "            node,path=stack.pop()\n",
    "            path+=str(node.val)\n",
    "            if node.left==None and node.right==None:\n",
    "                res.append(path)\n",
    "            if node.left:\n",
    "                stack.append((node.left,path+'->'))\n",
    "            if node.right:\n",
    "                stack.append((node.right,path+'->'))\n",
    "        return res"
   ]
  },
  {
   "cell_type": "markdown",
   "metadata": {},
   "source": [
    "# 二叉搜索"
   ]
  },
  {
   "cell_type": "markdown",
   "metadata": {},
   "source": [
    "## 二分查找"
   ]
  },
  {
   "cell_type": "markdown",
   "metadata": {},
   "source": [
    "### lc704 二分查找 codetop"
   ]
  },
  {
   "cell_type": "code",
   "execution_count": null,
   "metadata": {},
   "outputs": [],
   "source": []
  },
  {
   "cell_type": "code",
   "execution_count": null,
   "metadata": {},
   "outputs": [],
   "source": [
    "# 704 二分查找 codetop\n",
    "class Solution:\n",
    "    def search(self, nums: List[int], target: int) -> int:\n",
    "        if not nums:\n",
    "            return -1\n",
    "        left=0\n",
    "        right=len(nums)-1\n",
    "        while left<=right:\n",
    "            mid=(left+right)//2\n",
    "            if nums[mid]==target:\n",
    "                return mid\n",
    "            elif nums[mid]>target:\n",
    "                right=mid-1\n",
    "            else:\n",
    "                left=mid+1\n",
    "        return -1"
   ]
  },
  {
   "cell_type": "markdown",
   "metadata": {},
   "source": [
    "### lc69 x的平方根  codetop"
   ]
  },
  {
   "cell_type": "code",
   "execution_count": null,
   "metadata": {},
   "outputs": [],
   "source": [
    "# 69 x的平方根  codetop\n",
    "#二分查找的思路，时间复杂度logn\n",
    "class Solution:\n",
    "    def mySqrt(self, x: int) -> int:\n",
    "        if x==0 or x==1:\n",
    "            return x\n",
    "        left=0\n",
    "        right=x\n",
    "        while left<=right:\n",
    "            mid=left+(right-left)//2\n",
    "            if mid**2==x:\n",
    "                return mid\n",
    "            elif mid**2<x:\n",
    "                ans=mid #x的平方根的整数部分一定是mid**2<=x,此时当mid接近x的平方根时，（mid+1）**2一定大于x，会跳出循环，所以这里记录一下ans，最后返回ans即可\n",
    "                left=mid+1\n",
    "            else:\n",
    "                right=mid-1\n",
    "        return ans\n",
    "class Solution:\n",
    "    def mySqrt(self, x: int) -> int:\n",
    "        '''\n",
    "        由于计算机无法存储浮点数的精确值,而指数函数和对数函数的参数和返回值均为浮点数，因此运算过程中会存在误差。计算结果会比精确结果小，误差在10（-11）次方，因此最后对res res+1进行一个判断即可\n",
    "        '''\n",
    "        if x==0:\n",
    "            return 0\n",
    "        res=int(math.exp(0.5*math.log(x)))\n",
    "        return res+1 if (res+1)**2<=x else res"
   ]
  },
  {
   "cell_type": "markdown",
   "metadata": {},
   "source": [
    "### lc4 寻找2个有序数组的中位数 codetop   困难"
   ]
  },
  {
   "cell_type": "code",
   "execution_count": null,
   "metadata": {},
   "outputs": [],
   "source": [
    "# 4 寻找2个有序数组的中位数 codetop   困难\n",
    "#因为要求时间复杂度是O(log(m+n)) 所以不能采用归并排序，考虑二分查找\n",
    "class Solution:\n",
    "    def findMedianSortedArrays(self, nums1: List[int], nums2: List[int]) -> float:\n",
    "        #二分查找\n",
    "        #找到两个有序数组的分割线i，j 分割线满足的条件是：\n",
    "        # 1、i+j=分割线左侧2个数组的元素数量 \n",
    "        # 2、分割线左侧nums1最大值nums1LeftMax<=nums2RightMin 分割线右侧nums2最小值 and nums2LeftMax<=nums1RightMin\n",
    "        if len(nums1)>len(nums2):\n",
    "            return self.findMedianSortedArrays(nums2,nums1) #查找长度较短的数组，缩短查找时间\n",
    "        m=len(nums1)\n",
    "        n=len(nums2)\n",
    "        left=0\n",
    "        right=m\n",
    "        totalLeft=(m+n+1)//2\n",
    "        while left<=right: #一个数组为主进行二分查找，因为找到了合适的i也就确定了j\n",
    "            i=(left+right)//2\n",
    "            j=totalLeft-i\n",
    "            nums1LeftMax=(float('-inf') if i==0 else nums1[i-1])\n",
    "            nums1RightMin=(float('inf') if i==m else nums1[i])\n",
    "            nums2LeftMax=(float('-inf') if j==0 else nums2[j-1])\n",
    "            nums2RightMin=(float('inf') if j==n else nums2[j])\n",
    "            if nums1LeftMax>nums2RightMin:\n",
    "                right=i-1\n",
    "            else:\n",
    "                medianLeft=max(nums1LeftMax,nums2LeftMax) \n",
    "                medianRight=min(nums1RightMin,nums2RightMin)\n",
    "                left=i+1\n",
    "        return medianLeft if (m+n)%2 else (medianLeft+medianRight)/2 #奇数个元素，返回分割线左侧较大的元素，偶数个元素，返回分割线左侧较大的和分割线右侧较小的元素的平均值"
   ]
  },
  {
   "cell_type": "markdown",
   "metadata": {},
   "source": [
    "### lc162 寻找峰值 codetop"
   ]
  },
  {
   "cell_type": "code",
   "execution_count": null,
   "metadata": {},
   "outputs": [],
   "source": [
    "# 162 寻找峰值 codetop\n",
    "class Solution:\n",
    "    def findPeakElement(self, nums: List[int]) -> int:\n",
    "        # 二分查找\n",
    "        if len(nums)==1:\n",
    "            return 0\n",
    "        n=len(nums)\n",
    "        left,right=0,n-1\n",
    "        def get(mid):\n",
    "            if mid==-1 or mid==n:\n",
    "                return float('-inf')\n",
    "            else:\n",
    "                return nums[mid]\n",
    "        while left<=right:\n",
    "            mid=(left+right)//2 \n",
    "            if get(mid-1)<get(mid)>get(mid+1):#中间索引刚好是封顶即返回\n",
    "                return mid\n",
    "            elif get(mid)<get(mid+1):#处于上坡位置，则往右查找，一定会遇到一个峰顶\n",
    "                left=mid+1\n",
    "            else:\n",
    "                right=mid-1"
   ]
  },
  {
   "cell_type": "markdown",
   "metadata": {},
   "source": [
    "### leetcode33 搜索旋转排序数组 codetop"
   ]
  },
  {
   "cell_type": "code",
   "execution_count": null,
   "metadata": {},
   "outputs": [],
   "source": [
    "class Solution:\n",
    "    def search(self, nums: List[int], target: int) -> int:\n",
    "        l=0\n",
    "        r=len(nums)-1\n",
    "        while l<=r:\n",
    "            mid=(l+r)//2\n",
    "            if nums[mid]==target:\n",
    "                return mid\n",
    "            # 如果左半部分有序：\n",
    "            if nums[l]<=nums[mid]:  #key\n",
    "                # 同时target正好在这个区间，则r=mid-1\n",
    "                if nums[l]<=target<=nums[mid]:\n",
    "                    r=mid-1\n",
    "                # 否则在右半部分进行查找\n",
    "                else:\n",
    "                    l=mid+1\n",
    "            # 如果右侧部有序\n",
    "            else:\n",
    "                if nums[mid]<target<=nums[r]:\n",
    "                    l=mid+1\n",
    "                else:\n",
    "                    r=mid-1\n",
    "        return -1"
   ]
  },
  {
   "cell_type": "markdown",
   "metadata": {},
   "source": [
    "### leetcode81 搜索旋转排序数组ii"
   ]
  },
  {
   "cell_type": "code",
   "execution_count": null,
   "metadata": {},
   "outputs": [],
   "source": [
    "class Solution:\n",
    "    def search(self, nums: List[int], target: int) -> bool:\n",
    "        l=0\n",
    "        r=len(nums)-1\n",
    "        while l<=r:\n",
    "            mid=(l+r)//2\n",
    "            if nums[mid]==target:\n",
    "                return True\n",
    "            # 需要把重复值去掉，否则会干扰下面的区间判断\n",
    "            while l<mid and nums[l]==nums[mid]:\n",
    "                l+=1\n",
    "            # 如果左侧有序\n",
    "            if nums[l]<=nums[mid]:\n",
    "                if nums[l]<=target<=nums[mid]:\n",
    "                    r=mid-1\n",
    "                else:\n",
    "                    l=mid+1\n",
    "            # 如果右侧有序\n",
    "            else:\n",
    "                if nums[mid]<target<=nums[r]:\n",
    "                    l=mid+1\n",
    "                else:\n",
    "                    r=mid-1\n",
    "        return False"
   ]
  },
  {
   "cell_type": "markdown",
   "metadata": {},
   "source": [
    "### leetcode34 排序数组中查找元素的第一个和最后一个位置  top100"
   ]
  },
  {
   "cell_type": "code",
   "execution_count": null,
   "metadata": {},
   "outputs": [],
   "source": [
    "class Solution:\n",
    "    def searchRange(self, nums: List[int], target: int) -> List[int]:\n",
    "        if not nums:\n",
    "            return [-1,-1]\n",
    "        def findindex(findFirstIndex):\n",
    "            n=len(nums)\n",
    "            l=0\n",
    "            r=n-1\n",
    "            while l<=r:\n",
    "                mid=(l+r)//2\n",
    "                if nums[mid]>target:\n",
    "                    r=mid-1\n",
    "                elif nums[mid]<target:\n",
    "                    l=mid+1\n",
    "                else:\n",
    "                    # 如果是查找开始位置，向左查找\n",
    "                    if findFirstIndex:\n",
    "                        if mid>0 and nums[mid]==nums[mid-1]:\n",
    "                            r=mid-1\n",
    "                        else:\n",
    "                            return mid\n",
    "                    # 如果查找结束位置，向右查找为\n",
    "                    else:\n",
    "                        if mid<n-1 and nums[mid]==nums[mid+1]:\n",
    "                            l=mid+1\n",
    "                        else:\n",
    "                            return mid\n",
    "            return -1\n",
    "        return [findindex(True),findindex(False)]"
   ]
  },
  {
   "cell_type": "markdown",
   "metadata": {},
   "source": [
    "### leetcode35 搜索插入位置"
   ]
  },
  {
   "cell_type": "code",
   "execution_count": null,
   "metadata": {},
   "outputs": [],
   "source": [
    "class Solution:\n",
    "    def searchInsert(self, nums: List[int], target: int) -> int:\n",
    "        l=0\n",
    "        r=len(nums)-1\n",
    "        while l<=r:\n",
    "            mid=(l+r)//2\n",
    "            if nums[mid]<target:\n",
    "                l=mid+1\n",
    "            elif nums[mid]>target:\n",
    "                r=mid-1\n",
    "            else:\n",
    "                return mid\n",
    "        return l"
   ]
  },
  {
   "cell_type": "markdown",
   "metadata": {},
   "source": [
    "### leetcode74 搜索二维矩阵 codetop "
   ]
  },
  {
   "cell_type": "code",
   "execution_count": null,
   "metadata": {},
   "outputs": [],
   "source": [
    "class Solution:\n",
    "    def searchMatrix(self, matrix: List[List[int]], target: int) -> bool:\n",
    "        m=len(matrix)\n",
    "        n=len(matrix[0])\n",
    "        # 从左下角开始搜索\n",
    "        x=m-1\n",
    "        y=0\n",
    "        while x>=0 and y<n:\n",
    "            # 如果大于目标值，则向上一行搜索\n",
    "            if matrix[x][y]>target:\n",
    "                x-=1\n",
    "            # 如果小于目标值，则当前行，向右搜索\n",
    "            elif matrix[x][y]<target:\n",
    "                y+=1\n",
    "            else:\n",
    "                return True\n",
    "        return False"
   ]
  },
  {
   "cell_type": "markdown",
   "metadata": {},
   "source": [
    "### leetcode240  搜索二维矩阵ii   top100"
   ]
  },
  {
   "cell_type": "code",
   "execution_count": null,
   "metadata": {},
   "outputs": [],
   "source": [
    "class Solution:\n",
    "    def searchMatrix(self, matrix: List[List[int]], target: int) -> bool:\n",
    "        m=len(matrix)\n",
    "        n=len(matrix[0])\n",
    "        x=m-1\n",
    "        y=0\n",
    "        while x>=0 and y<n:\n",
    "            if matrix[x][y]>target:\n",
    "                x-=1\n",
    "            elif matrix[x][y]<target:\n",
    "                y+=1\n",
    "            else:\n",
    "                return True\n",
    "        return False"
   ]
  },
  {
   "cell_type": "markdown",
   "metadata": {},
   "source": [
    "### leetcode153 寻找旋转排序数组中的最小值 codetop"
   ]
  },
  {
   "cell_type": "code",
   "execution_count": null,
   "metadata": {},
   "outputs": [],
   "source": [
    "class Solution:\n",
    "    def findMin(self, nums: List[int]) -> int:\n",
    "        n=len(nums)\n",
    "        l=0\n",
    "        r=n-1\n",
    "        while l<r:#为什么不是l<=r low<high，假如最后循环到{*,10,1,*}的这种情况时，nums[low]=10,nums[high]=1,nums[mid]=10,low=mid+1,\n",
    "#直接可以跳出循环了,所以low<high,此时low指向的就是最小值的下标;\n",
    "#如果low<=high的话，low=high，还会再不必要的循环一次，此时最后一次循环的时候会发生low==high==mid，\n",
    "#则nums[mid]==nums[high]，则会走一次else语句，则low=mid+1,此时low指向的是最小值的下一个下标，\n",
    "#则需要return[low-1\n",
    "            mid=(l+r)//2\n",
    "            if nums[mid] > nums[r]:\n",
    "                # 这种情况，最小值一定在右侧\n",
    "                l=mid+1\n",
    "            else:\n",
    "                # 这种情况下，令r=mid逐渐逼近最小值，为什么不是mid-1：对于mid刚好是最小值，{4,5,1,2,3}，如果high=mid-1，则永久丢失了最小值1\n",
    "                r=mid\n",
    "        return nums[l]"
   ]
  },
  {
   "cell_type": "markdown",
   "metadata": {},
   "source": [
    "## 二叉搜索树"
   ]
  },
  {
   "cell_type": "markdown",
   "metadata": {},
   "source": [
    "### leetcode235 二叉搜索树的最近公共祖先 codetop"
   ]
  },
  {
   "cell_type": "code",
   "execution_count": null,
   "metadata": {},
   "outputs": [],
   "source": [
    "class Solution:\n",
    "    def lowestCommonAncestor(self, root: 'TreeNode', p: 'TreeNode', q: 'TreeNode') -> 'TreeNode':\n",
    "        cur=root\n",
    "        while cur:\n",
    "            # p,q均大于当前节点，则迭代搜索右子树\n",
    "            if p.val>cur.val and q.val>cur.val:\n",
    "                cur=cur.right\n",
    "            # p,q均小于当前节点，则迭代搜索左子树\n",
    "            elif p.val<cur.val and q.val<cur.val:\n",
    "                cur=cur.left\n",
    "            # 直到刚好迭代至p,q分布在左右子树，则当前节点为最近公共祖先\n",
    "            else:\n",
    "                return cur"
   ]
  },
  {
   "cell_type": "markdown",
   "metadata": {},
   "source": [
    "### leetcode450 删除二叉搜索树中的节点 codetop"
   ]
  },
  {
   "cell_type": "code",
   "execution_count": null,
   "metadata": {},
   "outputs": [],
   "source": [
    "class Solution:\n",
    "    def deleteNode(self, root: TreeNode, key: int) -> TreeNode:\n",
    "        if root is None:\n",
    "            return None\n",
    "        # 递归左子树删除节点\n",
    "        if key<root.val:\n",
    "            root.left=self.deleteNode(root.left,key)\n",
    "            return root\n",
    "        # 递归右子树删除节点\n",
    "        if key>root.val:\n",
    "            root.right=self.deleteNode(root.right,key)\n",
    "            return root\n",
    "        # 如果当前节点==key,则删除该节点\n",
    "        # 删除记节点的左子树为空，则使用其右子树替代\n",
    "        if root.left is None:\n",
    "            new_root=root.right\n",
    "            root.right=None\n",
    "            return new_root\n",
    "        # 删除节点的右子树为空，则使用其左子树替代\n",
    "        if root.right is None:\n",
    "            new_root=root.left\n",
    "            root.left=None\n",
    "            return new_root\n",
    "        # 如果删除节点的左右子树均存在，则使用左子树中的最大值替代\n",
    "        node=root.left\n",
    "        # 找到左子树中的最大值，也就是最右节点\n",
    "        while node.right!=None:\n",
    "            node=node.right\n",
    "        # 左子树中的最右节点成为新的根节点\n",
    "        new_root=TreeNode(node.val)\n",
    "        # 更新原有的左子树，移除原有的最大值\n",
    "        new_root.left=self.removeMax(root.left)\n",
    "        # 右子树不变\n",
    "        new_root.right=root.right\n",
    "        root.left=None\n",
    "        root.right=None\n",
    "        return new_root\n",
    "\n",
    "    def removeMax(self,node):\n",
    "        # 结束条件，达到最右节点，使用该节点的左子树替代它\n",
    "        if node.right==None:\n",
    "            new_root=node.left\n",
    "            node.left=None\n",
    "            return new_root\n",
    "        # 递归右子树，删除最右节点\n",
    "        node.right=self.removeMax(node.right)\n",
    "        return node"
   ]
  },
  {
   "cell_type": "markdown",
   "metadata": {},
   "source": [
    "### leetcode669 修剪二叉搜索树"
   ]
  },
  {
   "cell_type": "code",
   "execution_count": null,
   "metadata": {},
   "outputs": [],
   "source": [
    "class Solution:\n",
    "    def trimBST(self, root: TreeNode, low: int, high: int) -> TreeNode:\n",
    "        if root==None:\n",
    "            return None\n",
    "        # 递归修剪左右子树\n",
    "        l_res=self.trimBST(root.left,low,high)\n",
    "        r_res=self.trimBST(root.right,low,high)\n",
    "        # 当前根节点满足条件\n",
    "        if low<=root.val<=high:\n",
    "            root.left=l_res\n",
    "            root.right=r_res\n",
    "        # 根节点小于low时，仅保留r_res\n",
    "        elif root.val<low:\n",
    "            root=r_res\n",
    "        # 根节点大于high时，仅保留l_res\n",
    "        else:\n",
    "            root=l_res\n",
    "        return root"
   ]
  },
  {
   "cell_type": "markdown",
   "metadata": {},
   "source": [
    "### leetcode700 二叉搜索树中的搜索"
   ]
  },
  {
   "cell_type": "code",
   "execution_count": null,
   "metadata": {},
   "outputs": [],
   "source": [
    "class Solution:\n",
    "    def searchBST(self, root: TreeNode, val: int) -> TreeNode:\n",
    "        while root!=None and root.val!=val:\n",
    "            if root.val>val:\n",
    "                root=root.left\n",
    "            elif root.val<val:\n",
    "                root=root.right\n",
    "        return root"
   ]
  },
  {
   "cell_type": "markdown",
   "metadata": {},
   "source": [
    "### leetcode701 二叉搜索树中的插入操作"
   ]
  },
  {
   "cell_type": "code",
   "execution_count": null,
   "metadata": {},
   "outputs": [],
   "source": [
    "class Solution:\n",
    "    def insertIntoBST(self, root: TreeNode, val: int) -> TreeNode:\n",
    "        res=copy.deepcopy(root)\n",
    "        cur=res\n",
    "        if not cur:\n",
    "            return TreeNode(val)\n",
    "        while cur:\n",
    "            if val>cur.val:\n",
    "                # 走向右子树\n",
    "                if cur.right!=None:\n",
    "                    cur=cur.right\n",
    "                else:\n",
    "                    cur.right=TreeNode(val)\n",
    "                    return res\n",
    "            if val<cur.val:\n",
    "                # 走向左子树\n",
    "                if cur.left!=None:\n",
    "                    cur=cur.left\n",
    "                else:\n",
    "                    cur.left=TreeNode(val)\n",
    "                    return res"
   ]
  },
  {
   "cell_type": "markdown",
   "metadata": {},
   "source": [
    "### leetcode98 验证二叉搜索树   top100"
   ]
  },
  {
   "cell_type": "code",
   "execution_count": null,
   "metadata": {},
   "outputs": [],
   "source": [
    "class Solution:\n",
    "    def isValidBST(self, root: TreeNode) -> bool:\n",
    "        def helper(root,max_val,min_val):\n",
    "            if root==None:\n",
    "                return True\n",
    "            # 如果当前节点满足条件，则递归左右子树看是否满足条件\n",
    "            if root.val>min_val and root.val<max_val:\n",
    "                # 对于左子树来说，最大值边界更新为root.val，对于右子树来说，最小值边界更新为root\n",
    "                return helper(root.left,root.val,min_val) and helper(root.right,max_val,root.val)\n",
    "            else:\n",
    "                return False\n",
    "\n",
    "        max_val=float('inf')\n",
    "        min_val=-float('inf')\n",
    "        return helper(root,max_val,min_val)"
   ]
  },
  {
   "cell_type": "markdown",
   "metadata": {},
   "source": [
    "### leetcode99 恢复二叉搜索树"
   ]
  },
  {
   "cell_type": "code",
   "execution_count": null,
   "metadata": {},
   "outputs": [],
   "source": [
    "class Solution:\n",
    "    def recoverTree(self, root: TreeNode) -> None:\n",
    "        \"\"\"\n",
    "        Do not return anything, modify root in-place instead.\n",
    "        \"\"\"\n",
    "        # 使用中序遍历，二叉搜索树写入数组就是顺序排列的\n",
    "        nodes=[]\n",
    "        def dfs(root):\n",
    "            if not root:\n",
    "                return None\n",
    "            dfs(root.left)\n",
    "            nodes.append(root)\n",
    "            dfs(root.right)\n",
    "        dfs(root)\n",
    "        # x用于存储需要交换的第一个值\n",
    "        x=None\n",
    "        # y用于存储需要交换的第二个值\n",
    "        y=None\n",
    "        for i in range(1,len(nodes)):\n",
    "            if nodes[i].val<nodes[i-1].val:\n",
    "                # 当第2次发现后一个值小于前一个值时，y存储“后一个值”\n",
    "                y=nodes[i]\n",
    "                # 当第一次发现后一个值小于前一个值时，x存储这个“前一个值”\n",
    "                if not x:\n",
    "                    x=nodes[i-1]\n",
    "        # xy节点交换值\n",
    "        if x and y:\n",
    "            x.val,y.val=y.val,x.val\n",
    "        return root"
   ]
  },
  {
   "cell_type": "markdown",
   "metadata": {},
   "source": [
    "### leetcode230 二叉搜索树中的第K小的元素 codetop"
   ]
  },
  {
   "cell_type": "code",
   "execution_count": null,
   "metadata": {},
   "outputs": [],
   "source": [
    "class Solution:\n",
    "    def kthSmallest(self, root: TreeNode, k: int) -> int:\n",
    "        res=[]\n",
    "        def dfs(root):\n",
    "            if not root:\n",
    "                return None\n",
    "            dfs(root.left)\n",
    "            res.append(root.val)\n",
    "            dfs(root.right)\n",
    "        #中序遍历，使二叉搜索树的值从小到大进行排列\n",
    "        dfs(root)\n",
    "        # 返回第k小元素即可\n",
    "        return res[k-1]"
   ]
  },
  {
   "cell_type": "markdown",
   "metadata": {},
   "source": [
    "### leetcode501 二叉搜索树中的众数"
   ]
  },
  {
   "cell_type": "code",
   "execution_count": null,
   "metadata": {},
   "outputs": [],
   "source": [
    "class Solution:\n",
    "    def findMode(self, root: TreeNode) -> List[int]:\n",
    "        nodes=[]\n",
    "        def dfs(root):\n",
    "            if not root:\n",
    "                return None\n",
    "            dfs(root.left)\n",
    "            nodes.append(root.val)\n",
    "            dfs(root.right)\n",
    "        # 中序遍历所有元素\n",
    "        dfs(root)\n",
    "        val_count={}\n",
    "        # 计数\n",
    "        for x in nodes:\n",
    "            if val_count.get(x)==None:\n",
    "                val_count[x]=1\n",
    "            else:\n",
    "                val_count[x]+=1\n",
    "        print(val_count)\n",
    "        max_fre=0\n",
    "        res=[]\n",
    "        # get计数最大的元素\n",
    "        for k,v in val_count.items():\n",
    "            if v>max_fre:\n",
    "                max_fre=v\n",
    "                res=[k]\n",
    "            elif v==max_fre:\n",
    "                res.append(k)\n",
    "        return res"
   ]
  },
  {
   "cell_type": "markdown",
   "metadata": {},
   "source": [
    "# 排序"
   ]
  },
  {
   "cell_type": "markdown",
   "metadata": {},
   "source": [
    "### leetcode21 合并2个有序的链表   top100"
   ]
  },
  {
   "cell_type": "code",
   "execution_count": null,
   "metadata": {},
   "outputs": [],
   "source": [
    "class Solution:\n",
    "    def mergeTwoLists(self, l1: ListNode, l2: ListNode) -> ListNode:\n",
    "        dummy=ListNode(0)\n",
    "        cur=dummy\n",
    "        while l1!=None or l2!=None:\n",
    "            if l1==None:\n",
    "                cur.next=l2\n",
    "                break\n",
    "            if l2==None:\n",
    "                cur.next=l1\n",
    "                break\n",
    "            if l1.val>=l2.val:\n",
    "                cur.next=ListNode(l2.val)\n",
    "                cur=cur.next\n",
    "                l2=l2.next\n",
    "            else:\n",
    "                cur.next=ListNode(l1.val)\n",
    "                cur=cur.next\n",
    "                l1=l1.next\n",
    "        return dummy.next"
   ]
  },
  {
   "cell_type": "markdown",
   "metadata": {},
   "source": [
    "### leetcode88 合并2个有序数组   codetop"
   ]
  },
  {
   "cell_type": "code",
   "execution_count": null,
   "metadata": {},
   "outputs": [],
   "source": [
    "class Solution:\n",
    "    def merge(self, nums1: List[int], m: int, nums2: List[int], n: int) -> None:\n",
    "        \"\"\"\n",
    "        Do not return anything, modify nums1 in-place instead.\n",
    "        \"\"\"\n",
    "        l1=m-1\n",
    "        l2=n-1\n",
    "        tail=m+n-1\n",
    "        while l1>=0 or l2>=0:\n",
    "            if l1<0:\n",
    "                nums1[tail]=nums2[l2]\n",
    "                l2-=1\n",
    "            elif l2<0:\n",
    "                nums1[tail]=nums1[l1]\n",
    "                l1-=1\n",
    "            else:\n",
    "                if nums1[l1]>nums2[l2]:\n",
    "                    nums1[tail]=nums1[l1]\n",
    "                    l1-=1\n",
    "                else:\n",
    "                    nums1[tail]=nums2[l2]\n",
    "                    l2-=1\n",
    "            tail-=1\n",
    "        return nums1"
   ]
  },
  {
   "cell_type": "markdown",
   "metadata": {},
   "source": [
    "### leetcode23 合并k个排序链表   top100"
   ]
  },
  {
   "cell_type": "code",
   "execution_count": null,
   "metadata": {},
   "outputs": [],
   "source": [
    "class Solution:\n",
    "    def mergeKLists(self, lists: List[ListNode]) -> ListNode:\n",
    "        if not lists:\n",
    "            # 注意返回值\n",
    "            return None\n",
    "        k=len(lists)\n",
    "        interval=1\n",
    "        # 两两合并list，归并排序\n",
    "        while interval<k:\n",
    "            for i in range(0,k,interval*2):\n",
    "                if i+interval<k:\n",
    "                    lists[i]=self.mergeList(lists[i],lists[i+interval])  #key\n",
    "                else:\n",
    "                    break\n",
    "            interval*=2   #key\n",
    "        return lists[0]\n",
    "    # 合并2个list\n",
    "    def mergeList(self,l1,l2):\n",
    "        dummy=ListNode(0)\n",
    "        cur=dummy\n",
    "        while l1!=None or l2!=None:\n",
    "            if l1==None:\n",
    "                cur.next=l2\n",
    "                break\n",
    "            if l2==None:\n",
    "                cur.next=l1\n",
    "                break\n",
    "            if l1.val>=l2.val:\n",
    "                cur.next=ListNode(l2.val)\n",
    "                cur=cur.next\n",
    "                l2=l2.next\n",
    "            else:\n",
    "                cur.next=ListNode(l1.val)\n",
    "                cur=cur.next\n",
    "                l1=l1.next\n",
    "        return dummy.next"
   ]
  },
  {
   "cell_type": "markdown",
   "metadata": {},
   "source": [
    "### leetcode148 排序链表  top100"
   ]
  },
  {
   "cell_type": "code",
   "execution_count": null,
   "metadata": {},
   "outputs": [],
   "source": [
    "class Solution:\n",
    "    def sortList(self, head: ListNode) -> ListNode:\n",
    "        if not head:\n",
    "            return None\n",
    "        # 整体思路采用归并排序的方法\n",
    "        # 递归终止条件\n",
    "        if head.next==None:\n",
    "            return head\n",
    "        # 寻找链表中点，并切分成2部分\n",
    "        fast=head\n",
    "        slow=head\n",
    "        while fast.next!=None and fast.next.next!=None:\n",
    "            slow=slow.next\n",
    "            fast=fast.next.next\n",
    "        mid=slow.next\n",
    "        slow.next=None\n",
    "        l1=head\n",
    "        l2=mid\n",
    "        # 递归，切分成最小粒度，然后合并\n",
    "        l1=self.sortList(head)\n",
    "        l2=self.sortList(mid)\n",
    "        return self.mergeList(l1,l2)\n",
    "    def mergeList(self,l1,l2):\n",
    "        dummy=ListNode(0)\n",
    "        cur=dummy\n",
    "        while l1!=None or l2!=None:\n",
    "            if l1==None:\n",
    "                cur.next=l2\n",
    "                break\n",
    "            if l2==None:\n",
    "                cur.next=l1\n",
    "                break\n",
    "            if l1.val<=l2.val:\n",
    "                cur.next=ListNode(l1.val)\n",
    "                cur=cur.next\n",
    "                l1=l1.next\n",
    "            else:\n",
    "                cur.next=ListNode(l2.val)\n",
    "                cur=cur.next\n",
    "                l2=l2.next\n",
    "        return dummy.next"
   ]
  },
  {
   "cell_type": "markdown",
   "metadata": {},
   "source": [
    "### leetcode 215 数组第k大元素 codetop "
   ]
  },
  {
   "cell_type": "code",
   "execution_count": null,
   "metadata": {},
   "outputs": [],
   "source": [
    "# 215 数组第k大元素 codetop \n",
    "#快排 时间\n",
    "class Solution:\n",
    "    def findKthLargest(self, nums: List[int], k: int) -> int:\n",
    "        def partition(nums,left,right):\n",
    "            while True:\n",
    "                while nums[left]<nums[right]:\n",
    "                    right-=1\n",
    "                else:\n",
    "                    nums[left],nums[right]=nums[right],nums[left]\n",
    "                    if left>=right:\n",
    "                        break\n",
    "                    left+=1\n",
    "                \n",
    "                while nums[left]<nums[right]:\n",
    "                    left+=1\n",
    "                else:\n",
    "                    nums[left],nums[right]=nums[right],nums[left]\n",
    "                    if left>=right:\n",
    "                        break\n",
    "                    right-=1\n",
    "            return left\n",
    "        left=0\n",
    "        right=len(nums)-1\n",
    "        k=len(nums)-k \n",
    "        while left<right:\n",
    "            j=partition(nums,left,right)\n",
    "            if j==k:\n",
    "                break\n",
    "            elif j<k:\n",
    "                left=j+1\n",
    "            else:\n",
    "                right=j-1\n",
    "        return nums[k]"
   ]
  },
  {
   "cell_type": "markdown",
   "metadata": {},
   "source": [
    "### lc912 排序数组 codetop"
   ]
  },
  {
   "cell_type": "code",
   "execution_count": null,
   "metadata": {},
   "outputs": [],
   "source": [
    "# 912 排序数组 codetop \n",
    "#快排，快速排序的主要思想是通过划分将待排序的序列分成前后两部分，其中前一部分的数据都比后一部分的数据要小，\n",
    "#然后再递归调用函数对两部分的序列分别进行快速排序，以此使整个序列达到有序。时间复杂度O(nlogn) 空间复杂度O(logn)递归调用的层数\n",
    "\n",
    "class Solution:\n",
    "    def sortArray(self, nums: List[int]) -> List[int]:\n",
    "        self.quickSort(nums,0,len(nums)-1)\n",
    "        return nums\n",
    "\n",
    "    def partition(self,nums,left,right):\n",
    "        pivot=random.randint(left,right)\n",
    "        nums[pivot],nums[right]=nums[right],nums[pivot]\n",
    "        i=left-1\n",
    "        for j in range(left,right):#只交换比分区值小并放在左半部分，遍历到最后把分区值放在i+1的位置即可，这样就【左半部分，分区值，右半部分】\n",
    "            if nums[j]<nums[right]:\n",
    "                i+=1\n",
    "                nums[j],nums[i]=nums[i],nums[j]\n",
    "        i+=1\n",
    "        nums[i],nums[right]=nums[right],nums[i]\n",
    "        return i\n",
    "\n",
    "    def quickSort(self,nums,left,right):\n",
    "        if left>=right:\n",
    "            return \n",
    "        partitionIndex=self.partition(nums,left,right)\n",
    "        self.quickSort(nums,left,partitionIndex-1)\n",
    "        self.quickSort(nums,partitionIndex+1,right)\n",
    "        return nums"
   ]
  },
  {
   "cell_type": "markdown",
   "metadata": {},
   "source": [
    "### 剑指offer40 最小的k个数 codetop"
   ]
  },
  {
   "cell_type": "code",
   "execution_count": null,
   "metadata": {},
   "outputs": [],
   "source": [
    "# 剑指offer40 最小的k个数 codetop\n",
    "class Solution:\n",
    "    def getLeastNumbers(self, arr: List[int], k: int) -> List[int]:\n",
    "        #快排\n",
    "        if not arr or k==0:\n",
    "            return []\n",
    "        left,right=0,len(arr)-1\n",
    "        while left<right:\n",
    "            partitionIndex=self.partition(arr,left,right)\n",
    "            if partitionIndex==k: #分区键左侧的都比它的值小\n",
    "                break\n",
    "            elif partitionIndex<k:\n",
    "                left=partitionIndex+1\n",
    "            else:\n",
    "                right=partitionIndex-1\n",
    "        return arr[:k] #最小的k个数 \n",
    "\n",
    "    def partition(self,arr,left,right): #分区函数\n",
    "        pivot=random.randint(left,right)\n",
    "        arr[pivot],arr[right]=arr[right],arr[pivot]\n",
    "        i=left-1\n",
    "        for j in range(left,right):\n",
    "            if arr[j]<=arr[right]: #比分区键值小的放在左端\n",
    "                i+=1\n",
    "                arr[i],arr[j]=arr[j],arr[i]\n",
    "        i+=1\n",
    "        arr[i],arr[right]=arr[right],arr[i]\n",
    "        return i"
   ]
  },
  {
   "cell_type": "markdown",
   "metadata": {},
   "source": [
    "# 前缀树"
   ]
  },
  {
   "cell_type": "markdown",
   "metadata": {},
   "source": [
    "### lc208 实现 Trie (前缀树)"
   ]
  },
  {
   "cell_type": "code",
   "execution_count": null,
   "metadata": {},
   "outputs": [],
   "source": [
    "#208 \n",
    "class Trie:\n",
    "\n",
    "    def __init__(self):\n",
    "        self.children=[None]*26\n",
    "        self.isEnd=False\n",
    "\n",
    "    def insert(self, word: str) -> None:\n",
    "        node=self\n",
    "        for ch in word:\n",
    "            ch=ord(ch)-ord('a')\n",
    "            if not node.children[ch]:\n",
    "                node.children[ch]=Trie()\n",
    "            node=node.children[ch]\n",
    "        node.isEnd=True\n",
    "\n",
    "    def search(self, word: str) -> bool:\n",
    "        node=self.searchPrefix(word)\n",
    "        return node is not None and node.isEnd\n",
    "\n",
    "    def searchPrefix(self,prefix):\n",
    "        node=self\n",
    "        for ch in prefix:\n",
    "            ch=ord(ch)-ord('a')\n",
    "            if not node.children[ch]:\n",
    "                return None\n",
    "            node=node.children[ch]\n",
    "        return node\n",
    "\n",
    "    def startsWith(self, prefix: str) -> bool:\n",
    "        return self.searchPrefix(prefix) is not None"
   ]
  },
  {
   "cell_type": "markdown",
   "metadata": {},
   "source": [
    "# 回溯"
   ]
  },
  {
   "cell_type": "markdown",
   "metadata": {},
   "source": [
    "## 排列问题"
   ]
  },
  {
   "cell_type": "markdown",
   "metadata": {},
   "source": [
    "### lc46. 全排列  codetop"
   ]
  },
  {
   "cell_type": "code",
   "execution_count": null,
   "metadata": {},
   "outputs": [],
   "source": [
    "# 时间复杂度O(n*n!) 空间复杂度O(n)\n",
    "class Solution:\n",
    "    def permute(self, nums: List[int]) -> List[List[int]]:\n",
    "        # 回溯全排列\n",
    "        def backtrack(nums):\n",
    "            if len(path)==len(nums): #满足条件的排列已经找到一组\n",
    "                return res.append(path[:])\n",
    "            for i in range(len(nums)):#排列问题可以重复，不需要从下一个idx开始\n",
    "                if nums[i] in path: #该元素在path中已经存在，则跳过\n",
    "                    continue\n",
    "                path.append(nums[i])\n",
    "                backtrack(nums) #递归\n",
    "                path.pop()#回溯\n",
    "        path=[]\n",
    "        res=[]\n",
    "        backtrack(nums)\n",
    "        return res"
   ]
  },
  {
   "cell_type": "markdown",
   "metadata": {},
   "source": [
    "### lc47 全排列2 有重复数字 codetop"
   ]
  },
  {
   "cell_type": "code",
   "execution_count": null,
   "metadata": {},
   "outputs": [],
   "source": [
    "#47 全排列2 有重复数字 codetop\n",
    "class Solution:\n",
    "    def permuteUnique(self, nums: List[int]) -> List[List[int]]:\n",
    "        def dfs(nums,path,used):\n",
    "            if len(path)==len(nums):\n",
    "                return res.append(path[:])\n",
    "            for i in range(len(nums)):\n",
    "                if not used[i]:\n",
    "                    if i>0 and nums[i]==nums[i-1] and used[i-1]==0: #同层遍历剪枝\n",
    "                        continue\n",
    "                    path.append(nums[i])\n",
    "                    used[i]=1\n",
    "                    dfs(nums,path,used)\n",
    "                    path.pop()\n",
    "                    used[i]=0\n",
    "        path=[]\n",
    "        used=[0]*len(nums)\n",
    "        res=[]\n",
    "        dfs(sorted(nums),path,used)\n",
    "        return res"
   ]
  },
  {
   "cell_type": "markdown",
   "metadata": {},
   "source": [
    "## 组合问题"
   ]
  },
  {
   "cell_type": "markdown",
   "metadata": {},
   "source": [
    "### lc39. 组合总和 codetop"
   ]
  },
  {
   "cell_type": "code",
   "execution_count": null,
   "metadata": {},
   "outputs": [],
   "source": [
    "#时间复杂度O(n*2^n) 空间复杂度O(n)\n",
    "class Solution:\n",
    "    def combinationSum(self, candidates: List[int], target: int) -> List[List[int]]:\n",
    "        # 回溯，组合问题，递归\n",
    "        def dfs(candidates,size,begin,res,path,target):\n",
    "            # 递归结束条件\n",
    "            if target<0:\n",
    "                return \n",
    "            if target==0: #target=0的path保存下来\n",
    "                res.append(path[:])\n",
    "                return\n",
    "            # 递归\n",
    "            for i in range(begin,size):\n",
    "                dfs(candidates,size,i,res,path+[candidates[i]],target-candidates[i]) #剪枝，组合问题，同层index会递增\n",
    "        size=len(candidates)\n",
    "        if size==0:\n",
    "            return []\n",
    "        path=[]\n",
    "        res=[]\n",
    "        dfs(candidates,size,0,res,path,target)\n",
    "        return res"
   ]
  },
  {
   "cell_type": "markdown",
   "metadata": {},
   "source": [
    "### lc40 组合总和2 元素只能只用一次 codetop "
   ]
  },
  {
   "cell_type": "code",
   "execution_count": null,
   "metadata": {},
   "outputs": [],
   "source": [
    "# 40 组合总和2 元素只能只用一次 codetop \n",
    "class Solution:\n",
    "    def combinationSum2(self, candidates: List[int], target: int) -> List[List[int]]:\n",
    "        def dfs(candidates,begin,size,path,target):\n",
    "            if target==0:\n",
    "                return res.append(path[:])\n",
    "            if target<0:\n",
    "                return\n",
    "            for i in range(begin,size):\n",
    "                if candidates[i]>target:\n",
    "                    break\n",
    "                if i>begin and candidates[i]==candidates[i-1]: #同层重复元素剪枝\n",
    "                    continue\n",
    "                path.append(candidates[i])\n",
    "                dfs(candidates,i+1,size,path,target-candidates[i]) #深度递归从i+1开始，因为元素只能取用一次\n",
    "                path.pop()\n",
    "        res=[]\n",
    "        path=[]\n",
    "        size=len(candidates)\n",
    "        candidates.sort()\n",
    "        dfs(candidates,0,size,path,target)\n",
    "        return res"
   ]
  },
  {
   "cell_type": "markdown",
   "metadata": {},
   "source": [
    "## 切割问题"
   ]
  },
  {
   "cell_type": "markdown",
   "metadata": {},
   "source": [
    "### lc93复原ip地址 codetop"
   ]
  },
  {
   "cell_type": "code",
   "execution_count": null,
   "metadata": {},
   "outputs": [],
   "source": [
    "# 93复原ip地址 codetop\n",
    "class Solution:\n",
    "    def restoreIpAddresses(self, s: str) -> List[str]:\n",
    "        size=len(s)\n",
    "        if size<4 or size>12:\n",
    "            return []\n",
    "        path=[]\n",
    "        res=[]\n",
    "        self.dfs(s,size,0,0,path,res)\n",
    "        return res\n",
    "\n",
    "    def dfs(self,s,size,begin,split_time,path,res):\n",
    "        if begin==size and split_time==4: #递归终止条件\n",
    "            return res.append('.'.join(path))\n",
    "        if size-begin<(4-split_time) or size-begin>3*(4-split_time): #待分割字符长度异常，提前剪枝\n",
    "            return \n",
    "        for i in range(3):#广度遍历，每次分割最多3个字符\n",
    "            if begin+i>=size: #提前剪枝\n",
    "                break\n",
    "            ip_seg=self.is_ip_segment(s,begin,begin+i) #判断ip_seg合理性\n",
    "            if ip_seg!=-1:\n",
    "                path.append(str(ip_seg))\n",
    "                self.dfs(s,size,begin+i+1,split_time+1,path,res)\n",
    "                path.pop()\n",
    "\n",
    "    def is_ip_segment(self,s,left,right):\n",
    "        res=s[left:right+1]\n",
    "        if len(res)>1 and s[left]=='0':\n",
    "            return -1\n",
    "        res=int(res)\n",
    "        if res>255:\n",
    "            return -1\n",
    "        return res"
   ]
  },
  {
   "cell_type": "markdown",
   "metadata": {},
   "source": [
    "## 子集问题"
   ]
  },
  {
   "cell_type": "markdown",
   "metadata": {},
   "source": [
    "### lc78. 子集 codetop"
   ]
  },
  {
   "cell_type": "code",
   "execution_count": null,
   "metadata": {},
   "outputs": [],
   "source": [
    "# 时间复杂度 O（n*2^n）因为有2^n种状态，每种状态时间复杂度是O（n）\n",
    "# 空间复杂度是O（n）\n",
    "class Solution:\n",
    "    def subsets(self, nums: List[int]) -> List[List[int]]:\n",
    "        # 回溯，子集问题，组合问题\n",
    "        def dfs(nums,idx):\n",
    "            res.append(path.copy()) # 把回溯的中间过程收集起来\n",
    "#             递归过程\n",
    "            for i in range(idx,len(nums)):\n",
    "                path.append(nums[i])\n",
    "                dfs(nums,i+1) #注意，递归需要从下一个元素开始\n",
    "                path.pop()\n",
    "        path=[]\n",
    "        res=[]\n",
    "        dfs(nums,0)\n",
    "        return res"
   ]
  },
  {
   "cell_type": "markdown",
   "metadata": {},
   "source": [
    "### lc22 括号生成 codetop"
   ]
  },
  {
   "cell_type": "code",
   "execution_count": null,
   "metadata": {},
   "outputs": [],
   "source": [
    "# 22 括号生成 codetop\n",
    "class Solution:\n",
    "    def generateParenthesis(self, n: int) -> List[str]:\n",
    "        def dfs(s,left,right):\n",
    "            #递归回溯的思路\n",
    "            if len(s)==2*n:\n",
    "                return res.append(''.join(s))\n",
    "            if left<n:#只要left<n，放入左括号没有限制\n",
    "                s.append('(')\n",
    "                dfs(s,left+1,right)#递归\n",
    "                s.pop()#回溯\n",
    "            if right<left:#有效括号需要满足当前的right数量<left数量\n",
    "                s.append(')')\n",
    "                dfs(s,left,right+1)\n",
    "                s.pop()\n",
    "        res=[]\n",
    "        dfs([],0,0)\n",
    "        return res"
   ]
  },
  {
   "cell_type": "markdown",
   "metadata": {},
   "source": [
    "### lc79 单词搜索 codetop"
   ]
  },
  {
   "cell_type": "code",
   "execution_count": null,
   "metadata": {},
   "outputs": [],
   "source": [
    "# 79 单词搜索 codetop\n",
    "class Solution:\n",
    "    def exist(self, board: List[List[str]], word: str) -> bool:\n",
    "        # 深度优先搜索+回溯,\n",
    "        direction=[(0,1),(0,-1),(-1,0),(1,0)]\n",
    "        m,n=len(board),len(board[0])\n",
    "        def check(i,j,k):\n",
    "            if board[i][j]!=word[k]:\n",
    "                return False\n",
    "            if k==len(word)-1:\n",
    "                return True\n",
    "            visited.add((i,j))\n",
    "            res=False\n",
    "            for di,dj in direction: #深度优先搜索\n",
    "                newi,newj=i+di,j+dj\n",
    "                if 0<=newi<m and 0<=newj<n and (newi,newj) not in visited:\n",
    "                    if check(newi,newj,k+1):\n",
    "                        res=True\n",
    "                        break #剪枝\n",
    "            visited.remove((i,j)) #回溯\n",
    "            return res\n",
    "        \n",
    "        visited=set()\n",
    "        for i in range(m):\n",
    "            for j in range(n):\n",
    "                if check(i,j,0):\n",
    "                    return True\n",
    "        return False"
   ]
  },
  {
   "cell_type": "markdown",
   "metadata": {},
   "source": [
    "# 贪心"
   ]
  },
  {
   "cell_type": "markdown",
   "metadata": {},
   "source": [
    "## 进阶题"
   ]
  },
  {
   "cell_type": "markdown",
   "metadata": {},
   "source": [
    "### lc53. 最大子序和  codetop"
   ]
  },
  {
   "cell_type": "code",
   "execution_count": null,
   "metadata": {},
   "outputs": [],
   "source": [
    "class Solution:\n",
    "    def maxSubArray(self, nums: List[int]) -> int:\n",
    "        # 贪心，局部最优，从而全局最最优\n",
    "        # 遍历数组，序列和不断累加，但是当序列和为负数时，会拖累累加下一个数字的结果，所以从头开始计算\n",
    "        res=float('-inf')\n",
    "        count=0\n",
    "        for i in range(len(nums)):\n",
    "            count+=nums[i]\n",
    "            if count>res:\n",
    "                res=count\n",
    "            if count<0:\n",
    "                count=0\n",
    "        return res"
   ]
  },
  {
   "cell_type": "markdown",
   "metadata": {},
   "source": [
    "### lc179 最大数 codetop"
   ]
  },
  {
   "cell_type": "code",
   "execution_count": null,
   "metadata": {},
   "outputs": [],
   "source": [
    "#179 最大数 codetop\n",
    "class Solution:\n",
    "    def largestNumber(self, nums: List[int]) -> str:\n",
    "        #贪心解法\n",
    "        strs=map(str,nums) # map(func,iterable)\n",
    "        def cmp(a,b):#字符串拼接后比较函数 看‘ab’>'ba' 还是‘ba’>'ab'\n",
    "            if a+b==b+a:\n",
    "                return 0\n",
    "            elif a+b>b+a:\n",
    "                return 1\n",
    "            else:\n",
    "                return -1\n",
    "        strs=sorted(strs,key=functools.cmp_to_key(cmp),reverse=True)# Python3取消了cmp，所以用关键字函数代替，本质还是比较函数；比较函数是任何接受两个参数并进行比较的可调用对象，小于返回负数，相等返回零，大于返回正数\n",
    "        return ''.join(strs) if strs[0]!='0' else '0'"
   ]
  },
  {
   "cell_type": "markdown",
   "metadata": {},
   "source": [
    "### lc402 移掉k个数字，使数字最小 codetop"
   ]
  },
  {
   "cell_type": "code",
   "execution_count": null,
   "metadata": {},
   "outputs": [],
   "source": [
    "# 402 移掉k个数字，使数字最小 codetop\n",
    "class Solution:\n",
    "    def removeKdigits(self, num: str, k: int) -> str:\n",
    "        # 贪心+栈\n",
    "        num_stack=[]\n",
    "        for digit in num:\n",
    "            while k and num_stack and num_stack[-1]>digit: #是前面的数字尽可能的小，最终结果就尽可能的小\n",
    "                num_stack.pop()\n",
    "                k-=1\n",
    "            num_stack.append(digit)\n",
    "        final_satck=num_stack[:-k] if k else num_stack #k还有次数时，num_stack是单调不降的，所以把末尾的大的数字删掉即可\n",
    "        res=''.join(final_satck).lstrip('0') #前导0删除\n",
    "        return res if res else '0'"
   ]
  },
  {
   "cell_type": "markdown",
   "metadata": {},
   "source": [
    "## 两维度权衡"
   ]
  },
  {
   "cell_type": "markdown",
   "metadata": {},
   "source": [
    "### lc406. 根据身高重建队列"
   ]
  },
  {
   "cell_type": "code",
   "execution_count": null,
   "metadata": {},
   "outputs": [],
   "source": [
    "class Solution:\n",
    "    def reconstructQueue(self, people: List[List[int]]) -> List[List[int]]:\n",
    "        # 贪心，2个维度权衡的问题，首先按照一个维度排好序，在管另外一个维度\n",
    "        people.sort(key=lambda x :(x[0],-x[1]),reverse=True) #按照身高先排好序\n",
    "        queue=[]\n",
    "        for p in people:\n",
    "            if p[1]>len(queue):\n",
    "                queue.append(p)\n",
    "            else:\n",
    "                queue.insert(p[1],p)\n",
    "        return queue"
   ]
  },
  {
   "cell_type": "markdown",
   "metadata": {},
   "source": [
    "### lc135 分发糖果  codetop"
   ]
  },
  {
   "cell_type": "code",
   "execution_count": null,
   "metadata": {},
   "outputs": [],
   "source": [
    "#135 分发糖果  codetop\n",
    "class Solution:\n",
    "    def candy(self, ratings: List[int]) -> int:\n",
    "        candy_vec=[1]*len(ratings)\n",
    "        for i in range(1,len(ratings)):#先从前到后，当前分数大于左分数，则candy+1\n",
    "            if ratings[i]>ratings[i-1]:\n",
    "                candy_vec[i]=candy_vec[i-1]+1\n",
    "        for j in range(len(ratings)-2,-1,-1):#再从后向前遍历，当前分数大于右分数，则可能candy数量+1，这样就可以同时满足当前分数大于2侧分数时，分得的candy数会大于两侧candy数\n",
    "            if ratings[j]>ratings[j+1]:\n",
    "                candy_vec[j]=max(candy_vec[j],candy_vec[j+1]+1)\n",
    "        return sum(candy_vec)"
   ]
  },
  {
   "cell_type": "markdown",
   "metadata": {},
   "source": [
    "## 贪心区间"
   ]
  },
  {
   "cell_type": "markdown",
   "metadata": {},
   "source": [
    "### lc55. 跳跃游戏 codetop"
   ]
  },
  {
   "cell_type": "code",
   "execution_count": null,
   "metadata": {},
   "outputs": [],
   "source": [
    "#55\n",
    "class Solution:\n",
    "    def canJump(self, nums: List[int]) -> bool:\n",
    "        # 贪心，区间问题，求最大cover范围，如果可以覆盖到末尾，则为True\n",
    "        # 异常\n",
    "        if len(nums)<=1:\n",
    "            return True\n",
    "        cover=0\n",
    "        i=0\n",
    "        while i<=cover:\n",
    "            cover=max(cover,i+nums[i])\n",
    "            if cover>=len(nums)-1:\n",
    "                return True\n",
    "            i+=1\n",
    "        return False"
   ]
  },
  {
   "cell_type": "markdown",
   "metadata": {},
   "source": [
    "### lc45 跳跃游戏2   codetop"
   ]
  },
  {
   "cell_type": "code",
   "execution_count": null,
   "metadata": {},
   "outputs": [],
   "source": [
    "# 45 跳跃游戏2   codetop\n",
    "class Solution:\n",
    "    def jump(self, nums: List[int]) -> int:\n",
    "        #贪心，每一步找到下一步可到达的最远的位置，这样就可以找到最少的跳跃次数\n",
    "        if len(nums)<=1:\n",
    "            return 0\n",
    "        maxpos,end,step=0,0,0\n",
    "        for i in range(len(nums)-1):\n",
    "            if maxpos>=i:\n",
    "                maxpos=max(maxpos,i+nums[i])\n",
    "                if i==end:\n",
    "                    end=maxpos #每一步对应的可到达的最远的位置为边界\n",
    "                    step+=1\n",
    "        return step"
   ]
  },
  {
   "cell_type": "markdown",
   "metadata": {},
   "source": [
    "### lc56. 合并区间  codetop"
   ]
  },
  {
   "cell_type": "code",
   "execution_count": null,
   "metadata": {},
   "outputs": [],
   "source": [
    "#56\n",
    "class Solution:\n",
    "    def merge(self, intervals: List[List[int]]) -> List[List[int]]:\n",
    "        # 贪心，合并区间\n",
    "        # 按照左端点从小到大进行排序\n",
    "        intervals.sort(key=lambda x :x[0])\n",
    "        res=[]\n",
    "        res.append(intervals[0])\n",
    "        # 然后根据右端点判定重叠区间，进行合并\n",
    "        for i in intervals:\n",
    "            if i[0]>res[-1][1]:#左端点>上一个的右端点，所以不重叠，反之重叠\n",
    "                res.append(i)\n",
    "            else:\n",
    "                if i[1]>res[-1][1]:# 右端点>上一个的右端点，则重叠区间的右端点=当前的右端点\n",
    "                    res[-1]=[res[-1][0],i[1]]\n",
    "        return res"
   ]
  },
  {
   "cell_type": "markdown",
   "metadata": {},
   "source": [
    "# 哈希表"
   ]
  },
  {
   "cell_type": "markdown",
   "metadata": {},
   "source": [
    "### lc349 两个数组交集 结果不重复 codetop"
   ]
  },
  {
   "cell_type": "code",
   "execution_count": null,
   "metadata": {},
   "outputs": [],
   "source": [
    "# 349 两个数组交集 结果不重复 codetop\n",
    "#采用hash\n",
    "class Solution:\n",
    "    def intersection(self, nums1: List[int], nums2: List[int]) -> List[int]:\n",
    "        set1=set(nums1)\n",
    "        set2=set(nums2)\n",
    "        res=[]\n",
    "        for num in set1:\n",
    "            if num in set2:\n",
    "                res.append(num)\n",
    "        return res"
   ]
  },
  {
   "cell_type": "markdown",
   "metadata": {},
   "source": [
    "# 位运算"
   ]
  },
  {
   "cell_type": "markdown",
   "metadata": {},
   "source": [
    "### lc136 仅出现过1次的数字"
   ]
  },
  {
   "cell_type": "code",
   "execution_count": null,
   "metadata": {},
   "outputs": [],
   "source": [
    "#136 仅出现过1次的数字\n",
    "class Solution:\n",
    "    def singleNumber(self, nums: List[int]) -> int:\n",
    "        #运用异或运算的定律\n",
    "        #1. 0^a=a\n",
    "        #2. a^a=0\n",
    "        #3.异或满足交换律和结合律，b^a^b=b^b^a=0^a=a\n",
    "        #所以此题中全部元素异或运算后即为仅出现过一次的数字\n",
    "        res=0\n",
    "        for num in nums:\n",
    "            res=res^num\n",
    "        return res"
   ]
  },
  {
   "cell_type": "markdown",
   "metadata": {},
   "source": [
    "# 动态规划"
   ]
  },
  {
   "cell_type": "markdown",
   "metadata": {},
   "source": [
    "### lc509. 斐波那契数列"
   ]
  },
  {
   "cell_type": "code",
   "execution_count": null,
   "metadata": {},
   "outputs": [],
   "source": [
    "# 509 斐波那契数列 codetop\n",
    "class Solution:\n",
    "    def fib(self, n: int) -> int:\n",
    "        if n<=1:\n",
    "            return n\n",
    "        dp=[1]*(n+1)\n",
    "        dp[0]=0\n",
    "        dp[1]=1\n",
    "        for i  in range(2,n+1):\n",
    "            dp[i]=dp[i-1]+dp[i-2]\n",
    "        return dp[-1]"
   ]
  },
  {
   "cell_type": "markdown",
   "metadata": {},
   "source": [
    "### 剑指offer 10-i斐波那契数列 codetop"
   ]
  },
  {
   "cell_type": "code",
   "execution_count": null,
   "metadata": {},
   "outputs": [],
   "source": [
    "# offer 10-i斐波那契数列 codetop\n",
    "class Solution:\n",
    "    def fib(self, n: int) -> int:\n",
    "        a,b=0,1\n",
    "        for _ in range(n):#动态规划\n",
    "            a,b=b,a+b\n",
    "        return a%1000000007"
   ]
  },
  {
   "cell_type": "markdown",
   "metadata": {},
   "source": [
    "### 剑指offer 10-ii 青蛙跳台阶 codetop"
   ]
  },
  {
   "cell_type": "code",
   "execution_count": null,
   "metadata": {},
   "outputs": [],
   "source": [
    "# offer10-ii 青蛙跳台阶 codetop\n",
    "class Solution:\n",
    "    def numWays(self, n: int) -> int:\n",
    "        a,b=1,1\n",
    "        for _ in range(n):#动态规划\n",
    "            a,b=b,a+b\n",
    "        return a%1000000007"
   ]
  },
  {
   "cell_type": "markdown",
   "metadata": {},
   "source": [
    "### 剑指offer62 圆圈中最后剩下的数字 codetop"
   ]
  },
  {
   "cell_type": "code",
   "execution_count": null,
   "metadata": {},
   "outputs": [],
   "source": [
    "# 剑指offer62 圆圈中最后剩下的数字 codetop\n",
    "class Solution:\n",
    "    def lastRemaining(self, n: int, m: int) -> int:\n",
    "        #约瑟夫环的问题，动态规划解决，可以推导出f(n)=(f(n-1)+m)%n\n",
    "        f=0\n",
    "        for i in range(2,n+1):\n",
    "            f=(f+m)%i \n",
    "        return f"
   ]
  },
  {
   "cell_type": "markdown",
   "metadata": {},
   "source": [
    "## 基础题"
   ]
  },
  {
   "cell_type": "markdown",
   "metadata": {},
   "source": [
    "### lc96. 不同的二叉搜索树"
   ]
  },
  {
   "cell_type": "code",
   "execution_count": null,
   "metadata": {},
   "outputs": [],
   "source": [
    "class Solution:\n",
    "    def numTrees(self, n: int) -> int:\n",
    "        # 初始化\n",
    "        dp=[0]*(n+1)\n",
    "        dp[0]=1\n",
    "        # 状态转移方程\n",
    "        for i in range(1,n+1):\n",
    "            for j in range(1,i+1):\n",
    "                dp[i]+=dp[j-1]*dp[i-j]\n",
    "        return dp[n]"
   ]
  },
  {
   "cell_type": "markdown",
   "metadata": {},
   "source": [
    "## 路径规划"
   ]
  },
  {
   "cell_type": "markdown",
   "metadata": {},
   "source": [
    "### lc62. 不同路径 codetop"
   ]
  },
  {
   "cell_type": "code",
   "execution_count": null,
   "metadata": {},
   "outputs": [],
   "source": [
    "# 62\n",
    "class Solution:\n",
    "    def uniquePaths(self, m: int, n: int) -> int:\n",
    "        # 初始化为1\n",
    "        if m==1 or n==1:\n",
    "            return 1\n",
    "        dp=[[1 for _ in range(n)] for _ in range(m)]\n",
    "        # 确定状态转移方程\n",
    "        for i in range(1,m):\n",
    "            for j in range(1,n):\n",
    "                # 路径问题：二维的状态矩阵\n",
    "                dp[i][j]=dp[i-1][j]+dp[i][j-1]\n",
    "        return dp[-1][-1]"
   ]
  },
  {
   "cell_type": "markdown",
   "metadata": {},
   "source": [
    "### lc64. 最小路径和  codetop"
   ]
  },
  {
   "cell_type": "code",
   "execution_count": null,
   "metadata": {},
   "outputs": [],
   "source": [
    "# 64\n",
    "class Solution:\n",
    "    def uniquePathsWithObstacles(self, obstacleGrid: List[List[int]]) -> int:\n",
    "        # 初始化状态\n",
    "        m=len(obstacleGrid)\n",
    "        n=len(obstacleGrid[0])\n",
    "        dp=[[0 for _ in range(n)] for _ in range(m)]\n",
    "        # 如果在第一行或第一列遇到障碍物，障碍物之前dp置为1，障碍物之后为0\n",
    "        for i in range(m):#遍历第一列\n",
    "            if obstacleGrid[i][0]==1:\n",
    "                break\n",
    "            dp[i][0]=1\n",
    "            \n",
    "        for j in range(n):#遍历第一行\n",
    "            if obstacleGrid[0][j]==1:\n",
    "                break\n",
    "            dp[0][j]=1\n",
    "            \n",
    "        # 状态转移方程\n",
    "        for i in range(1,m):\n",
    "            for j in range(1,n):\n",
    "                if obstacleGrid[i][j]==1:#遇到障碍物跳过\n",
    "                    continue\n",
    "                dp[i][j]=dp[i-1][j]+dp[i][j-1]\n",
    "        return dp[-1][-1]"
   ]
  },
  {
   "cell_type": "markdown",
   "metadata": {},
   "source": [
    "## 背包问题"
   ]
  },
  {
   "cell_type": "markdown",
   "metadata": {},
   "source": [
    "### lc416. 分割等和子集"
   ]
  },
  {
   "cell_type": "code",
   "execution_count": null,
   "metadata": {},
   "outputs": [],
   "source": [
    "#416\n",
    "class Solution:\n",
    "    def canPartition(self, nums: List[int]) -> bool:\n",
    "        # 转换为0-1背包问题,背包容量下对应的最大值\n",
    "        # 初始化以及边界条件\n",
    "        if sum(nums)%2==1:\n",
    "            return False\n",
    "        bagweight=sum(nums)//2 #背包最大容量\n",
    "        dp=[0]*(bagweight+1)\n",
    "        dp[0]=0\n",
    "        # 0-1背包的状态转移方程\n",
    "        for i in range(len(nums)): #遍历物品\n",
    "            for j in range(bagweight,nums[i]-1,-1): #反向遍历背包容量\n",
    "                dp[j]=max(dp[j],dp[j-nums[i]]+nums[i]) #0-1背包问题的状态转移方程\n",
    "                if dp[bagweight]==bagweight:\n",
    "                    return True\n",
    "        return False"
   ]
  },
  {
   "cell_type": "markdown",
   "metadata": {},
   "source": [
    "### lc494. 目标和"
   ]
  },
  {
   "cell_type": "code",
   "execution_count": null,
   "metadata": {},
   "outputs": [],
   "source": [
    "# 494\n",
    "class Solution:\n",
    "    def findTargetSumWays(self, nums: List[int], target: int) -> int:\n",
    "        # 转换为背包问题，加法的和为x,剩余减法的数的和为sum-x，x-(sum-x)=target 所以 x=(target+sum)/2,转换为背包问题也就是装满背包容量x，有多少种方法？\n",
    "        # 特殊情况\n",
    "        if (target+sum(nums))%2==1:\n",
    "            return 0\n",
    "        if (abs(target)>sum(nums)):\n",
    "            return 0\n",
    "        # 初始化\n",
    "        bagweight=(target+sum(nums))//2\n",
    "        dp=[0]*(bagweight+1)\n",
    "        dp[0]=1 #代表达到最大容量0，有1种方法\n",
    "        # 状态转移方程\n",
    "        for i in range(len(nums)):\n",
    "            for j in range(bagweight,nums[i]-1,-1):\n",
    "                dp[j]+=dp[j-nums[i]]\n",
    "        return dp[bagweight]"
   ]
  },
  {
   "cell_type": "markdown",
   "metadata": {},
   "source": [
    "### lc279. 完全平方数"
   ]
  },
  {
   "cell_type": "code",
   "execution_count": null,
   "metadata": {},
   "outputs": [],
   "source": [
    "class Solution:\n",
    "    def numSquares(self, n: int) -> int:\n",
    "        # 完全背包组合数问题,正向遍历物品，正向遍历背包容量\n",
    "        # 初始化\n",
    "        square_nums=[i**2 for i in range(int(math.sqrt(n))+1)]\n",
    "        dp=[float('inf')]*(n+1)\n",
    "        dp[0]=0\n",
    "        # 状态转移方程\n",
    "        for i in range(len(square_nums)):\n",
    "            for j in range(square_nums[i],n+1):\n",
    "                dp[j]=min(dp[j],dp[j-square_nums[i]]+1)\n",
    "        return dp[n]"
   ]
  },
  {
   "cell_type": "markdown",
   "metadata": {},
   "source": [
    "### lc139. 单词拆分  codetop"
   ]
  },
  {
   "cell_type": "code",
   "execution_count": null,
   "metadata": {},
   "outputs": [],
   "source": [
    "# 139\n",
    "class Solution:\n",
    "    def wordBreak(self, s: str, wordDict: List[str]) -> bool:\n",
    "        # 完全背包组合数问题\n",
    "        # 初始化\n",
    "        dp=[False for _ in range(len(s)+1)]\n",
    "        dp[0]=True\n",
    "        # 状态转移\n",
    "        for i in range(len(s)):\n",
    "            for j in range(i+1,len(s)+1): #背包容量\n",
    "                if dp[i] and s[i:j] in wordDict:\n",
    "                    dp[j]=True\n",
    "        return dp[-1]"
   ]
  },
  {
   "cell_type": "markdown",
   "metadata": {},
   "source": [
    "### lc518. 零钱兑换2 codetop"
   ]
  },
  {
   "cell_type": "code",
   "execution_count": null,
   "metadata": {},
   "outputs": [],
   "source": [
    "# 518 零钱兑换2 codetop\n",
    "class Solution:\n",
    "    def change(self, amount: int, coins: List[int]) -> int:\n",
    "        if amount==0:\n",
    "            return 1\n",
    "        dp=[0]*(amount+1)\n",
    "        dp[0]=1\n",
    "        for coin in coins:\n",
    "            for j in range(coin,amount+1):\n",
    "                dp[j]+=dp[j-coin]\n",
    "        return dp[-1]"
   ]
  },
  {
   "cell_type": "markdown",
   "metadata": {},
   "source": [
    "### lc322. 零钱兑换1 codetop"
   ]
  },
  {
   "cell_type": "code",
   "execution_count": null,
   "metadata": {},
   "outputs": [],
   "source": [
    "# 322 零钱兑换1 codetop\n",
    "class Solution:\n",
    "    def coinChange(self, coins: List[int], amount: int) -> int:\n",
    "        dp=[float('inf')]*(amount+1)\n",
    "        dp[0]=0\n",
    "        for coin in coins:\n",
    "            for i in range(coin,amount+1):\n",
    "                dp[i]=min(dp[i],dp[i-coin]+1)\n",
    "        return dp[-1] if dp[-1]!=float('inf') else -1"
   ]
  },
  {
   "cell_type": "markdown",
   "metadata": {},
   "source": [
    "## 打家劫舍"
   ]
  },
  {
   "cell_type": "markdown",
   "metadata": {},
   "source": [
    "### lc198. 打家劫舍 codetop"
   ]
  },
  {
   "cell_type": "code",
   "execution_count": null,
   "metadata": {},
   "outputs": [],
   "source": [
    "#198\n",
    "class Solution:\n",
    "    def rob(self, nums: List[int]) -> int:\n",
    "        # 动态规划\n",
    "        if not nums:\n",
    "            return 0\n",
    "        if len(nums)==1:\n",
    "            return nums[0]\n",
    "        # 初始化\n",
    "        size=len(nums)\n",
    "        dp=[0 for _ in range(size)]\n",
    "        dp[0]=nums[0]\n",
    "        dp[1]=max(nums[0],nums[1])\n",
    "        # 状态转移方程\n",
    "        for i in range(2,size):\n",
    "            dp[i]=max(dp[i-1],dp[i-2]+nums[i])#偷当前家，就不偷前一家，偷i-2家，不偷当前家，就偷到i-1家，求max\n",
    "        return dp[-1]"
   ]
  },
  {
   "cell_type": "markdown",
   "metadata": {},
   "source": [
    "### lc213. 打家劫舍 II"
   ]
  },
  {
   "cell_type": "code",
   "execution_count": null,
   "metadata": {},
   "outputs": [],
   "source": [
    "#213 II\n",
    "class Solution:\n",
    "    def rob(self, nums: List[int]) -> int:\n",
    "        # 动态规划问题\n",
    "        # 异常情况\n",
    "        if len(nums)<=2:\n",
    "            return max(nums)\n",
    "        # 初始化及边界条件\n",
    "        size=len(nums)\n",
    "        dp1=[0 for _ in range(size)] #偷第一家\n",
    "        dp2=[0 for _ in range(size)] #不偷第一家\n",
    "        dp1[0],dp1[1]=nums[0],nums[0]\n",
    "        dp2[0],dp2[1]=0,nums[1]\n",
    "        # 状态转移方程\n",
    "        for i in range(2,size-1):#偷第一家,就不可以偷最后一家\n",
    "            dp1[i]=max(dp1[i-2]+nums[i],dp1[i-1])\n",
    "        for i in range(2,size):#不偷第一家，就可以偷最后一家\n",
    "            dp2[i]=max(dp2[i-2]+nums[i],dp2[i-1])\n",
    "        return max(dp1[-2],dp2[-1])"
   ]
  },
  {
   "cell_type": "markdown",
   "metadata": {},
   "source": [
    "## 股票交易"
   ]
  },
  {
   "cell_type": "markdown",
   "metadata": {},
   "source": [
    "### lc121. 最佳买卖股票时机 1次交易 codetop "
   ]
  },
  {
   "cell_type": "code",
   "execution_count": null,
   "metadata": {},
   "outputs": [],
   "source": [
    "#121 codetop\n",
    "class Solution:\n",
    "    def maxProfit(self, prices: List[int]) -> int:\n",
    "        # 动态规划股票交易问题\n",
    "#         异常\n",
    "        if len(prices)<2:\n",
    "            return 0\n",
    "        # 初始化\n",
    "        dp=[[0,0] for _ in range(len(prices))]\n",
    "        dp[0][0]=0\n",
    "        dp[0][1]=-prices[0]\n",
    "        # 状态转移方程\n",
    "        for i in range(1,len(prices)):\n",
    "            # 第i天没有持有股票，分2种情况，i-1天也没有持有股票，i-1持有股票，所以第i天卖出\n",
    "            dp[i][0]=max(dp[i-1][0],dp[i-1][1]+prices[i])\n",
    "            #第i天持有股票，分2种情况，i-1天也持有股票，所以利润不变，i-1天没有持有股票，说明第i天第一次买入，所以利润是-prices[i]\n",
    "            dp[i][1]=max(dp[i-1][1],-prices[i])\n",
    "        return dp[-1][0]"
   ]
  },
  {
   "cell_type": "markdown",
   "metadata": {},
   "source": [
    "### lc122. 股票交易2 多次交易 codetop"
   ]
  },
  {
   "cell_type": "code",
   "execution_count": null,
   "metadata": {},
   "outputs": [],
   "source": [
    "#122 \n",
    "class Solution:\n",
    "    def maxProfit(self, prices: List[int]) -> int:\n",
    "        if len(prices)<2:\n",
    "            return 0\n",
    "        dp=[[0,0] for _ in range(len(prices))]\n",
    "        dp[0][0]=0\n",
    "        dp[0][1]=-prices[0]\n",
    "        for i in range(1,len(prices)):\n",
    "            dp[i][0]=max(dp[i-1][0],dp[i-1][1]+prices[i])\n",
    "            dp[i][1]=max(dp[i-1][1],dp[i-1][0]-prices[i])\n",
    "        return dp[-1][0]"
   ]
  },
  {
   "cell_type": "markdown",
   "metadata": {},
   "source": [
    "### lc123. 股票交易3 限制次数交易 codetop"
   ]
  },
  {
   "cell_type": "code",
   "execution_count": null,
   "metadata": {
    "scrolled": true
   },
   "outputs": [],
   "source": [
    "#123 股票交易 codetop  难题\n",
    "class Solution:\n",
    "    def maxProfit(self, prices: List[int]) -> int:\n",
    "        if len(prices)<2:\n",
    "            return 0\n",
    "        dp=[[[0 for _ in range(3)] for _ in range(2)] for _ in range(len(prices))]\n",
    "        dp[0][0][0]=0\n",
    "        dp[0][0][1]=float('-inf')\n",
    "        dp[0][0][2]=float('-inf')\n",
    "\n",
    "        dp[0][1][0]=-prices[0]\n",
    "        dp[0][1][1]=float('-inf')\n",
    "        dp[0][1][2]=float('-inf')\n",
    "\n",
    "        for i in range(1,len(prices)):\n",
    "            #未持有股票，分别交易0,1,2次\n",
    "            dp[i][0][0]=dp[i-1][0][0]\n",
    "            dp[i][0][1]=max(dp[i-1][0][1],dp[i-1][1][0]+prices[i])\n",
    "            dp[i][0][2]=max(dp[i-1][0][2],dp[i-1][1][1]+prices[i])\n",
    "            #持有股票，分别交易0,1,2次\n",
    "            dp[i][1][0]=max(dp[i-1][0][0]-prices[i],dp[i-1][1][0])\n",
    "            dp[i][1][1]=max(dp[i-1][0][1]-prices[i],dp[i-1][1][1])\n",
    "            dp[i][1][2]=float('-inf')\n",
    "        return max(dp[-1][0])"
   ]
  },
  {
   "cell_type": "markdown",
   "metadata": {},
   "source": [
    "### lc309. 最佳买卖股票时机含冷冻期"
   ]
  },
  {
   "cell_type": "code",
   "execution_count": null,
   "metadata": {},
   "outputs": [],
   "source": [
    "#309\n",
    "class Solution:\n",
    "    def maxProfit(self, prices: List[int]) -> int:\n",
    "        # 动态规划股票交易\n",
    "        # 异常情况\n",
    "        if len(prices)<2:\n",
    "            return 0\n",
    "        # 初始化\n",
    "        dp=[[0,0,0] for _ in range(len(prices))]\n",
    "        dp[0][0]=0  #冷冻期\n",
    "        dp[0][1]=-prices[0]  #持有\n",
    "        dp[0][2]=-float('inf') #卖出\n",
    "        # 状态转移\n",
    "        for i in range(1,len(prices)):\n",
    "            dp[i][0]=max(dp[i-1][0],dp[i-1][2]) #当天冷冻期，则前一天卖出，或者前一天也是冷冻期\n",
    "            dp[i][1]=max(dp[i-1][0]-prices[i],dp[i-1][1]) #当天持有，则前一天持有，或者前一天冷冻期，今天买入\n",
    "            dp[i][2]=dp[i-1][1]+prices[i] #今天卖出，则昨天持有，今天卖出\n",
    "        return max(dp[-1][0],dp[-1][2])"
   ]
  },
  {
   "cell_type": "markdown",
   "metadata": {},
   "source": [
    "## 子序列问题"
   ]
  },
  {
   "cell_type": "markdown",
   "metadata": {},
   "source": [
    "### lc300. 最长递增子序列 codetop"
   ]
  },
  {
   "cell_type": "code",
   "execution_count": null,
   "metadata": {},
   "outputs": [],
   "source": [
    "#300 最长递增子序列的长度 codetop\n",
    "class Solution:\n",
    "    def lengthOfLIS(self, nums: List[int]) -> int:\n",
    "        # 动态规划问题：最长子序列\n",
    "        # 异常\n",
    "        if len(nums)<2:\n",
    "            return 1\n",
    "        # 初始化\n",
    "        dp=[1 for _ in range(len(nums))]\n",
    "        maxlen=1\n",
    "        # 状态转移\n",
    "        for i in range(1,len(nums)):\n",
    "            for j in range(i):\n",
    "                if nums[j]<nums[i]: \n",
    "                    dp[i]=max(dp[i],dp[j]+1) # dp[i]代表的是以nums[i]结尾的最长子序列的长度，所以遍历nums[i]之前的所有字符，如果nums[j]<nums[i]则可以dp[j]+1\n",
    "            maxlen=max(maxlen,dp[i])\n",
    "        return maxlen"
   ]
  },
  {
   "cell_type": "markdown",
   "metadata": {},
   "source": [
    "### lc647. 回文子串"
   ]
  },
  {
   "cell_type": "code",
   "execution_count": null,
   "metadata": {},
   "outputs": [],
   "source": [
    "#673 最长递增子序列的个数 codetop\n",
    "class Solution:\n",
    "    def findNumberOfLIS(self, nums: List[int]) -> int:\n",
    "        if len(nums)==1:\n",
    "            return 1\n",
    "        dp=[1]*len(nums) # 以nums[i]结尾的最长递增子序列的长度\n",
    "        count=[1]*len(nums) # 以nums[i]结尾的最长递增子序列的个数\n",
    "        maxlen=1\n",
    "        for i in range(1,len(nums)):\n",
    "            for j in range(i):\n",
    "                if nums[i]>nums[j]:\n",
    "                    if dp[i]==dp[j]+1:\n",
    "                        count[i]+=count[j]\n",
    "                    elif dp[j]+1>dp[i]:\n",
    "                        dp[i]=dp[j]+1\n",
    "                        count[i]=count[j]\n",
    "            maxlen=max(maxlen,dp[i])\n",
    "        res=0\n",
    "        for i in range(len(nums)):\n",
    "            if dp[i]==maxlen:\n",
    "                res+=count[i]\n",
    "        return res"
   ]
  },
  {
   "cell_type": "markdown",
   "metadata": {},
   "source": [
    "### lc718 最长公共子数组的长度（连续） codetop"
   ]
  },
  {
   "cell_type": "code",
   "execution_count": null,
   "metadata": {},
   "outputs": [],
   "source": [
    "# 718 最长公共子数组的长度（连续） codetop\n",
    "class Solution:\n",
    "    def findLength(self, nums1: List[int], nums2: List[int]) -> int:\n",
    "        len1=len(nums1)+1\n",
    "        len2=len(nums2)+1\n",
    "        dp=[[0]*len2 for _ in range(len1)]\n",
    "        res=0\n",
    "        for i in range(1,len1):\n",
    "            for j in range(1,len2):\n",
    "                if nums1[i-1]==nums2[j-1]:\n",
    "                    dp[i][j]=dp[i-1][j-1]+1\n",
    "                    res=max(res,dp[i][j])\n",
    "        return res"
   ]
  },
  {
   "cell_type": "markdown",
   "metadata": {},
   "source": [
    "### lc1143 最长公共子序列的长度（非连续） codetop"
   ]
  },
  {
   "cell_type": "code",
   "execution_count": null,
   "metadata": {},
   "outputs": [],
   "source": [
    "# 1143 最长公共子序列的长度（非连续） codetop\n",
    "class Solution:\n",
    "    def longestCommonSubsequence(self, text1: str, text2: str) -> int:\n",
    "        if not len(text1) or not len(text2):\n",
    "            return 0\n",
    "        len1=len(text1)+1\n",
    "        len2=len(text2)+1\n",
    "        dp=[[0]*len2 for _ in range(len1)]\n",
    "        for i in range(1,len1):\n",
    "            for j in range(1,len2):\n",
    "                if text1[i-1]==text2[j-1]:\n",
    "                    dp[i][j]=dp[i-1][j-1]+1\n",
    "                else:\n",
    "                    dp[i][j]=max(dp[i-1][j],dp[i][j-1])\n",
    "        return dp[-1][-1]"
   ]
  },
  {
   "cell_type": "markdown",
   "metadata": {},
   "source": [
    "### lc53 最大子数组和 codetop"
   ]
  },
  {
   "cell_type": "code",
   "execution_count": null,
   "metadata": {},
   "outputs": [],
   "source": [
    "# 53 最大子数组和 codetop\n",
    "class Solution:\n",
    "    def maxSubArray(self, nums: List[int]) -> int:\n",
    "        if len(nums)==1:\n",
    "            return nums[0]\n",
    "        dp=[float('-inf')]*len(nums)\n",
    "        dp[0]=nums[0]\n",
    "        maxRes=nums[0]\n",
    "        for i in range(1,len(nums)):\n",
    "            dp[i]=max(dp[i-1]+nums[i],nums[i])\n",
    "            maxRes=max(maxRes,dp[i])\n",
    "        return maxRes"
   ]
  },
  {
   "cell_type": "markdown",
   "metadata": {},
   "source": [
    "### lc5 最长回文子串 codetop"
   ]
  },
  {
   "cell_type": "code",
   "execution_count": null,
   "metadata": {},
   "outputs": [],
   "source": [
    "#5 最长回文子串 codetop\n",
    "class Solution:\n",
    "    def longestPalindrome(self, s: str) -> str:\n",
    "        # 动态规划，最长子序列问题\n",
    "        # 异常\n",
    "        if len(s)<=1:\n",
    "            return s\n",
    "        # 初始化\n",
    "        dp=[[False]*len(s) for _ in range(len(s))]\n",
    "        for i in range(len(s)):\n",
    "            dp[i][i]=True\n",
    "        maxlen=1\n",
    "        left=0\n",
    "        right=0\n",
    "        # 状态转移\n",
    "        for i in range(len(s)-1,-1,-1):\n",
    "            for j in range(i,len(s)):\n",
    "                if s[j]==s[i]:#i代表的是开头，j代表的是结尾\n",
    "                    if j-i<=1 or dp[i+1][j-1]: #在s[i]==s[j]的情况下才有可能是回文，1种是i==j,一种i+1=j，另一种就是dp[i+1][j-1]是回文，则dp[i][j]才是回文\n",
    "                        dp[i][j]=True\n",
    "                if dp[i][j] and j-i+1>maxlen: #是回文的情况下，更新maxlen\n",
    "                    maxlen=j-i+1\n",
    "                    left=i\n",
    "                    right=j\n",
    "        return s[left:right+1]"
   ]
  },
  {
   "cell_type": "markdown",
   "metadata": {},
   "source": [
    "### lc647 回文子串的个数 codetop"
   ]
  },
  {
   "cell_type": "code",
   "execution_count": null,
   "metadata": {},
   "outputs": [],
   "source": [
    "#647 回文子串的个数 codetop\n",
    "class Solution:\n",
    "    def countSubstrings(self, s: str) -> int:\n",
    "        # 动态规划，最长子序列问题，和5是一样的\n",
    "        # 异常\n",
    "        if len(s)<=1:\n",
    "            return 1\n",
    "        # 初始化\n",
    "        dp=[[False]*len(s) for _ in range(len(s))]\n",
    "        for i in range(len(s)):\n",
    "            dp[i][i]=True\n",
    "        res=0\n",
    "        # 状态转移\n",
    "        for i in range(len(s)-1,-1,-1):\n",
    "            for j in range(i,len(s)):\n",
    "                if s[i]==s[j]:\n",
    "                    if j-i<=1 or dp[i+1][j-1]:\n",
    "                        res+=1\n",
    "                        dp[i][j]=True\n",
    "        return res"
   ]
  },
  {
   "cell_type": "markdown",
   "metadata": {},
   "source": [
    "### lc152 乘积最大的子数组 codetop"
   ]
  },
  {
   "cell_type": "code",
   "execution_count": null,
   "metadata": {},
   "outputs": [],
   "source": [
    "#152 乘积最大的子数组 codetop\n",
    "class Solution:\n",
    "    def maxProduct(self, nums: List[int]) -> int:\n",
    "        if len(nums)==1:\n",
    "            return nums[0]\n",
    "        dpmax=nums[0]#以当前元素结尾的连续数组乘积最大值\n",
    "        dpmin=nums[0]#以当前元素结尾的连续数组乘积最小值\n",
    "        res=nums[0]\n",
    "        for i in range(1,len(nums)):\n",
    "            if nums[i]<0:\n",
    "                tmp=dpmax\n",
    "                dpmax=max(dpmin*nums[i],nums[i])#考虑负数的情况\n",
    "                dpmin=min(tmp*nums[i],nums[i])\n",
    "                res=max(dpmax,res)\n",
    "            else:\n",
    "                dpmax=max(dpmax*nums[i],nums[i])\n",
    "                dpmin=min(dpmin*nums[i],nums[i])\n",
    "                res=max(dpmax,res)\n",
    "        return res"
   ]
  },
  {
   "cell_type": "markdown",
   "metadata": {},
   "source": [
    "### lc560 和为k的子数组的个数 codetop"
   ]
  },
  {
   "cell_type": "code",
   "execution_count": null,
   "metadata": {},
   "outputs": [],
   "source": [
    "# 560 和为k的子数组的个数 codetop\n",
    "class Solution:\n",
    "    def subarraySum(self, nums: List[int], k: int) -> int:\n",
    "        # 前缀和+哈希\n",
    "        # presums[j]-presums[i-1]=k,表明从i到j连续子数组合为k\n",
    "        presum=0 #到nums[i]的前缀和\n",
    "        preSums=defaultdict(int) #存储前缀和为target的出现的次数\n",
    "        preSums[0]=1\n",
    "        count=0\n",
    "        for i in range(len(nums)):\n",
    "            presum+=nums[i]\n",
    "            count+=preSums[presum-k]  #统计子数组次数\n",
    "            preSums[presum]+=1\n",
    "        return count"
   ]
  },
  {
   "cell_type": "markdown",
   "metadata": {},
   "source": [
    "### lc32 最长有效括号  codetop"
   ]
  },
  {
   "cell_type": "code",
   "execution_count": null,
   "metadata": {},
   "outputs": [],
   "source": [
    "# 32 最长有效括号  codetop\n",
    "class Solution:\n",
    "    def longestValidParentheses(self, s: str) -> int:\n",
    "        # 动态规划\n",
    "        n=len(s)\n",
    "        if n<=1:\n",
    "            return 0\n",
    "        dp=[0]*n #以当前位置元素 结尾的最长连续有效括号的长度\n",
    "        for i in range(1,n):\n",
    "            #当前位置是右括号，且去除dp[i-1]的连续括号之后的前一个位置是左括号，可以和当前位置组成一对才行\n",
    "            if s[i]==')' and i-dp[i-1]-1>=0 and s[i-dp[i-1]-1]=='(': \n",
    "                dp[i]=2+dp[i-1]+dp[i-dp[i-1]-2] #2是当前位置组成的基础括号+前一个位置组成的内部括号+ i-dp[i-1]-2 位置的外部括号\n",
    "        return max(dp)"
   ]
  },
  {
   "cell_type": "markdown",
   "metadata": {},
   "source": [
    "## 字符串问题"
   ]
  },
  {
   "cell_type": "markdown",
   "metadata": {},
   "source": [
    "### lc72 编辑距离 codetop"
   ]
  },
  {
   "cell_type": "code",
   "execution_count": null,
   "metadata": {},
   "outputs": [],
   "source": [
    "#72 编辑距离 codetop\n",
    "class Solution:\n",
    "    def minDistance(self, word1: str, word2: str) -> int:\n",
    "        # 动态规划，字符串序列\n",
    "        # 异常\n",
    "        if len(word1)==0:\n",
    "            return len(word2)\n",
    "        if len(word2)==0:\n",
    "            return len(word1)\n",
    "        # 初始化\n",
    "        dp=[[0]*(len(word2)+1) for _ in range(len(word1)+1)] #dp[i][j]代表的是到word1[i-1]word2[j-1]位置，需要的最小编辑距离是多少\n",
    "        for i in range(len(word1)+1):\n",
    "            dp[i][0]=i\n",
    "        for j in range(len(word2)+1):\n",
    "            dp[0][j]=j\n",
    "        # 状态转移\n",
    "        for i in range(1,len(word1)+1):#这里面的i，j都包含了空字符串的位置\n",
    "            for j in range(1,len(word2)+1):\n",
    "                if word1[i-1]==word2[j-1]:\n",
    "                    dp[i][j]=dp[i-1][j-1] \n",
    "                else:#如果字符不等，就开始编辑\n",
    "                    dp[i][j]=min(dp[i-1][j-1],dp[i-1][j],dp[i][j-1])+1 #dp[i-1][j-1]+1就是替换，dp[i-1][j]+1就是word1删除操作，dp[i][j-1]+1就是word2删除\n",
    "        return dp[-1][-1]"
   ]
  },
  {
   "cell_type": "markdown",
   "metadata": {},
   "source": [
    "### lc91 解码方法数 codetop"
   ]
  },
  {
   "cell_type": "code",
   "execution_count": null,
   "metadata": {},
   "outputs": [],
   "source": [
    "# 91 解码方法数 codetop\n",
    "class Solution:\n",
    "    def numDecodings(self, s: str) -> int:\n",
    "        if s[0]=='0':\n",
    "            return 0\n",
    "        if len(s)<=1:\n",
    "            return len(s)\n",
    "        dp=[0]*len(s)\n",
    "        dp[0]=1\n",
    "        for i in range(1,len(s)):\n",
    "            if s[i]=='0': # 只能合并编码否则return 0\n",
    "                if s[i-1] not in ['1','2']:\n",
    "                    return 0\n",
    "                else:\n",
    "                    dp[i]=dp[i-2] if i>1 else 1\n",
    "            elif s[i-1]=='1' or (s[i-1]=='2' and s[i] in ['1','2','3','4','5','6']):\n",
    "                dp[i]=dp[i-1]+dp[i-2] if i>1 else 2 #可以单独编码也可以合并编码\n",
    "            else:\n",
    "                dp[i]=dp[i-1] # 单独编码\n",
    "        return dp[-1]"
   ]
  },
  {
   "cell_type": "markdown",
   "metadata": {},
   "source": [
    "### lc139 单词拆分 codetop"
   ]
  },
  {
   "cell_type": "code",
   "execution_count": null,
   "metadata": {},
   "outputs": [],
   "source": [
    "# 139 单词拆分 codetop\n",
    "class Solution:\n",
    "    def wordBreak(self, s: str, wordDict: List[str]) -> bool:\n",
    "        dp=[False]*(len(s)+1)\n",
    "        dp[0]=True\n",
    "        for i in range(len(s)):\n",
    "            for j in range(i+1,len(s)+1):\n",
    "                if dp[i] and s[i:j] in wordDict:\n",
    "                    dp[j]=True\n",
    "        return dp[-1]"
   ]
  },
  {
   "cell_type": "markdown",
   "metadata": {},
   "source": [
    "## 其他动态规划"
   ]
  },
  {
   "cell_type": "markdown",
   "metadata": {},
   "source": [
    "### lc221 最大正方形 codetop"
   ]
  },
  {
   "cell_type": "code",
   "execution_count": null,
   "metadata": {},
   "outputs": [],
   "source": [
    "# 221 最大正方形 codetop\n",
    "class Solution:\n",
    "    def maximalSquare(self, matrix: List[List[str]]) -> int:\n",
    "        if len(matrix)==0 or len(matrix[0])==0:\n",
    "            return 0\n",
    "        m=len(matrix)\n",
    "        n=len(matrix[0])\n",
    "        maxSide=0\n",
    "        dp=[[0]*n for _ in range(m)] #以matrix[i][j]为右下角的正方形的最大边长\n",
    "        for i in range(m):\n",
    "            for j in range(n):\n",
    "                if matrix[i][j]=='1':\n",
    "                    if i==0 or j==0:\n",
    "                        dp[i][j]=1\n",
    "                    else:\n",
    "                        dp[i][j]=min(dp[i][j-1],dp[i-1][j],dp[i-1][j-1])+1 #右下角的最大边长，取决于其左一，上一，左上角状态中最小值 然后+1\n",
    "                    maxSide=max(maxSide,dp[i][j])\n",
    "        return maxSide*maxSide\n"
   ]
  },
  {
   "cell_type": "markdown",
   "metadata": {},
   "source": [
    "### 补充题 圆环回原点 codetop"
   ]
  },
  {
   "cell_type": "code",
   "execution_count": null,
   "metadata": {},
   "outputs": [],
   "source": [
    "#补充题 圆环回原点 codetop\n",
    "# 圆环上有10个点，编号为0~9。从0点出发，每次可以逆时针和顺时针走一步，问走n步回到0点共有多少种走法。\n",
    "class Solution:\n",
    "    def backToOrigin(self,n,lenth):\n",
    "        length=10 #圆环中的点数\n",
    "        dp=[[0]*length for _ in range(n+1)]\n",
    "        dp[0][0]=1\n",
    "        for i in range(1,n+1):\n",
    "            for j in range(length):\n",
    "                dp[i][j]=dp[i-1][(j-1+length)%length]+dp[i-1][(j+1)%length] \n",
    "                #dp[i][j]代表走i步到达j点的方案数，所以比如dp[n][0]=走n步到达0点=走n-1步到达9点的方案数+走n-1步到达1点的方案数\n",
    "        return dp[n][0]        "
   ]
  },
  {
   "cell_type": "markdown",
   "metadata": {},
   "source": [
    "### lc42 接雨水  codetop"
   ]
  },
  {
   "cell_type": "code",
   "execution_count": null,
   "metadata": {},
   "outputs": [],
   "source": [
    "# 42 接雨水  codetop\n",
    "class Solution:\n",
    "    def trap(self, height: List[int]) -> int:\n",
    "        # 当前接雨水的数量，取决于当前柱子左侧最大值以及右侧最大值中的短边-当前值\n",
    "        if len(height)<3:\n",
    "            return 0\n",
    "        res=0\n",
    "        dp_left_max=[0]*len(height)\n",
    "        dp_right_max=[0]*len(height)\n",
    "        dp_left_max[0]=height[0]\n",
    "        dp_right_max[-1]=height[-1]\n",
    "        for i in range(1,len(height)):\n",
    "            dp_left_max[i]=max(height[i],dp_left_max[i-1])\n",
    "        for i in range(len(height)-2,-1,-1):\n",
    "            dp_right_max[i]=max(height[i],dp_right_max[i+1])\n",
    "        for i in range(len(height)):\n",
    "            res+=min(dp_right_max[i],dp_left_max[i])-height[i]\n",
    "        return res"
   ]
  },
  {
   "cell_type": "markdown",
   "metadata": {},
   "source": [
    "# 图论-深度/广度优先遍历"
   ]
  },
  {
   "cell_type": "markdown",
   "metadata": {},
   "source": [
    "### lc695 岛屿最大面积 codetop"
   ]
  },
  {
   "cell_type": "code",
   "execution_count": null,
   "metadata": {},
   "outputs": [],
   "source": [
    "# 695 岛屿最大面积 codetop\n",
    "#时间空间复杂度 O(m*n)\n",
    "class Solution:\n",
    "    def maxAreaOfIsland(self, grid: List[List[int]]) -> int:\n",
    "        # 深度优先遍历\n",
    "        def dfs(grid,cur_i,cur_j):\n",
    "            if cur_i<0 or cur_j<0 or cur_i>=len(grid) or cur_j>=len(grid[0]) or grid[cur_i][cur_j]==0:\n",
    "                return 0\n",
    "            grid[cur_i][cur_j]=0\n",
    "            ans=1\n",
    "            for i,j in [[cur_i,cur_j+1],[cur_i,cur_j-1],[cur_i-1,cur_j],[cur_i+1,cur_j]]:\n",
    "                ans+=dfs(grid,i,j) #求岛屿面积\n",
    "            return ans\n",
    "\n",
    "        res=0\n",
    "        for i in range(len(grid)):\n",
    "            for j in range(len(grid[0])):\n",
    "                res=max(res,dfs(grid,i,j)) #获得所有岛屿面积的最大值\n",
    "        return res"
   ]
  },
  {
   "cell_type": "markdown",
   "metadata": {},
   "source": [
    "### lc200 岛屿数量 codetop"
   ]
  },
  {
   "cell_type": "code",
   "execution_count": null,
   "metadata": {},
   "outputs": [],
   "source": [
    "#200 岛屿数量 codetop\n",
    "class Solution:\n",
    "    def numIslands(self, grid: List[List[str]]) -> int:\n",
    "        def dfs(grid,i,j):#深度优先搜索\n",
    "            grid[i][j]=0\n",
    "            for x,y in [[i,j-1],[i,j+1],[i-1,j],[i+1,j]]:\n",
    "                if 0<=x<len(grid) and 0<=y<len(grid[0]) and grid[x][y]=='1':\n",
    "                    dfs(grid,x,y)\n",
    "        \n",
    "        res=0\n",
    "        for i in range(len(grid)):\n",
    "            for j in range(len(grid[0])):\n",
    "                if grid[i][j]=='1':\n",
    "                    res+=1 #每次递归就是一个岛屿，累加求得岛屿数量\n",
    "                    dfs(grid,i,j)\n",
    "        return res"
   ]
  },
  {
   "cell_type": "markdown",
   "metadata": {},
   "source": [
    "### lc329 矩阵中的最长递增路径  codetop"
   ]
  },
  {
   "cell_type": "code",
   "execution_count": null,
   "metadata": {},
   "outputs": [],
   "source": [
    "# 329 矩阵中的最长递增路径  codetop\n",
    "class Solution:\n",
    "    def longestIncreasingPath(self, matrix: List[List[int]]) -> int:\n",
    "        # 深度优先搜索+记忆缓存\n",
    "        if not matrix:\n",
    "            return 0\n",
    "        m,n=len(matrix),len(matrix[0])\n",
    "\n",
    "        @lru_cache(None)\n",
    "        def dfs(row,col):\n",
    "            directions=[(0,-1),(0,1),(1,0),(-1,0)]\n",
    "            best=1\n",
    "            for x,y in directions:\n",
    "                new_row,new_col=row+x,col+y\n",
    "                if 0<=new_row<m and 0<=new_col<n and matrix[new_row][new_col]>matrix[row][col]:\n",
    "                    best=max(best,dfs(new_row,new_col)+1)\n",
    "            return best\n",
    "\n",
    "        ans=0\n",
    "        for i in range(m):\n",
    "            for j in range(n):\n",
    "                ans=max(ans,dfs(i,j))\n",
    "        return ans"
   ]
  },
  {
   "cell_type": "markdown",
   "metadata": {},
   "source": [
    "### lc329 矩阵中的最长递增路径  codetop   难题"
   ]
  },
  {
   "cell_type": "code",
   "execution_count": null,
   "metadata": {},
   "outputs": [],
   "source": [
    "# 329 矩阵中的最长递增路径  codetop   难题\n",
    "class Solution: \n",
    "    def longestIncreasingPath(self, matrix: List[List[int]]) -> int:\n",
    "        # 深度优先搜索+记忆缓存\n",
    "        if not matrix:\n",
    "            return 0\n",
    "        m,n=len(matrix),len(matrix[0])\n",
    "        \n",
    "        def dfs(i,j):\n",
    "            if memo[i][j]!=0:\n",
    "                return memo[i][j]\n",
    "            memo[i][j]+=1\n",
    "            for x, y in [(1,0),(-1,0),(0,1),(0,-1)]:\n",
    "                newi,newj=i+x,j+y\n",
    "                if 0<=newi<m and 0<=newj<n and matrix[newi][newj]>matrix[i][j]:\n",
    "                    memo[i][j]=max(memo[i][j],dfs(newi,newj)+1)\n",
    "            return memo[i][j]\n",
    "\n",
    "        memo=[[0]*n for _ in range(m)]\n",
    "        res=0\n",
    "        for i in range(m):\n",
    "            for j in range(n):\n",
    "                res=max(res,dfs(i,j))\n",
    "        return res"
   ]
  },
  {
   "cell_type": "markdown",
   "metadata": {},
   "source": [
    "# 字符串"
   ]
  },
  {
   "cell_type": "markdown",
   "metadata": {},
   "source": [
    "### lc8 字符串转换整数 atoi codetop"
   ]
  },
  {
   "cell_type": "code",
   "execution_count": null,
   "metadata": {},
   "outputs": [],
   "source": [
    "#8 字符串转换整数 atoi codetop\n",
    "#自动机\n",
    "class Solution:\n",
    "    def myAtoi(self, s: str) -> int:\n",
    "        automaton=Automaton()\n",
    "        for c in s:\n",
    "            automaton.handel(c)\n",
    "        return automaton.ans if automaton.flag else -automaton.ans\n",
    "\n",
    "class Automaton:\n",
    "    #采用自动机的思路解决\n",
    "    def __init__(self):\n",
    "        self.state='start'\n",
    "        self.ans=0\n",
    "        self.flag=1\n",
    "        #字符串的处理可能会涉及到复杂的流程以及条件情况，代码会冗余，所以采用自动机的方式，根据前一个字符的状态以及当前字符得出当前字符的状态，从而进行对应的处理流程，时间复杂度O(N)\n",
    "        self.state_table={\n",
    "            'start':['start','signed','in_number','end'],\n",
    "            'signed':['end','end','in_number','end'],\n",
    "            'in_number':['end','end','in_number','end'],\n",
    "            'end':['end','end','end','end']\n",
    "        }\n",
    "    def get_index(self,c):\n",
    "        if c.isspace():\n",
    "            return 0\n",
    "        if c=='+'or c=='-':\n",
    "            return 1\n",
    "        if c.isdigit():\n",
    "            return 2\n",
    "        return 3\n",
    "\n",
    "    def handel(self,c):\n",
    "        self.state=self.state_table[self.state][self.get_index(c)]\n",
    "        if self.state=='signed':\n",
    "            self.flag=1 if c=='+' else 0\n",
    "        if self.state=='in_number':\n",
    "            self.ans=self.ans*10+int(c)\n",
    "            self.ans=min(2**31-1,self.ans) if self.flag else min(2**31,self.ans)"
   ]
  },
  {
   "cell_type": "markdown",
   "metadata": {},
   "source": [
    "### lc165 比较版本号 codetop"
   ]
  },
  {
   "cell_type": "code",
   "execution_count": null,
   "metadata": {},
   "outputs": [],
   "source": [
    "# 165 比较版本号 codetop\n",
    "class Solution:\n",
    "    def compareVersion(self, version1: str, version2: str) -> int:\n",
    "        # version1=[int(ver) for ver in version1.split('.')]\n",
    "        # version2=[int(ver) for ver in version2.split('.')]\n",
    "        # for v1,v2 in zip_longest(version1,version2,fillvalue=0):\n",
    "        #     if v1<v2:\n",
    "        #         return -1\n",
    "        #     elif v1>v2:\n",
    "        #         return 1\n",
    "        # return 0\n",
    "\n",
    "        #指针，时间复杂度O(m+n) 空间复杂度O(1)\n",
    "        m,n=len(version1),len(version2)\n",
    "        i,j=0,0\n",
    "        while i<m or j<n:\n",
    "            x=0\n",
    "            while i<m and version1[i]!='.':\n",
    "                x=x*10+(ord(version1[i])-ord('0'))\n",
    "                i+=1\n",
    "            i+=1\n",
    "\n",
    "            y=0\n",
    "            while j<n and version2[j]!='.':\n",
    "                y=y*10+(ord(version2[j])-ord('0'))\n",
    "                j+=1\n",
    "            j+=1\n",
    "\n",
    "            if x!=y:\n",
    "                return 1 if x>y else -1\n",
    "        return 0          "
   ]
  },
  {
   "cell_type": "markdown",
   "metadata": {},
   "source": [
    "### lc468 验证ip地址 codetop"
   ]
  },
  {
   "cell_type": "code",
   "execution_count": null,
   "metadata": {},
   "outputs": [],
   "source": [
    "# 468 验证ip地址 codetop\n",
    "class Solution:\n",
    "    def validIPAddress(self, queryIP: str) -> str:\n",
    "        def validIPv4(queryIP):\n",
    "            ips=queryIP.split('.')\n",
    "            for ip in ips:\n",
    "                if len(ip)==0 or len(ip)>3:\n",
    "                    return 'Neither'\n",
    "                if len(ip)>1 and ip[0]=='0' or not ip.isdigit() or int(ip)>255:\n",
    "                    return 'Neither'\n",
    "            return 'IPv4'\n",
    "        def validIPv6(queryIP):\n",
    "            ips=queryIP.split(':')\n",
    "            legalchar='0123456789abcdefABCDEF'\n",
    "            for ip in ips:\n",
    "                if len(ip)==0 or len(ip)>4 or not all(c in legalchar for c in ip):\n",
    "                    return 'Neither'\n",
    "            return 'IPv6'\n",
    "            \n",
    "        if queryIP.count('.')==3:\n",
    "            return validIPv4(queryIP)\n",
    "        elif queryIP.count(':')==7:\n",
    "            return validIPv6(queryIP)\n",
    "        else:\n",
    "            return 'Neither'"
   ]
  },
  {
   "cell_type": "markdown",
   "metadata": {},
   "source": [
    "### lc14 最长公共前缀 codetop"
   ]
  },
  {
   "cell_type": "code",
   "execution_count": null,
   "metadata": {},
   "outputs": [],
   "source": [
    "# 14 最长公共前缀 codetop\n",
    "class Solution:\n",
    "    def longestCommonPrefix(self, strs: List[str]) -> str:\n",
    "        def getPrefix(str1,str2):\n",
    "            n=min(len(str1),len(str2))\n",
    "            i=0\n",
    "            while i<n and str1[i]==str2[i]:\n",
    "                i+=1\n",
    "            return str1[0:i]\n",
    "\n",
    "        if not strs:\n",
    "            return ''\n",
    "        prefix=strs[0]\n",
    "        for i in range(1,len(strs)):\n",
    "            prefix=getPrefix(prefix,strs[i]) #两两获取公共前缀\n",
    "            if prefix=='':\n",
    "                break\n",
    "        return prefix"
   ]
  },
  {
   "cell_type": "markdown",
   "metadata": {},
   "source": [
    "# 遍历"
   ]
  },
  {
   "cell_type": "markdown",
   "metadata": {},
   "source": [
    "### lc54 螺旋矩阵 codetop"
   ]
  },
  {
   "cell_type": "code",
   "execution_count": null,
   "metadata": {},
   "outputs": [],
   "source": [
    "# 54 螺旋矩阵 codetop\n",
    "class Solution:\n",
    "    def spiralOrder(self, matrix: List[List[int]]) -> List[int]:\n",
    "        if not matrix or not matrix[0]:\n",
    "            return []\n",
    "        #由外层到内层依次遍历\n",
    "        #设置每一层的4个顶点，并更新\n",
    "        left,right,top,bottom=0,len(matrix[0])-1,0,len(matrix)-1\n",
    "        res=[]\n",
    "        while left<=right and top<=bottom:\n",
    "            #上边\n",
    "            for column in range(left,right+1):\n",
    "                res.append(matrix[top][column])\n",
    "            # 右边\n",
    "            for row in range(top+1,bottom+1):\n",
    "                res.append(matrix[row][right])\n",
    "            if left<right and top<bottom:#下边和左边是倒序遍历，最后一层时上边右边已经访问了，就不需要下边左边了\n",
    "                # 下边\n",
    "                for column in range(right-1,left,-1):\n",
    "                    res.append(matrix[bottom][column])\n",
    "                # 左边\n",
    "                for row in range(bottom,top,-1):\n",
    "                    res.append(matrix[row][left])\n",
    "            left,right,top,bottom=left+1,right-1,top+1,bottom-1\n",
    "        return res"
   ]
  },
  {
   "cell_type": "markdown",
   "metadata": {},
   "source": [
    "### lc59 螺旋矩阵2 codetop"
   ]
  },
  {
   "cell_type": "code",
   "execution_count": null,
   "metadata": {},
   "outputs": [],
   "source": [
    "# 59 螺旋矩阵2 codetop\n",
    "class Solution:\n",
    "    def generateMatrix(self, n: int) -> List[List[int]]:\n",
    "        #由外层到内层遍历\n",
    "        mat=[[0]*n for _ in range(n)]\n",
    "        left,right,top,bottom=0,n-1,0,n-1 \n",
    "        num=1\n",
    "        while left<=right and top<=bottom:\n",
    "            #根据4个点确定每一层的起始位置，四个边依次进行遍历\n",
    "            for column in range(left,right+1):\n",
    "                mat[top][column]=num\n",
    "                num+=1\n",
    "            for row in range(top+1,bottom+1):\n",
    "                mat[row][right]=num\n",
    "                num+=1\n",
    "            if left<right and top<bottom:\n",
    "                for column in range(right-1,left,-1):\n",
    "                    mat[bottom][column]=num\n",
    "                    num+=1\n",
    "                for row in range(bottom,top,-1):\n",
    "                    mat[row][left]=num\n",
    "                    num+=1\n",
    "            left,right,top,bottom=left+1,right-1,top+1,bottom-1 #更新4个点，进入下一层的遍历\n",
    "        return mat"
   ]
  },
  {
   "cell_type": "markdown",
   "metadata": {},
   "source": [
    "### lc498 对角线遍历 codetop"
   ]
  },
  {
   "cell_type": "code",
   "execution_count": null,
   "metadata": {},
   "outputs": [],
   "source": [
    "# 498 对角线遍历 codetop\n",
    "class Solution:\n",
    "    def findDiagonalOrder(self, mat: List[List[int]]) -> List[int]:\n",
    "        #1、通过一个布尔变量控制对角线的方向，每次反转即可\n",
    "        #2、超出边界，该条对角线遍历结束\n",
    "        #3、结束时，更新下一条对角线遍历的首部元素，并更新遍历方向\n",
    "        if not mat or not mat[0]:\n",
    "            return []\n",
    "        m,n=len(mat),len(mat[0])\n",
    "        i,j=0,0\n",
    "        res=[]\n",
    "        direction=1 #向上遍历\n",
    "        while i<m and j<n:\n",
    "            res.append(mat[i][j])\n",
    "            new_i=i+(-1 if direction else 1) #将要遍历的下一个元素\n",
    "            new_j=j+(1 if direction else -1)\n",
    "            if new_i<0 or new_i==m or new_j<0 or new_j==n:#越界之后，需要遍历下一条对角线，更新首部元素，并反转方向\n",
    "                if direction:\n",
    "                    if j==n-1: #到达边界时，向下是下一条对角线的首部元素\n",
    "                        i+=1\n",
    "                    if j<n-1:# 没到达边界时，向右\n",
    "                        j+=1\n",
    "                else:\n",
    "                    if i==m-1: #到达边界时，向右\n",
    "                        j+=1\n",
    "                    if i<m-1: #没到达边界时，向下\n",
    "                        i+=1\n",
    "                direction=1-direction\n",
    "            else:\n",
    "                i,j=new_i,new_j\n",
    "        return res"
   ]
  },
  {
   "cell_type": "markdown",
   "metadata": {},
   "source": [
    "# 数学题"
   ]
  },
  {
   "cell_type": "markdown",
   "metadata": {},
   "source": [
    "### lc7 整数反转 codetop"
   ]
  },
  {
   "cell_type": "code",
   "execution_count": null,
   "metadata": {},
   "outputs": [],
   "source": [
    "# 7 整数反转 codetop\n",
    "class Solution:\n",
    "    def reverse(self, x: int) -> int:\n",
    "        #数学;通过取余数的方式弹出尾部数字，通过取商的方式得到去除尾部数字之前的数\n",
    "        INT_MIN=-2**31 \n",
    "        INT_MAX=2**31-1\n",
    "        res=0\n",
    "        while x!=0:\n",
    "            if res<INT_MIN//10+1 or res>INT_MAX//10:#注意负数时取商是向下取整\n",
    "                return 0\n",
    "            digit=x%10\n",
    "            if x<0 and digit>0:#Python中负数取余数为正的\n",
    "                digit-=10\n",
    "            x=(x-digit)//10 #注意负数时取商是向下取整\n",
    "            res=res*10+digit\n",
    "        return res"
   ]
  },
  {
   "cell_type": "markdown",
   "metadata": {},
   "source": [
    "### lc384 打乱数组 codetop"
   ]
  },
  {
   "cell_type": "code",
   "execution_count": null,
   "metadata": {},
   "outputs": [],
   "source": [
    "# 384 打乱数组 codetop\n",
    "class Solution:\n",
    "    #洗牌算法\n",
    "    #本质上是排列的思路，不放回的随机抽取元素，打乱数组出现的概率是相等的\n",
    "\n",
    "    def __init__(self, nums: List[int]):\n",
    "        self.nums=nums\n",
    "        self.original=nums.copy()\n",
    "        \n",
    "    def reset(self) -> List[int]:\n",
    "        return self.original\n",
    "        \n",
    "    def shuffle(self) -> List[int]:\n",
    "        for i in range(len(self.nums)):\n",
    "            j=random.randrange(i,len(self.nums))\n",
    "            self.nums[i],self.nums[j]=self.nums[j],self.nums[i]\n",
    "        return self.nums"
   ]
  },
  {
   "cell_type": "markdown",
   "metadata": {},
   "source": [
    "### lc50 POW(X,N) codetop"
   ]
  },
  {
   "cell_type": "code",
   "execution_count": null,
   "metadata": {},
   "outputs": [],
   "source": [
    "# 50 POW(X,N) codetop\n",
    "class Solution:\n",
    "    def myPow(self, x: float, n: int) -> float:\n",
    "        # 递归的思想，例求x^64只需要求x^32 的平方即可\n",
    "        def dfs(n):\n",
    "            if n==0:\n",
    "                return 1\n",
    "            y=dfs(n//2)\n",
    "            return y*y if n%2==0 else y*y*x\n",
    "        return dfs(n) if n>=0 else 1/dfs(-n)\n"
   ]
  },
  {
   "cell_type": "markdown",
   "metadata": {},
   "source": [
    "### lc69 x的平方根 codetop"
   ]
  },
  {
   "cell_type": "code",
   "execution_count": null,
   "metadata": {},
   "outputs": [],
   "source": [
    "# 69 x的平方根 codetop\n",
    "class Solution:\n",
    "    def mySqrt(self, x: int) -> int:\n",
    "        '''\n",
    "        由于计算机无法存储浮点数的精确值,而指数函数和对数函数的参数和返回值均为浮点数，因此运算过程中会存在误差。计算结果会比精确结果小，误差在10（-11）次方，因此最后对res res+1进行一个判断即可\n",
    "        '''\n",
    "        if x==0:\n",
    "            return 0\n",
    "        res=int(math.exp(0.5*math.log(x)))\n",
    "        return res+1 if (res+1)**2<=x else res"
   ]
  },
  {
   "cell_type": "markdown",
   "metadata": {},
   "source": [
    "### lc169 多数元素  codetop"
   ]
  },
  {
   "cell_type": "code",
   "execution_count": null,
   "metadata": {},
   "outputs": [],
   "source": [
    "# 169 多数元素  codetop\n",
    "class Solution:\n",
    "    def majorityElement(self, nums: List[int]) -> int:\n",
    "        #counter，返回众数\n",
    "        # count=collections.Counter(nums)\n",
    "        # return max(count,key=count.get)\n",
    "\n",
    "        # 摩尔投票法:每次count==0时，置为当前的num，经过实例证明发现，count与众数计数的value具备相似的性质，要么相同，要么相反，最后value一定是正数，对应的num为众数，count非负，则遍历到最后count==value，则candidate中存贮的就是众数\n",
    "        candidate=nums[0]\n",
    "        count=0\n",
    "        for num in nums:\n",
    "            if count==0:\n",
    "                candidate=num\n",
    "            count+=(1 if candidate==num else -1)\n",
    "        return candidate"
   ]
  },
  {
   "cell_type": "markdown",
   "metadata": {},
   "source": [
    "### lc48 旋转矩阵 90度 codetop"
   ]
  },
  {
   "cell_type": "code",
   "execution_count": null,
   "metadata": {},
   "outputs": [],
   "source": [
    "# 48 旋转矩阵 90度 codetop\n",
    "class Solution:\n",
    "    def rotate(self, matrix: List[List[int]]) -> None:\n",
    "        \"\"\"\n",
    "        Do not return anything, modify matrix in-place instead.\n",
    "        \"\"\"\n",
    "        #顺时针旋转90度，先水平翻转，在主对角线翻转\n",
    "        n=len(matrix)\n",
    "        #水平翻转\n",
    "        for i in range(n//2):\n",
    "            for j in range(n):\n",
    "                matrix[i][j],matrix[n-i-1][j]=matrix[n-i-1][j],matrix[i][j]\n",
    "        #主对角线翻转\n",
    "        for i in range(n):\n",
    "            for j in range(i):\n",
    "                matrix[i][j],matrix[j][i]=matrix[j][i],matrix[i][j]\n",
    "        return matrix"
   ]
  },
  {
   "cell_type": "markdown",
   "metadata": {},
   "source": [
    "### lc415 字符串相加 codetop"
   ]
  },
  {
   "cell_type": "code",
   "execution_count": null,
   "metadata": {},
   "outputs": [],
   "source": [
    "# 415 字符串相加 codetop\n",
    "class Solution:\n",
    "    def addStrings(self, num1: str, num2: str) -> str:\n",
    "        i=len(num1)-1\n",
    "        j=len(num2)-1\n",
    "        carry=0\n",
    "        res=''\n",
    "        while i>=0 or j>=0:\n",
    "            a=int(num1[i]) if i>=0 else 0\n",
    "            b=int(num2[j]) if j>=0 else 0\n",
    "            sums=(a+b+carry)%10\n",
    "            carry=(a+b+carry)//10\n",
    "            res=str(sums)+res\n",
    "            i-=1\n",
    "            j-=1\n",
    "        return res if not carry else '1'+res"
   ]
  },
  {
   "cell_type": "markdown",
   "metadata": {},
   "source": [
    "### 补充题 36进制加法"
   ]
  },
  {
   "cell_type": "code",
   "execution_count": null,
   "metadata": {
    "scrolled": true
   },
   "outputs": [],
   "source": [
    "# 补充题 36进制加法\n",
    "def getInt(ch):\n",
    "    if '0'<=ch<='9':\n",
    "        return int(ch)\n",
    "    else:\n",
    "        return ord(ch)-ord('a')+10\n",
    "def getchar(num):\n",
    "    if 0<=num<=9:\n",
    "        return str(num)\n",
    "    else:\n",
    "        return chr(num-10+ord('a'))\n",
    "def add36str(num1,num2):\n",
    "    i=len(num1)-1\n",
    "    j=len(num2)-1\n",
    "    carry=0\n",
    "    res=''\n",
    "    while i>=0 or j>=0:\n",
    "        a=getInt(num1[i]) if i>=0 else 0\n",
    "        b=getInt(num2[i]) if j>=0 else 0\n",
    "        sums=(a+b+carry)%36\n",
    "        carry=(a+b+carry)//36\n",
    "        res=getchar(sums)+res\n",
    "        i-=1\n",
    "        j-=1\n",
    "    return res if not carry else str(carry)+res"
   ]
  },
  {
   "cell_type": "markdown",
   "metadata": {},
   "source": [
    "### lc136 只出现一次的数字  codetop"
   ]
  },
  {
   "cell_type": "code",
   "execution_count": null,
   "metadata": {},
   "outputs": [],
   "source": [
    "# 136 只出现一次的数字  codetop\n",
    "class Solution:\n",
    "    def singleNumber(self, nums: List[int]) -> int:\n",
    "        #运用异或运算的定律\n",
    "        #1. 0^a=a\n",
    "        #2. a^a=0\n",
    "        #3.异或满足交换律和结合律，b^a^b=b^b^a=0^a=a\n",
    "        #所以此题中全部元素异或运算后即为仅出现过一次的数字\n",
    "        res=0\n",
    "        for num in nums:\n",
    "            res=res^num\n",
    "        return res"
   ]
  },
  {
   "cell_type": "markdown",
   "metadata": {},
   "source": [
    "### lc41 缺失第一个正数  codetop   难题"
   ]
  },
  {
   "cell_type": "code",
   "execution_count": null,
   "metadata": {},
   "outputs": [],
   "source": [
    "# 41 缺失第一个正数  codetop   难题\n",
    "class Solution:\n",
    "    def firstMissingPositive(self, nums: List[int]) -> int:\n",
    "        #判断1到n的数字是否出现在对应位置上\n",
    "        if 1 not in nums:\n",
    "            return 1\n",
    "        n=len(nums)\n",
    "        for i in range(n):#不考虑负数以及大于n的数字，这里把它变成1\n",
    "            if nums[i]<=0 or nums[i]>n:\n",
    "                nums[i]=1\n",
    "        for i in range(n):#对于1到n出现的数字，对应索引位置的数进行标识，这里使用﹣号\n",
    "            a=abs(nums[i])-1\n",
    "            nums[a]=-abs(nums[a])\n",
    "        for i in range(n):#第一个大于0的数字，也就是未被标识的数字，该索引位置对应的就是缺失的第一个正数\n",
    "            if nums[i]>0:\n",
    "                return i+1\n",
    "        return n+1   #1到n都不缺失，则返回n+1"
   ]
  },
  {
   "cell_type": "markdown",
   "metadata": {},
   "source": [
    "### lc224 基本计算器 难题 codetop"
   ]
  },
  {
   "cell_type": "code",
   "execution_count": null,
   "metadata": {},
   "outputs": [],
   "source": [
    "# 224 基本计算器 难题 codetop\n",
    "class Solution:\n",
    "    def calculate(self, s: str) -> int:  \n",
    "        def calc(nums,ops):\n",
    "            if len(nums)<2 or not ops:\n",
    "                return\n",
    "            b,a=nums.pop(),nums.pop()\n",
    "            op=ops.pop()\n",
    "            if op=='+':\n",
    "                ans=a+b \n",
    "            elif op=='-':\n",
    "                ans=a-b \n",
    "            elif op=='*':\n",
    "                ans=a*b \n",
    "            elif op=='/':\n",
    "                ans=a/b\n",
    "            nums.append(ans)\n",
    "\n",
    "        n=len(s)\n",
    "        ops=[]\n",
    "        nums=[]\n",
    "        nums.append(0)\n",
    "        order={\n",
    "            '+':1,\n",
    "            '-':1,\n",
    "            '*':2,\n",
    "            '/':2\n",
    "        }\n",
    "\n",
    "        i=0\n",
    "        while i<n:\n",
    "            ch=s[i]\n",
    "            if ch==' ':\n",
    "                i+=1\n",
    "                continue\n",
    "            if ch=='(':\n",
    "                ops.append('(')\n",
    "            elif ch==')':\n",
    "                while ops:\n",
    "                    if ops[-1]!='(':\n",
    "                        calc(nums,ops)\n",
    "                    else:\n",
    "                        ops.pop()\n",
    "                        break\n",
    "            elif ch.isdigit():\n",
    "                j=i\n",
    "                num=0\n",
    "                while j<n and s[j].isdigit():\n",
    "                    num=num*10+int(s[j])\n",
    "                    j+=1\n",
    "                nums.append(num)\n",
    "                i=j-1\n",
    "            else:\n",
    "                if i>0 and s[i-1] in '(+-':\n",
    "                    nums.append(0)\n",
    "                else:\n",
    "                    while ops and ops[-1]!='(':\n",
    "                        presign=ops[-1]\n",
    "                        if order[presign]>=order[ch]:\n",
    "                            calc(nums,ops)\n",
    "                        else:\n",
    "                            break\n",
    "                ops.append(ch)\n",
    "            i+=1\n",
    "        while ops and ops[-1]!='(':\n",
    "            calc(nums,ops)\n",
    "        return nums[-1]"
   ]
  },
  {
   "cell_type": "markdown",
   "metadata": {},
   "source": [
    "### lc470 rand7实现rand10  codetop"
   ]
  },
  {
   "cell_type": "code",
   "execution_count": null,
   "metadata": {},
   "outputs": [],
   "source": [
    "# 470 rand7实现rand10  codetop\n",
    "# The rand7() API is already defined for you.\n",
    "# def rand7():\n",
    "# @return a random integer in the range 1 to 7\n",
    "\n",
    "class Solution:\n",
    "    def rand10(self):\n",
    "        \"\"\"\n",
    "        :rtype: int\n",
    "        \"\"\"\n",
    "        while True:\n",
    "            num=(rand7()-1)*7+rand7()\n",
    "            if num<=40:\n",
    "                return 1+num%10\n",
    "            num=(num-40-1)*7+rand7()\n",
    "            if num<=60:\n",
    "                return 1+num%10\n",
    "            num=(num-60-1)*7+rand7()\n",
    "            if num<=20:\n",
    "                return 1+num%10\n",
    "                \n",
    "            "
   ]
  },
  {
   "cell_type": "markdown",
   "metadata": {},
   "source": [
    "# 拓扑排序 "
   ]
  },
  {
   "cell_type": "markdown",
   "metadata": {},
   "source": [
    "### 补充题1 codetop"
   ]
  },
  {
   "cell_type": "code",
   "execution_count": null,
   "metadata": {},
   "outputs": [],
   "source": [
    "# 补充题1\n",
    "# 现有n个编译项，编号为0 ~ n-1。给定一个二维数组，表示编译项之间有依赖关系。如[0, 1]表示1依赖于0。\n",
    "#若存在循环依赖则返回空；不存在依赖则返回可行的编译顺序。\n",
    "\n",
    "#知识点：拓扑排序：\n",
    "# 拓扑排序算法过程：\n",
    "# 选择图中一个入度为0的点，记录下来\n",
    "# 在图中删除该点和所有以它为起点的边\n",
    "# 重复1和2，直到图为空或没有入度为0的点。\n",
    "# 如果最后记录的res长度！=节点数，则存在循环依赖，否则不存在循环依赖，res数组顺序即为编译顺序\n",
    "\n",
    "\n",
    "def haveCircularDependency(n,prerequisites):\n",
    "    graph=[[] for _ in range(n)]\n",
    "    indeg=[0]*n\n",
    "    res=[]\n",
    "    queue=[]\n",
    "    \n",
    "    for pre in prerequisites: #构建拓扑图，并更新节点的入度\n",
    "        a,b=pre[0],pre[1]\n",
    "        graph[a].append(b)  #代表a->b\n",
    "        indeg[b]+=1 #则b的入度加1\n",
    "        \n",
    "    for i in range(n):# 入度为0的入栈，等待删除入度为0的节点\n",
    "        if indeg[i]==0:\n",
    "            queue.append(i)\n",
    "            \n",
    "    while queue: #删除入度为0的节点，并append进res\n",
    "        i=queue.pop(0)\n",
    "        res.append(i)\n",
    "        for j in graph[i]: #入度为0的元素指向的所有节点的入度-1\n",
    "            indeg[j]-=1\n",
    "            if indeg[j]==0:\n",
    "                queue.append(j)\n",
    "                \n",
    "    if len(res)==n:#不存在环，也就是不存在循环检测依赖\n",
    "        return res\n",
    "    else:\n",
    "        return [] #存在循环依赖"
   ]
  },
  {
   "cell_type": "markdown",
   "metadata": {},
   "source": [
    "### lc207 课程表 codetop"
   ]
  },
  {
   "cell_type": "code",
   "execution_count": null,
   "metadata": {},
   "outputs": [],
   "source": [
    "# 207 课程表 codetop\n",
    "class Solution:\n",
    "    def canFinish(self, numCourses: int, prerequisites: List[List[int]]) -> bool:\n",
    "        #拓扑排序\n",
    "        grah=[[] for _ in range(numCourses)]\n",
    "        indeg=[0]*numCourses\n",
    "        res=[]\n",
    "        queue=[]\n",
    "\n",
    "        for pre in prerequisites:\n",
    "            a,b=pre[0],pre[1]\n",
    "            grah[b].append(a)\n",
    "            indeg[a]+=1\n",
    "        for i in range(numCourses):\n",
    "            if indeg[i]==0:\n",
    "                queue.append(i)\n",
    "        while queue:\n",
    "            course=queue.pop(0)\n",
    "            res.append(course)\n",
    "            for j in grah[course]:\n",
    "                indeg[j]-=1\n",
    "                if indeg[j]==0:\n",
    "                    queue.append(j)\n",
    "        if len(res)==numCourses:\n",
    "            return True\n",
    "\n",
    "        return False\n"
   ]
  },
  {
   "cell_type": "code",
   "execution_count": null,
   "metadata": {},
   "outputs": [],
   "source": []
  },
  {
   "cell_type": "code",
   "execution_count": null,
   "metadata": {},
   "outputs": [],
   "source": [
    "#剑指offer66\n",
    "class Solution:\n",
    "    def constructArr(self, a: List[int]) -> List[int]:\n",
    "        b, tmp = [1] * len(a), 1\n",
    "        for i in range(1, len(a)):\n",
    "            b[i] = b[i - 1] * a[i - 1] # 下三角\n",
    "        for i in range(len(a) - 2, -1, -1):\n",
    "            tmp *= a[i + 1]            # 上三角\n",
    "            b[i] *= tmp                # 下三角 * 上三角\n",
    "        return b"
   ]
  },
  {
   "cell_type": "code",
   "execution_count": null,
   "metadata": {},
   "outputs": [],
   "source": [
    "#459 重复的子字符串\n",
    "class Solution:\n",
    "    def repeatedSubstringPattern(self, s: str) -> bool:\n",
    "        n = len(s)\n",
    "        for i in range(1, n // 2 + 1):\n",
    "            if n % i == 0:\n",
    "                if all(s[j] == s[j - i] for j in range(i, n)):\n",
    "                    return True\n",
    "        return False"
   ]
  }
 ],
 "metadata": {
  "kernelspec": {
   "display_name": "Python 3 (ipykernel)",
   "language": "python",
   "name": "python3"
  },
  "language_info": {
   "codemirror_mode": {
    "name": "ipython",
    "version": 3
   },
   "file_extension": ".py",
   "mimetype": "text/x-python",
   "name": "python",
   "nbconvert_exporter": "python",
   "pygments_lexer": "ipython3",
   "version": "3.9.12"
  },
  "toc": {
   "base_numbering": 1,
   "nav_menu": {},
   "number_sections": true,
   "sideBar": true,
   "skip_h1_title": false,
   "title_cell": "Table of Contents",
   "title_sidebar": "Contents",
   "toc_cell": false,
   "toc_position": {
    "height": "calc(100% - 180px)",
    "left": "10px",
    "top": "150px",
    "width": "447px"
   },
   "toc_section_display": true,
   "toc_window_display": true
  }
 },
 "nbformat": 4,
 "nbformat_minor": 4
}
